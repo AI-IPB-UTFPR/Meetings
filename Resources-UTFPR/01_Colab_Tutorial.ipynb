{
  "nbformat": 4,
  "nbformat_minor": 0,
  "metadata": {
    "colab": {
      "name": "Colab-Tutorial.ipynb",
      "version": "0.3.2",
      "views": {},
      "default_view": {},
      "provenance": [],
      "collapsed_sections": []
    },
    "kernelspec": {
      "name": "python3",
      "display_name": "Python 3"
    },
    "accelerator": "GPU"
  },
  "cells": [
    {
      "metadata": {
        "id": "kumrB-3tUEXI",
        "colab_type": "text"
      },
      "cell_type": "markdown",
      "source": [
        "## Google Colab Introdução/dicas\n",
        "\n",
        "Referências: [Hello Colab ](https://colab.research.google.com/notebooks/welcome.ipynb#scrollTo=-Rh3-Vt9Nev9),[External Date](https://colab.research.google.com/notebooks/io.ipynb#scrollTo=3Jv6jh6HEpP8) , [Google Colab Free GPU Tutorial](https://medium.com/deep-learning-turkey/google-colab-free-gpu-tutorial-e113627b9f5d).\n",
        "\n",
        "Desenvolvido por [Edresson Casanova](https://github.com/Edresson) para o grupo de Inteligência Artificial [AI-IPB-UTFPR](https://github.com/AI-IPB-UTFPR)."
      ]
    },
    {
      "metadata": {
        "id": "YzjDL7QhdAcw",
        "colab_type": "text"
      },
      "cell_type": "markdown",
      "source": [
        "## Conteúdo"
      ]
    },
    {
      "metadata": {
        "id": "gdlFWNtiT-7o",
        "colab_type": "toc"
      },
      "cell_type": "markdown",
      "source": [
        ">[Google Colab Introdução/dicas](#scrollTo=kumrB-3tUEXI)\n",
        "\n",
        ">>[Conteúdo](#scrollTo=YzjDL7QhdAcw)\n",
        "\n",
        ">[Introdução](#scrollTo=SgScHZc1JHQX)\n",
        "\n",
        ">>[Qual a CPU disponivel?](#scrollTo=AsjCicSKyqOd)\n",
        "\n",
        ">>[Quanto de Memoria Ram tenho disponivel ?](#scrollTo=TvLFWjzLzJzD)\n",
        "\n",
        ">[Executar comandos shell](#scrollTo=8PGnueugICKb)\n",
        "\n",
        ">[Configurando GPU para uso](#scrollTo=S6wB39YKriEQ)\n",
        "\n",
        ">[Uploading files from your local file system](#scrollTo=BaCkyg5CV5jF)\n",
        "\n",
        ">[Google Drive Integração](#scrollTo=plupzMLZnQ1Q)\n",
        "\n"
      ]
    },
    {
      "metadata": {
        "id": "SgScHZc1JHQX",
        "colab_type": "text"
      },
      "cell_type": "markdown",
      "source": [
        "# Introdução"
      ]
    },
    {
      "metadata": {
        "id": "Y-_PaAwfJTnN",
        "colab_type": "text"
      },
      "cell_type": "markdown",
      "source": [
        "O Google Colab é   um projeto de pesquisa do Google criado para ajudar a disseminar o aprendizado de máquina. É um ambiente de Jupyter notebook  que não requer configuração para usar e é executado inteiramente na nuvem.O Jupyter é, segundo o site do projeto, uma aplicação web de código aberto que permite criar e compartilhar documentos que contenham código vivo, equações, visualizações e texto explicativo. Ele é um dos principais ambientes para a análise de dados, onde você pode usar não apenas Python, mas várias outras linguagens como você pode ver [aqui](https://github.com/jupyter/jupyter/wiki/Jupyter-kernels).\n",
        "\n",
        "Os cadernos colaborativos são armazenados no Google Drive e podem ser compartilhados exatamente como você faria com o Google Docs or Sheets.\n",
        "\n",
        "Basicamente no Google Colab o Jupyter roda em uma vps, cada conta possui uma vps propria, que após alguns minutos sem uso é formatada, para assim diminuir o uso de Disco, além de ser totalmente free, o google colab fornece GPU (Tesla K80) para melhorar a performance de treinamento, o uso maximo permitido por dia é de 12 horas.\n"
      ]
    },
    {
      "metadata": {
        "id": "AsjCicSKyqOd",
        "colab_type": "text"
      },
      "cell_type": "markdown",
      "source": [
        "## Qual a CPU disponivel?\n",
        "Você pode visualizar executando o codigo abaixo"
      ]
    },
    {
      "metadata": {
        "id": "4uY4oHquy1dI",
        "colab_type": "code",
        "colab": {
          "autoexec": {
            "startup": false,
            "wait_interval": 0
          }
        }
      },
      "cell_type": "code",
      "source": [
        "!cat /proc/cpuinfo"
      ],
      "execution_count": 0,
      "outputs": []
    },
    {
      "metadata": {
        "id": "TvLFWjzLzJzD",
        "colab_type": "text"
      },
      "cell_type": "markdown",
      "source": [
        "## Quanto de Memoria Ram tenho disponivel ?\n",
        "Você pode obter essa informação executando o codigo abaixo."
      ]
    },
    {
      "metadata": {
        "id": "5vNOcrvXzjjG",
        "colab_type": "code",
        "colab": {
          "autoexec": {
            "startup": false,
            "wait_interval": 0
          }
        }
      },
      "cell_type": "code",
      "source": [
        "!cat /proc/meminfo"
      ],
      "execution_count": 0,
      "outputs": []
    },
    {
      "metadata": {
        "id": "8PGnueugICKb",
        "colab_type": "text"
      },
      "cell_type": "markdown",
      "source": [
        "# Executar comandos shell"
      ]
    },
    {
      "metadata": {
        "id": "PZb64zOt5hgK",
        "colab_type": "text"
      },
      "cell_type": "markdown",
      "source": [
        "Para executar comandos shell no  Colab utiliza-se a expressão **!** antes do comando shell, exemplos:"
      ]
    },
    {
      "metadata": {
        "id": "xOWs36nprZe7",
        "colab_type": "code",
        "colab": {
          "autoexec": {
            "startup": false,
            "wait_interval": 0
          }
        }
      },
      "cell_type": "code",
      "source": [
        "\n",
        "!ls\n",
        "!uname -a \n",
        "!cat /etc/lsb-release # ver a distribuição do linux \n",
        "!apt update #atualiza o repositorio\n",
        "!pip install --upgrade pip #upgrade pip"
      ],
      "execution_count": 0,
      "outputs": []
    },
    {
      "metadata": {
        "id": "S6wB39YKriEQ",
        "colab_type": "text"
      },
      "cell_type": "markdown",
      "source": [
        "# Configurando GPU para uso\n",
        "Por padrão o Colab utiliza CPU, para alterar essa configuração basta ir no menu **Runtime>Change runtime type** , altere a opção **Hardware Accerelator** para GPU, nesta aba ainda é possivel alterar a versão do python, que deseja utilizar para rodar seus codigo no Jupyter. Para testar se a GPU está sendo usada execute o codigo abaixo , se tudo ocorrer bem deve mostrar 2 Devices, CPU e GPU, incluindo no final o nome da GPU.\n",
        "\n",
        "Nota: Se quando você mudar as configurações de CPU para GPU você receber o seguinte erro \n",
        "\n",
        "```\n",
        "Failed to assign a backend\n",
        "No backend with GPU available. Would you like to use a runtime with no accelerator?\n",
        "\n",
        "```\n",
        "significa que todas as GPU disponibilizadas pelo google estão sendo usadas, você deve tentar mais tarde.\n",
        "\n",
        "\n"
      ]
    },
    {
      "metadata": {
        "id": "cEbal1X_vqbY",
        "colab_type": "code",
        "colab": {
          "autoexec": {
            "startup": false,
            "wait_interval": 0
          }
        }
      },
      "cell_type": "code",
      "source": [
        "\n",
        "from tensorflow.python.client import device_lib\n",
        "device_lib.list_local_devices()\n"
      ],
      "execution_count": 0,
      "outputs": []
    },
    {
      "metadata": {
        "id": "BaCkyg5CV5jF",
        "colab_type": "text"
      },
      "cell_type": "markdown",
      "source": [
        "#Upload Local de arquivos\n",
        "\n",
        "`files.upload` retorna um dicionário dos arquivos que foram carregados.\n",
        "O dicionário é codificado pelo nome do arquivo, o valor é o dado que foi carregado. Execute o codigo abaixo para testar o upload local.\n",
        "\n",
        "Nota: essa função não funciona no firefox, tente usando google chrome  ou chromium."
      ]
    },
    {
      "metadata": {
        "id": "vz-jH8T_Uk2c",
        "colab_type": "code",
        "colab": {
          "autoexec": {
            "startup": false,
            "wait_interval": 0
          }
        }
      },
      "cell_type": "code",
      "source": [
        "from google.colab import files\n",
        "\n",
        "uploaded = files.upload()\n",
        "\n",
        "for fn in uploaded.keys():\n",
        "  print('User uploaded file \"{name}\" with length {length} bytes'.format(\n",
        "      name=fn, length=len(uploaded[fn])))"
      ],
      "execution_count": 0,
      "outputs": []
    },
    {
      "metadata": {
        "id": "Pit-djOnkxUM",
        "colab_type": "text"
      },
      "cell_type": "markdown",
      "source": [
        "Após o upload é necessário utilizar a variavel uploaded para abrir o arquivo, desta forma é necessário fazer upload novamente a cada nova execução do script. Para driblar isso existe uma função não oficial, que basicamente pega a lista da variavel uploaded e cria um novo arquivo porém esse no diretorio atual, dessa forma é possivel abrir normalmente sem o uso da variavel uploaded,  outra vantagem que só será necessário upar novamente o arquivo se você sair e sua maquina foi formatada, ou provavelmente se o seu periodo de 12 horas for esgotado."
      ]
    },
    {
      "metadata": {
        "id": "iSz9usx3lYDd",
        "colab_type": "code",
        "colab": {
          "autoexec": {
            "startup": false,
            "wait_interval": 0
          }
        }
      },
      "cell_type": "code",
      "source": [
        "# upload files, usando está função o arquivo é baixado normalmente dispensando o uso da variavel uploaded para abrir o arquivo. .\n",
        "def upload_files():\n",
        "  from google.colab import files\n",
        "  uploaded = files.upload()\n",
        "  for k, v in uploaded.items():\n",
        "    open(k, 'wb').write(v)\n",
        "  return list(uploaded.keys())\n",
        "\n",
        "print(\"arquivos upados:\",upload_files())"
      ],
      "execution_count": 0,
      "outputs": []
    },
    {
      "metadata": {
        "id": "plupzMLZnQ1Q",
        "colab_type": "text"
      },
      "cell_type": "markdown",
      "source": [
        "# Google Drive Integração"
      ]
    },
    {
      "metadata": {
        "id": "exGCjkHbn4UX",
        "colab_type": "text"
      },
      "cell_type": "markdown",
      "source": [
        "A ideia é rodar a aplicação sem se preocupar com salvar seus arquivos, nem mesmo baixar, a ideia é montar o google Drive no Colab, Primeiro crie uma pasta no seu google Drive, eu criei a pasta **DeepLearning**. Após é necessário instalar algumas dependências no Colab, rode o codigo abaixo, após irá aparecer um campo para você digitar, acima deste campo tem um link, clique nele e de as permissões solicitadas, após dar as premissões abrirá uma pagina contendo um codigo copie o codigo, cole no campo abaixo do link, e precione Enter."
      ]
    },
    {
      "metadata": {
        "id": "_QmNNT35n3C7",
        "colab_type": "code",
        "colab": {
          "autoexec": {
            "startup": false,
            "wait_interval": 0
          }
        }
      },
      "cell_type": "code",
      "source": [
        "!apt-get install -y -qq software-properties-common python-software-properties module-init-tools\n",
        "!add-apt-repository -y ppa:alessandro-strada/ppa 2>&1 > /dev/null\n",
        "!apt-get update -qq 2>&1 > /dev/null\n",
        "!apt-get -y install -qq google-drive-ocamlfuse fuse\n",
        "from google.colab import auth\n",
        "auth.authenticate_user()\n",
        "from oauth2client.client import GoogleCredentials\n",
        "creds = GoogleCredentials.get_application_default()\n",
        "import getpass\n",
        "!google-drive-ocamlfuse -headless -id={creds.client_id} -secret={creds.client_secret} < /dev/null 2>&1 | grep URL\n",
        "vcode = getpass.getpass()\n",
        "!echo {vcode} | google-drive-ocamlfuse -headless -id={creds.client_id} -secret={creds.client_secret}"
      ],
      "execution_count": 0,
      "outputs": []
    },
    {
      "metadata": {
        "id": "5S7BgztZqQ7d",
        "colab_type": "text"
      },
      "cell_type": "markdown",
      "source": [
        "Se você receber o seguinte Warning **Warning: apt-key output should not be parsed (stdout is not a terminal)**, significa que você já autenticou, dessa forma apenas ignore este Warning e passe para o proximo passo.\n",
        "\n",
        "Agora já estamos com as permissões e dependências, só precisamos criar uma pasta e montar nosso drive :), execute o codigo abaixo.\n"
      ]
    },
    {
      "metadata": {
        "id": "uiGUPfHTquZ2",
        "colab_type": "code",
        "colab": {
          "autoexec": {
            "startup": false,
            "wait_interval": 0
          }
        }
      },
      "cell_type": "code",
      "source": [
        "! mkdir -p drive \n",
        "! google-drive-ocamlfuse drive\n"
      ],
      "execution_count": 0,
      "outputs": []
    },
    {
      "metadata": {
        "id": "oRaFy5bvq0JD",
        "colab_type": "text"
      },
      "cell_type": "markdown",
      "source": [
        "Você pode acessar as pastas do seu drive, basicamente todo seu drive está montado na pasta drive/ , é importante ressaltar que o comando **!cd** não funciona corretamente no Colab, mas podemos navegar nos diretorios usando a biblioteca **os** do python, execute o codigo abaixo e você entrará na pasta de seu drive."
      ]
    },
    {
      "metadata": {
        "id": "PFjk19nqr7ot",
        "colab_type": "code",
        "colab": {
          "autoexec": {
            "startup": false,
            "wait_interval": 0
          }
        }
      },
      "cell_type": "code",
      "source": [
        "# necessário para navegar nos diretorios do Colab\n",
        "import os\n",
        "\n",
        "!mkdir drive/DeepLearning\n",
        "\n",
        "\n",
        "os.chdir('drive/DeepLearning') # Entra na pasta DeepLearning criada no Google Drive. \n",
        "!echo \"arquivo teste, criado para testar a Integração do Colab com o Google Drive\" > test.txt # cria o arquivo test.txt\n",
        "print('O arquivo test.txt foi criado na pasta DeepLearning de seu Drive, verifique!')\n",
        "!ls # lista os arquivos da pasta DeepLearning\n",
        "os.chdir('..')#retorna para a pasta drive\n",
        "os.chdir('..')#retorna para a pasta raiz do Colab\n"
      ],
      "execution_count": 0,
      "outputs": []
    },
    {
      "metadata": {
        "id": "GA3BEZVRuxN0",
        "colab_type": "text"
      },
      "cell_type": "markdown",
      "source": [
        "Agora vamos excluir o arquivo **test.txt** criado em nosso Drive, após listando os arquivos do diretorio DeepLearning do nosso Drive, **Cuidado com  **rm -rf **você pode apagar diretorio inteiros, incluindo subpastas de seu drive..** "
      ]
    },
    {
      "metadata": {
        "id": "Bn4YkGc_uRx1",
        "colab_type": "code",
        "colab": {
          "autoexec": {
            "startup": false,
            "wait_interval": 0
          }
        }
      },
      "cell_type": "code",
      "source": [
        "!rm drive/DeepLearning/test.txt\n",
        "!ls -l drive/DeepLearning/ #listando os arquivos da pasta DeepLearning, sem estar no diretorio"
      ],
      "execution_count": 0,
      "outputs": []
    },
    {
      "metadata": {
        "id": "IRcSfgRVv4B-",
        "colab_type": "text"
      },
      "cell_type": "markdown",
      "source": [
        "Suponho que você tenha um projeto que está rodando em seu computador pessoal, para passar para o Colab você apenas deve upar na pasta DeepLearning de seu Drive, após supondo que o script se chama **exemplo.py**, você pode executar sem mudar de diretorio como no exemplo:"
      ]
    },
    {
      "metadata": {
        "id": "tXhimfSTxkxz",
        "colab_type": "code",
        "colab": {
          "autoexec": {
            "startup": false,
            "wait_interval": 0
          }
        }
      },
      "cell_type": "code",
      "source": [
        "!python3 drive/DeepLearning/exemplo.py"
      ],
      "execution_count": 0,
      "outputs": []
    },
    {
      "metadata": {
        "id": "IeP3ukjtxzsq",
        "colab_type": "text"
      },
      "cell_type": "markdown",
      "source": [
        "È importante lembrar que a autenticação com o Drive deve ser feita toda vez que você entrar em sua conta após um periodo inativo, isso ocorre pois a maquina é formata se estiver alguns minutos sem trabalhar. Para saber se é necesário autenticar e montar novamente seu Drive você pode dar um **!ls** se a pasta **drive** não existir, será necessario."
      ]
    }
  ]
}