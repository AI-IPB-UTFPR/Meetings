{
  "nbformat": 4,
  "nbformat_minor": 0,
  "metadata": {
    "colab": {
      "name": "Python3 Intro.ipynb",
      "version": "0.3.2",
      "views": {},
      "default_view": {},
      "provenance": [],
      "collapsed_sections": [
        "qmVNlpRTKwyO",
        "g0JOzv95K4jO",
        "SKFoS0HbUZWm",
        "QwfNtfjuZgS4"
      ]
    },
    "kernelspec": {
      "name": "python3",
      "display_name": "Python 3"
    }
  },
  "cells": [
    {
      "metadata": {
        "id": "kumrB-3tUEXI",
        "colab_type": "text"
      },
      "cell_type": "markdown",
      "source": [
        "# Python3 Introdução/dicas\n",
        "\n",
        "Basedo em [Learn Python in X minutes](https://learnxinyminutes.com/docs/python3/), [Python Features and Tricks](http://sahandsaba.com/thirty-python-language-features-and-tricks-you-may-not-know.html), [](http://www.cogsci.rpi.edu/~destem/igd/python_cheat_sheet.pdf), [Python Basics](http://www.cogsci.rpi.edu/~destem/igd/python_cheat_sheet.pdf), [Python Crash Course](http://ehmatthes.github.io/pcc/cheatsheets/README.html), [Life](https://pastebin.com/gb7Mw7gg).\n",
        "\n",
        "Primeiro, [o que é Python](https://docs.python.org/3/faq/general.html#what-is-python)?\n",
        "\n",
        "[Ponto de vista em relação a sua performance.](https://twitter.com/randal_olson/status/958389805259214849)\n",
        "\n",
        "Desenvolvido por [Thiago Alves](https://github.com/AvsThiago) para o grupo de Inteligência Artificial [AI-IPB-UTFPR](https://github.com/IA-ESTiG-IPB)."
      ]
    },
    {
      "metadata": {
        "id": "YzjDL7QhdAcw",
        "colab_type": "text"
      },
      "cell_type": "markdown",
      "source": [
        "## Conteúdo"
      ]
    },
    {
      "metadata": {
        "id": "gdlFWNtiT-7o",
        "colab_type": "toc"
      },
      "cell_type": "markdown",
      "source": [
        ">[Python3 Introdução/dicas](#scrollTo=kumrB-3tUEXI)\n",
        "\n",
        ">>[Conteúdo](#scrollTo=YzjDL7QhdAcw)\n",
        "\n",
        ">>[Comentários](#scrollTo=sGpSmcIhinvA)\n",
        "\n",
        ">>[Como importar módulos e easter eggs](#scrollTo=RvE9Dj6ZdLGQ)\n",
        "\n",
        ">>[Variáveis](#scrollTo=H2bqSzlf0Fep)\n",
        "\n",
        ">>[Função Print e Input](#scrollTo=8V9av8Vu1jYF)\n",
        "\n",
        ">>[Tipos primititivos e operadores](#scrollTo=oU0Cxq1FkdOB)\n",
        "\n",
        ">>>[A matemática funciona como deveria](#scrollTo=UQ75R87ClH9n)\n",
        "\n",
        ">>>[Observações sobre divisão](#scrollTo=BRBuTNhBl2SO)\n",
        "\n",
        ">>>[Exponenciação e precedência](#scrollTo=7UxM4oj6oobT)\n",
        "\n",
        ">>>[Booleans](#scrollTo=69zz8I8DpNh9)\n",
        "\n",
        ">>>[Strings](#scrollTo=hlfMs9mkvdtz)\n",
        "\n",
        ">>[Collections (Listas, Dicionários, Conjuntos e Tuplas)](#scrollTo=X881cmwX-8Dd)\n",
        "\n",
        ">>>[Listas](#scrollTo=qmVNlpRTKwyO)\n",
        "\n",
        ">>>[Tuplas](#scrollTo=g0JOzv95K4jO)\n",
        "\n",
        ">>>[Conjuntos](#scrollTo=SKFoS0HbUZWm)\n",
        "\n",
        ">>>[Dicionários](#scrollTo=QwfNtfjuZgS4)\n",
        "\n",
        ">>>[Comprehensions](#scrollTo=Od4BOK_6UeLq)\n",
        "\n",
        ">>[Desvio Condicional](#scrollTo=25FQyWp1f-Iv)\n",
        "\n",
        ">>[Loops](#scrollTo=OCHtp2Roi7zh)\n",
        "\n",
        ">>[Tratamento de Exceções](#scrollTo=Su0mrbiMqxG4)\n",
        "\n",
        ">>[Gerenciamento de arquivos](#scrollTo=9tHwuZnp-QER)\n",
        "\n",
        ">>[Funções](#scrollTo=zv2-TH8u8fiJ)\n",
        "\n",
        ">>>[Funções de bloco](#scrollTo=4OC6UkZ89FRH)\n",
        "\n",
        ">>>[Funções anônimas (expressões lambda)](#scrollTo=yAOr7crB9JCl)\n",
        "\n",
        ">>[Classes](#scrollTo=L6eWJ2TkZMx-)\n",
        "\n",
        ">>[Outras fontes](#scrollTo=PF42kp_8dM79)\n",
        "\n"
      ]
    },
    {
      "metadata": {
        "id": "sGpSmcIhinvA",
        "colab_type": "text"
      },
      "cell_type": "markdown",
      "source": [
        "## Comentários"
      ]
    },
    {
      "metadata": {
        "id": "03NI_QzvjAJy",
        "colab_type": "code",
        "colab": {
          "autoexec": {
            "startup": false,
            "wait_interval": 0
          }
        }
      },
      "cell_type": "code",
      "source": [
        "# utilize o simbolo no inicio desta linha para fazer um comentário assim"
      ],
      "execution_count": 0,
      "outputs": []
    },
    {
      "metadata": {
        "id": "Tfn8gsb8jJab",
        "colab_type": "code",
        "colab": {
          "autoexec": {
            "startup": false,
            "wait_interval": 0
          }
        }
      },
      "cell_type": "code",
      "source": [
        "\"\"\"\n",
        "  Utilizando três \"s você pode criar comentários de\n",
        "  múltiplas linhas.\n",
        "  Esta estrutura é utilizada com frequência pra a criação de documentação.\n",
        "\"\"\""
      ],
      "execution_count": 0,
      "outputs": []
    },
    {
      "metadata": {
        "id": "RvE9Dj6ZdLGQ",
        "colab_type": "text"
      },
      "cell_type": "markdown",
      "source": [
        "## Como importar módulos e easter eggs"
      ]
    },
    {
      "metadata": {
        "id": "3e7C-TPifRir",
        "colab_type": "code",
        "colab": {
          "autoexec": {
            "startup": false,
            "wait_interval": 0
          },
          "output_extras": [
            {
              "item_id": 1
            }
          ],
          "base_uri": "https://localhost:8080/",
          "height": 34
        },
        "outputId": "eb4a7819-bfae-4dd4-8a8b-313ba794a396",
        "executionInfo": {
          "status": "ok",
          "timestamp": 1521329941790,
          "user_tz": 0,
          "elapsed": 538,
          "user": {
            "displayName": "Thiago Alves",
            "photoUrl": "//lh5.googleusercontent.com/-nRKZ3rt2Ziw/AAAAAAAAAAI/AAAAAAAAArI/B_wfrnbsgxU/s50-c-k-no/photo.jpg",
            "userId": "107747883410881429000"
          }
        }
      },
      "cell_type": "code",
      "source": [
        "# primeiro import\n",
        "import __hello__"
      ],
      "execution_count": 3,
      "outputs": [
        {
          "output_type": "stream",
          "text": [
            "Hello world!\n"
          ],
          "name": "stdout"
        }
      ]
    },
    {
      "metadata": {
        "id": "fbNMwLdbWoYE",
        "colab_type": "code",
        "colab": {
          "autoexec": {
            "startup": false,
            "wait_interval": 0
          },
          "output_extras": [
            {
              "item_id": 1
            }
          ],
          "base_uri": "https://localhost:8080/",
          "height": 374
        },
        "outputId": "c8a2785d-cd28-4e3a-ba7d-db9704ba4e51",
        "executionInfo": {
          "status": "ok",
          "timestamp": 1521329944140,
          "user_tz": 0,
          "elapsed": 554,
          "user": {
            "displayName": "Thiago Alves",
            "photoUrl": "//lh5.googleusercontent.com/-nRKZ3rt2Ziw/AAAAAAAAAAI/AAAAAAAAArI/B_wfrnbsgxU/s50-c-k-no/photo.jpg",
            "userId": "107747883410881429000"
          }
        }
      },
      "cell_type": "code",
      "source": [
        "# conheça o Zen of Python\n",
        "import this"
      ],
      "execution_count": 4,
      "outputs": [
        {
          "output_type": "stream",
          "text": [
            "The Zen of Python, by Tim Peters\n",
            "\n",
            "Beautiful is better than ugly.\n",
            "Explicit is better than implicit.\n",
            "Simple is better than complex.\n",
            "Complex is better than complicated.\n",
            "Flat is better than nested.\n",
            "Sparse is better than dense.\n",
            "Readability counts.\n",
            "Special cases aren't special enough to break the rules.\n",
            "Although practicality beats purity.\n",
            "Errors should never pass silently.\n",
            "Unless explicitly silenced.\n",
            "In the face of ambiguity, refuse the temptation to guess.\n",
            "There should be one-- and preferably only one --obvious way to do it.\n",
            "Although that way may not be obvious at first unless you're Dutch.\n",
            "Now is better than never.\n",
            "Although never is often better than *right* now.\n",
            "If the implementation is hard to explain, it's a bad idea.\n",
            "If the implementation is easy to explain, it may be a good idea.\n",
            "Namespaces are one honking great idea -- let's do more of those!\n"
          ],
          "name": "stdout"
        }
      ]
    },
    {
      "metadata": {
        "id": "j6-PO07KbF8d",
        "colab_type": "code",
        "colab": {
          "autoexec": {
            "startup": false,
            "wait_interval": 0
          }
        }
      },
      "cell_type": "code",
      "source": [
        "# esse não funciona no colab :/ teste no console \n",
        "import antigravity"
      ],
      "execution_count": 0,
      "outputs": []
    },
    {
      "metadata": {
        "id": "TY0IT5phf0hT",
        "colab_type": "code",
        "colab": {
          "autoexec": {
            "startup": false,
            "wait_interval": 0
          }
        }
      },
      "cell_type": "code",
      "source": [
        "# importe o módulo braces para poder utilizar chaves em seu código Python :)  \n",
        "from __future__ import braces"
      ],
      "execution_count": 0,
      "outputs": []
    },
    {
      "metadata": {
        "id": "gZ_hKvpMf0ls",
        "colab_type": "code",
        "colab": {
          "autoexec": {
            "startup": false,
            "wait_interval": 0
          }
        }
      },
      "cell_type": "code",
      "source": [
        "# utilize 'as'  para dar um nome mais simples ao módulo (alias)\n",
        "import numpy as np"
      ],
      "execution_count": 0,
      "outputs": []
    },
    {
      "metadata": {
        "id": "wQu01Jq2Tufo",
        "colab_type": "code",
        "colab": {
          "autoexec": {
            "startup": false,
            "wait_interval": 0
          }
        }
      },
      "cell_type": "code",
      "source": [
        "# saber os métodos e atributos de um módulo\n",
        "import math\n",
        "dir(math)"
      ],
      "execution_count": 0,
      "outputs": []
    },
    {
      "metadata": {
        "id": "H2bqSzlf0Fep",
        "colab_type": "text"
      },
      "cell_type": "markdown",
      "source": [
        "## Variáveis"
      ]
    },
    {
      "metadata": {
        "id": "eRDmdLAx0r00",
        "colab_type": "code",
        "colab": {
          "autoexec": {
            "startup": false,
            "wait_interval": 0
          }
        }
      },
      "cell_type": "code",
      "source": [
        "# variáveis não precisam ser declaradas antes de seu uso, e seu tipo de dados não precisa ser pré-definido\n",
        "uma_variavel = 1\n",
        "uma_variavel = 1.0\n",
        "uma_variavel = 'Ela pode receber qualquer tipo de dado depois da sua criação'\n",
        "uma_variavel = True\n",
        "uma_variavel = uma_variavel"
      ],
      "execution_count": 0,
      "outputs": []
    },
    {
      "metadata": {
        "id": "AMWTXb3G-H5M",
        "colab_type": "code",
        "colab": {
          "autoexec": {
            "startup": false,
            "wait_interval": 0
          }
        }
      },
      "cell_type": "code",
      "source": [
        "# o uso de uma variável sem valor atribuído gerará uma exception NameError\n",
        "uma_variavel = uma_variavel_nao_utilizada_anteriormente"
      ],
      "execution_count": 0,
      "outputs": []
    },
    {
      "metadata": {
        "id": "8V9av8Vu1jYF",
        "colab_type": "text"
      },
      "cell_type": "markdown",
      "source": [
        "## Função Print e Input"
      ]
    },
    {
      "metadata": {
        "id": "hUkM17J42rHQ",
        "colab_type": "code",
        "colab": {
          "autoexec": {
            "startup": false,
            "wait_interval": 0
          },
          "output_extras": [
            {
              "item_id": 1
            }
          ],
          "base_uri": "https://localhost:8080/",
          "height": 85
        },
        "outputId": "392321ac-e299-4b38-eda0-e42eee0f48dc",
        "executionInfo": {
          "status": "ok",
          "timestamp": 1521329964690,
          "user_tz": 0,
          "elapsed": 555,
          "user": {
            "displayName": "Thiago Alves",
            "photoUrl": "//lh5.googleusercontent.com/-nRKZ3rt2Ziw/AAAAAAAAAAI/AAAAAAAAArI/B_wfrnbsgxU/s50-c-k-no/photo.jpg",
            "userId": "107747883410881429000"
          }
        }
      },
      "cell_type": "code",
      "source": [
        "# exemplo de print\n",
        "var_teste = 'Pessoa'\n",
        "print('olá ' + var_teste)\n",
        "\n",
        "# a linha abaixo não é executada...\n",
        "#print('olá' + 1)\n",
        "\n",
        "# ...mas com , sim...\n",
        "print('olá', 1)\n",
        "\n",
        "# ...para utilizar o + é necessário o valor inteiro ser convertido para string\n",
        "print('olá' + str(1))\n",
        "\n",
        "# por padrão, uma nova linha é colocada no final do print, mas isto pode ser alterado\n",
        "print('print', end='...')\n",
        "print('continuação')"
      ],
      "execution_count": 8,
      "outputs": [
        {
          "output_type": "stream",
          "text": [
            "olá Pessoa\n",
            "olá 1\n",
            "olá1\n",
            "print...continuação\n"
          ],
          "name": "stdout"
        }
      ]
    },
    {
      "metadata": {
        "id": "aKseBV1v_K1e",
        "colab_type": "code",
        "colab": {
          "autoexec": {
            "startup": false,
            "wait_interval": 0
          },
          "output_extras": [
            {
              "item_id": 2
            }
          ],
          "base_uri": "https://localhost:8080/",
          "height": 51
        },
        "outputId": "8fc1e372-a2fa-40b8-967f-719ee24e539f",
        "executionInfo": {
          "status": "ok",
          "timestamp": 1521329975950,
          "user_tz": 0,
          "elapsed": 8735,
          "user": {
            "displayName": "Thiago Alves",
            "photoUrl": "//lh5.googleusercontent.com/-nRKZ3rt2Ziw/AAAAAAAAAAI/AAAAAAAAArI/B_wfrnbsgxU/s50-c-k-no/photo.jpg",
            "userId": "107747883410881429000"
          }
        }
      },
      "cell_type": "code",
      "source": [
        "# forma de receber entradas pelo console\n",
        "var_que_recebera_a_entrada = input(\"Em que você está pensando? \")\n",
        "\n",
        "print(var_que_recebera_a_entrada)"
      ],
      "execution_count": 9,
      "outputs": [
        {
          "output_type": "stream",
          "text": [
            "Em que você está pensando? Nada não\n",
            "Nada não\n"
          ],
          "name": "stdout"
        }
      ]
    },
    {
      "metadata": {
        "id": "oU0Cxq1FkdOB",
        "colab_type": "text"
      },
      "cell_type": "markdown",
      "source": [
        "## Tipos primititivos e operadores"
      ]
    },
    {
      "metadata": {
        "id": "UQ75R87ClH9n",
        "colab_type": "text"
      },
      "cell_type": "markdown",
      "source": [
        "### A matemática funciona como deveria"
      ]
    },
    {
      "metadata": {
        "id": "atrI-WWDlG2h",
        "colab_type": "code",
        "colab": {
          "autoexec": {
            "startup": false,
            "wait_interval": 0
          },
          "output_extras": [
            {
              "item_id": 1
            }
          ],
          "base_uri": "https://localhost:8080/",
          "height": 34
        },
        "outputId": "e84366ef-2eaa-48e9-c17e-0a3c88fef99b",
        "executionInfo": {
          "status": "ok",
          "timestamp": 1521329979039,
          "user_tz": 0,
          "elapsed": 587,
          "user": {
            "displayName": "Thiago Alves",
            "photoUrl": "//lh5.googleusercontent.com/-nRKZ3rt2Ziw/AAAAAAAAAAI/AAAAAAAAArI/B_wfrnbsgxU/s50-c-k-no/photo.jpg",
            "userId": "107747883410881429000"
          }
        }
      },
      "cell_type": "code",
      "source": [
        "1+1"
      ],
      "execution_count": 10,
      "outputs": [
        {
          "output_type": "execute_result",
          "data": {
            "text/plain": [
              "2"
            ]
          },
          "metadata": {
            "tags": []
          },
          "execution_count": 10
        }
      ]
    },
    {
      "metadata": {
        "id": "onrcCKyald9d",
        "colab_type": "code",
        "colab": {
          "autoexec": {
            "startup": false,
            "wait_interval": 0
          },
          "output_extras": [
            {
              "item_id": 1
            }
          ],
          "base_uri": "https://localhost:8080/",
          "height": 34
        },
        "outputId": "43f8e708-dcf8-4a29-f7f2-761be1924780",
        "executionInfo": {
          "status": "ok",
          "timestamp": 1521329980715,
          "user_tz": 0,
          "elapsed": 535,
          "user": {
            "displayName": "Thiago Alves",
            "photoUrl": "//lh5.googleusercontent.com/-nRKZ3rt2Ziw/AAAAAAAAAAI/AAAAAAAAArI/B_wfrnbsgxU/s50-c-k-no/photo.jpg",
            "userId": "107747883410881429000"
          }
        }
      },
      "cell_type": "code",
      "source": [
        "2-1"
      ],
      "execution_count": 11,
      "outputs": [
        {
          "output_type": "execute_result",
          "data": {
            "text/plain": [
              "1"
            ]
          },
          "metadata": {
            "tags": []
          },
          "execution_count": 11
        }
      ]
    },
    {
      "metadata": {
        "id": "_ItIpn7ilhG7",
        "colab_type": "code",
        "colab": {
          "autoexec": {
            "startup": false,
            "wait_interval": 0
          },
          "output_extras": [
            {
              "item_id": 1
            }
          ],
          "base_uri": "https://localhost:8080/",
          "height": 34
        },
        "outputId": "6b564717-9df2-4deb-d429-228395ea390b",
        "executionInfo": {
          "status": "ok",
          "timestamp": 1521329983831,
          "user_tz": 0,
          "elapsed": 529,
          "user": {
            "displayName": "Thiago Alves",
            "photoUrl": "//lh5.googleusercontent.com/-nRKZ3rt2Ziw/AAAAAAAAAAI/AAAAAAAAArI/B_wfrnbsgxU/s50-c-k-no/photo.jpg",
            "userId": "107747883410881429000"
          }
        }
      },
      "cell_type": "code",
      "source": [
        "5*5"
      ],
      "execution_count": 13,
      "outputs": [
        {
          "output_type": "execute_result",
          "data": {
            "text/plain": [
              "25"
            ]
          },
          "metadata": {
            "tags": []
          },
          "execution_count": 13
        }
      ]
    },
    {
      "metadata": {
        "id": "ZKqmEFrsll_R",
        "colab_type": "code",
        "colab": {
          "autoexec": {
            "startup": false,
            "wait_interval": 0
          },
          "output_extras": [
            {
              "item_id": 1
            }
          ],
          "base_uri": "https://localhost:8080/",
          "height": 34
        },
        "outputId": "d5b1884d-2032-4853-eddd-8234a637ade7",
        "executionInfo": {
          "status": "ok",
          "timestamp": 1521329982916,
          "user_tz": 0,
          "elapsed": 564,
          "user": {
            "displayName": "Thiago Alves",
            "photoUrl": "//lh5.googleusercontent.com/-nRKZ3rt2Ziw/AAAAAAAAAAI/AAAAAAAAArI/B_wfrnbsgxU/s50-c-k-no/photo.jpg",
            "userId": "107747883410881429000"
          }
        }
      },
      "cell_type": "code",
      "source": [
        "10/3"
      ],
      "execution_count": 12,
      "outputs": [
        {
          "output_type": "execute_result",
          "data": {
            "text/plain": [
              "3.3333333333333335"
            ]
          },
          "metadata": {
            "tags": []
          },
          "execution_count": 12
        }
      ]
    },
    {
      "metadata": {
        "id": "BRBuTNhBl2SO",
        "colab_type": "text"
      },
      "cell_type": "markdown",
      "source": [
        "### Observações sobre divisão"
      ]
    },
    {
      "metadata": {
        "id": "IpTPPBpKmLjb",
        "colab_type": "code",
        "colab": {
          "autoexec": {
            "startup": false,
            "wait_interval": 0
          },
          "output_extras": [
            {
              "item_id": 1
            }
          ],
          "base_uri": "https://localhost:8080/",
          "height": 34
        },
        "outputId": "1290fda2-5f20-4063-8533-816b2f3138f9",
        "executionInfo": {
          "status": "ok",
          "timestamp": 1521329986820,
          "user_tz": 0,
          "elapsed": 544,
          "user": {
            "displayName": "Thiago Alves",
            "photoUrl": "//lh5.googleusercontent.com/-nRKZ3rt2Ziw/AAAAAAAAAAI/AAAAAAAAArI/B_wfrnbsgxU/s50-c-k-no/photo.jpg",
            "userId": "107747883410881429000"
          }
        }
      },
      "cell_type": "code",
      "source": [
        "\"\"\"\n",
        "utilize // para ter um resultado truncado, caso ambos valores sejam inteiros\n",
        "o resultado será inteiro\n",
        "\"\"\"\n",
        "5//2"
      ],
      "execution_count": 14,
      "outputs": [
        {
          "output_type": "execute_result",
          "data": {
            "text/plain": [
              "2"
            ]
          },
          "metadata": {
            "tags": []
          },
          "execution_count": 14
        }
      ]
    },
    {
      "metadata": {
        "id": "9n6hup2TmYiQ",
        "colab_type": "code",
        "colab": {
          "autoexec": {
            "startup": false,
            "wait_interval": 0
          },
          "output_extras": [
            {
              "item_id": 1
            }
          ],
          "base_uri": "https://localhost:8080/",
          "height": 34
        },
        "outputId": "aee356b4-81c4-47ed-f9b8-b7a9121b7404",
        "executionInfo": {
          "status": "ok",
          "timestamp": 1521329991984,
          "user_tz": 0,
          "elapsed": 540,
          "user": {
            "displayName": "Thiago Alves",
            "photoUrl": "//lh5.googleusercontent.com/-nRKZ3rt2Ziw/AAAAAAAAAAI/AAAAAAAAArI/B_wfrnbsgxU/s50-c-k-no/photo.jpg",
            "userId": "107747883410881429000"
          }
        }
      },
      "cell_type": "code",
      "source": [
        "# o mesmo para valores negativos\n",
        "-5//2"
      ],
      "execution_count": 18,
      "outputs": [
        {
          "output_type": "execute_result",
          "data": {
            "text/plain": [
              "-3"
            ]
          },
          "metadata": {
            "tags": []
          },
          "execution_count": 18
        }
      ]
    },
    {
      "metadata": {
        "id": "XaUGievXmert",
        "colab_type": "code",
        "colab": {
          "autoexec": {
            "startup": false,
            "wait_interval": 0
          },
          "output_extras": [
            {
              "item_id": 1
            }
          ],
          "base_uri": "https://localhost:8080/",
          "height": 34
        },
        "outputId": "a5d1e9f0-bccb-46de-aa4f-0f33066dbca3",
        "executionInfo": {
          "status": "ok",
          "timestamp": 1521329991207,
          "user_tz": 0,
          "elapsed": 639,
          "user": {
            "displayName": "Thiago Alves",
            "photoUrl": "//lh5.googleusercontent.com/-nRKZ3rt2Ziw/AAAAAAAAAAI/AAAAAAAAArI/B_wfrnbsgxU/s50-c-k-no/photo.jpg",
            "userId": "107747883410881429000"
          }
        }
      },
      "cell_type": "code",
      "source": [
        "# o resultado será float para divisões entre floats...\n",
        "5.0//3.0"
      ],
      "execution_count": 17,
      "outputs": [
        {
          "output_type": "execute_result",
          "data": {
            "text/plain": [
              "1.0"
            ]
          },
          "metadata": {
            "tags": []
          },
          "execution_count": 17
        }
      ]
    },
    {
      "metadata": {
        "id": "CGYAdLiBm1O-",
        "colab_type": "code",
        "colab": {
          "autoexec": {
            "startup": false,
            "wait_interval": 0
          },
          "output_extras": [
            {
              "item_id": 1
            }
          ],
          "base_uri": "https://localhost:8080/",
          "height": 34
        },
        "outputId": "f1a4205a-09ac-4826-93c8-33bff68a34aa",
        "executionInfo": {
          "status": "ok",
          "timestamp": 1521329990197,
          "user_tz": 0,
          "elapsed": 542,
          "user": {
            "displayName": "Thiago Alves",
            "photoUrl": "//lh5.googleusercontent.com/-nRKZ3rt2Ziw/AAAAAAAAAAI/AAAAAAAAArI/B_wfrnbsgxU/s50-c-k-no/photo.jpg",
            "userId": "107747883410881429000"
          }
        }
      },
      "cell_type": "code",
      "source": [
        "# ...ou inteiro e float\n",
        "5//2.0"
      ],
      "execution_count": 16,
      "outputs": [
        {
          "output_type": "execute_result",
          "data": {
            "text/plain": [
              "2.0"
            ]
          },
          "metadata": {
            "tags": []
          },
          "execution_count": 16
        }
      ]
    },
    {
      "metadata": {
        "id": "tdufNblenQ7o",
        "colab_type": "code",
        "colab": {
          "autoexec": {
            "startup": false,
            "wait_interval": 0
          },
          "output_extras": [
            {
              "item_id": 1
            }
          ],
          "base_uri": "https://localhost:8080/",
          "height": 34
        },
        "outputId": "ef3663d6-72a8-4160-f95c-4a330c9983b2",
        "executionInfo": {
          "status": "ok",
          "timestamp": 1521329989284,
          "user_tz": 0,
          "elapsed": 535,
          "user": {
            "displayName": "Thiago Alves",
            "photoUrl": "//lh5.googleusercontent.com/-nRKZ3rt2Ziw/AAAAAAAAAAI/AAAAAAAAArI/B_wfrnbsgxU/s50-c-k-no/photo.jpg",
            "userId": "107747883410881429000"
          }
        }
      },
      "cell_type": "code",
      "source": [
        "# o resto da divisão pode ser obtido da seginte forma\n",
        "7 % 5"
      ],
      "execution_count": 15,
      "outputs": [
        {
          "output_type": "execute_result",
          "data": {
            "text/plain": [
              "2"
            ]
          },
          "metadata": {
            "tags": []
          },
          "execution_count": 15
        }
      ]
    },
    {
      "metadata": {
        "id": "7UxM4oj6oobT",
        "colab_type": "text"
      },
      "cell_type": "markdown",
      "source": [
        "### Exponenciação e precedência"
      ]
    },
    {
      "metadata": {
        "id": "UfFZVN3Vn3AK",
        "colab_type": "code",
        "colab": {
          "autoexec": {
            "startup": false,
            "wait_interval": 0
          },
          "output_extras": [
            {
              "item_id": 1
            }
          ],
          "base_uri": "https://localhost:8080/",
          "height": 34
        },
        "cellView": "code",
        "outputId": "44a34ba9-dbb1-4c78-b845-da737108c016",
        "executionInfo": {
          "status": "ok",
          "timestamp": 1521329995124,
          "user_tz": 0,
          "elapsed": 558,
          "user": {
            "displayName": "Thiago Alves",
            "photoUrl": "//lh5.googleusercontent.com/-nRKZ3rt2Ziw/AAAAAAAAAAI/AAAAAAAAArI/B_wfrnbsgxU/s50-c-k-no/photo.jpg",
            "userId": "107747883410881429000"
          }
        }
      },
      "cell_type": "code",
      "source": [
        "# exponenciação funciona assim: x**y sendo x a base e y o expoente\n",
        "2**5"
      ],
      "execution_count": 20,
      "outputs": [
        {
          "output_type": "execute_result",
          "data": {
            "text/plain": [
              "32"
            ]
          },
          "metadata": {
            "tags": []
          },
          "execution_count": 20
        }
      ]
    },
    {
      "metadata": {
        "id": "pIvS7CqDo4q6",
        "colab_type": "code",
        "colab": {
          "autoexec": {
            "startup": false,
            "wait_interval": 0
          },
          "output_extras": [
            {
              "item_id": 1
            }
          ],
          "base_uri": "https://localhost:8080/",
          "height": 34
        },
        "outputId": "25b95502-1217-4c4d-8f33-183675328341",
        "executionInfo": {
          "status": "ok",
          "timestamp": 1521329994136,
          "user_tz": 0,
          "elapsed": 577,
          "user": {
            "displayName": "Thiago Alves",
            "photoUrl": "//lh5.googleusercontent.com/-nRKZ3rt2Ziw/AAAAAAAAAAI/AAAAAAAAArI/B_wfrnbsgxU/s50-c-k-no/photo.jpg",
            "userId": "107747883410881429000"
          }
        }
      },
      "cell_type": "code",
      "source": [
        "# escolha a precedência dos cálculos com parêntesis\n",
        "(2+7) / 3"
      ],
      "execution_count": 19,
      "outputs": [
        {
          "output_type": "execute_result",
          "data": {
            "text/plain": [
              "3.0"
            ]
          },
          "metadata": {
            "tags": []
          },
          "execution_count": 19
        }
      ]
    },
    {
      "metadata": {
        "id": "69zz8I8DpNh9",
        "colab_type": "text"
      },
      "cell_type": "markdown",
      "source": [
        "### Booleans"
      ]
    },
    {
      "metadata": {
        "id": "ydGXbHLMpRMB",
        "colab_type": "code",
        "colab": {
          "autoexec": {
            "startup": false,
            "wait_interval": 0
          }
        }
      },
      "cell_type": "code",
      "source": [
        "# são tipos de dados primitivos e case sensitive\n",
        "True\n",
        "False"
      ],
      "execution_count": 0,
      "outputs": []
    },
    {
      "metadata": {
        "id": "KCI-jlXepviM",
        "colab_type": "code",
        "colab": {
          "autoexec": {
            "startup": false,
            "wait_interval": 0
          },
          "output_extras": [
            {
              "item_id": 1
            }
          ],
          "base_uri": "https://localhost:8080/",
          "height": 34
        },
        "outputId": "d45dc3a0-f469-4d11-cf76-dc213fac32d3",
        "executionInfo": {
          "status": "ok",
          "timestamp": 1521330016006,
          "user_tz": 0,
          "elapsed": 571,
          "user": {
            "displayName": "Thiago Alves",
            "photoUrl": "//lh5.googleusercontent.com/-nRKZ3rt2Ziw/AAAAAAAAAAI/AAAAAAAAArI/B_wfrnbsgxU/s50-c-k-no/photo.jpg",
            "userId": "107747883410881429000"
          }
        }
      },
      "cell_type": "code",
      "source": [
        "# negue com not\n",
        "not True"
      ],
      "execution_count": 28,
      "outputs": [
        {
          "output_type": "execute_result",
          "data": {
            "text/plain": [
              "False"
            ]
          },
          "metadata": {
            "tags": []
          },
          "execution_count": 28
        }
      ]
    },
    {
      "metadata": {
        "id": "Zrq4VDtWqz17",
        "colab_type": "code",
        "colab": {
          "autoexec": {
            "startup": false,
            "wait_interval": 0
          },
          "output_extras": [
            {
              "item_id": 1
            }
          ],
          "base_uri": "https://localhost:8080/",
          "height": 34
        },
        "outputId": "8d06651f-cb55-486a-ab33-683fb4459c5c",
        "executionInfo": {
          "status": "ok",
          "timestamp": 1521330009413,
          "user_tz": 0,
          "elapsed": 540,
          "user": {
            "displayName": "Thiago Alves",
            "photoUrl": "//lh5.googleusercontent.com/-nRKZ3rt2Ziw/AAAAAAAAAAI/AAAAAAAAArI/B_wfrnbsgxU/s50-c-k-no/photo.jpg",
            "userId": "107747883410881429000"
          }
        }
      },
      "cell_type": "code",
      "source": [
        "# operador lógico and \n",
        "True and False"
      ],
      "execution_count": 27,
      "outputs": [
        {
          "output_type": "execute_result",
          "data": {
            "text/plain": [
              "False"
            ]
          },
          "metadata": {
            "tags": []
          },
          "execution_count": 27
        }
      ]
    },
    {
      "metadata": {
        "id": "hVC6WOtErBTO",
        "colab_type": "code",
        "colab": {
          "autoexec": {
            "startup": false,
            "wait_interval": 0
          },
          "output_extras": [
            {
              "item_id": 1
            }
          ],
          "base_uri": "https://localhost:8080/",
          "height": 34
        },
        "outputId": "4c6b5ffb-2706-4e15-8632-b3c17ba6a739",
        "executionInfo": {
          "status": "ok",
          "timestamp": 1521330018285,
          "user_tz": 0,
          "elapsed": 542,
          "user": {
            "displayName": "Thiago Alves",
            "photoUrl": "//lh5.googleusercontent.com/-nRKZ3rt2Ziw/AAAAAAAAAAI/AAAAAAAAArI/B_wfrnbsgxU/s50-c-k-no/photo.jpg",
            "userId": "107747883410881429000"
          }
        }
      },
      "cell_type": "code",
      "source": [
        "# operador lógico or\n",
        "False or True"
      ],
      "execution_count": 29,
      "outputs": [
        {
          "output_type": "execute_result",
          "data": {
            "text/plain": [
              "True"
            ]
          },
          "metadata": {
            "tags": []
          },
          "execution_count": 29
        }
      ]
    },
    {
      "metadata": {
        "id": "CVU63dmtriWo",
        "colab_type": "code",
        "colab": {
          "autoexec": {
            "startup": false,
            "wait_interval": 0
          },
          "output_extras": [
            {
              "item_id": 1
            }
          ],
          "base_uri": "https://localhost:8080/",
          "height": 34
        },
        "outputId": "2b7a4ea3-c7ec-4d32-90d6-69260a5f04ae",
        "executionInfo": {
          "status": "ok",
          "timestamp": 1521330019819,
          "user_tz": 0,
          "elapsed": 532,
          "user": {
            "displayName": "Thiago Alves",
            "photoUrl": "//lh5.googleusercontent.com/-nRKZ3rt2Ziw/AAAAAAAAAAI/AAAAAAAAArI/B_wfrnbsgxU/s50-c-k-no/photo.jpg",
            "userId": "107747883410881429000"
          }
        }
      },
      "cell_type": "code",
      "source": [
        "# utilizando booleans com números\n",
        "0 and 5"
      ],
      "execution_count": 30,
      "outputs": [
        {
          "output_type": "execute_result",
          "data": {
            "text/plain": [
              "0"
            ]
          },
          "metadata": {
            "tags": []
          },
          "execution_count": 30
        }
      ]
    },
    {
      "metadata": {
        "id": "hbTlPFTVre_D",
        "colab_type": "code",
        "colab": {
          "autoexec": {
            "startup": false,
            "wait_interval": 0
          },
          "output_extras": [
            {
              "item_id": 1
            }
          ],
          "base_uri": "https://localhost:8080/",
          "height": 34
        },
        "outputId": "10e9d87f-07dc-42e6-db0c-83d77acc3bb9",
        "executionInfo": {
          "status": "ok",
          "timestamp": 1521330021461,
          "user_tz": 0,
          "elapsed": 562,
          "user": {
            "displayName": "Thiago Alves",
            "photoUrl": "//lh5.googleusercontent.com/-nRKZ3rt2Ziw/AAAAAAAAAAI/AAAAAAAAArI/B_wfrnbsgxU/s50-c-k-no/photo.jpg",
            "userId": "107747883410881429000"
          }
        }
      },
      "cell_type": "code",
      "source": [
        "# utilizando booleans com números\n",
        "0 or 5"
      ],
      "execution_count": 31,
      "outputs": [
        {
          "output_type": "execute_result",
          "data": {
            "text/plain": [
              "5"
            ]
          },
          "metadata": {
            "tags": []
          },
          "execution_count": 31
        }
      ]
    },
    {
      "metadata": {
        "id": "FCqjkco1rzPH",
        "colab_type": "code",
        "colab": {
          "autoexec": {
            "startup": false,
            "wait_interval": 0
          },
          "output_extras": [
            {
              "item_id": 1
            }
          ],
          "base_uri": "https://localhost:8080/",
          "height": 34
        },
        "outputId": "4d4da206-73dd-4aeb-a1d2-b53b56d8954f",
        "executionInfo": {
          "status": "ok",
          "timestamp": 1521330023240,
          "user_tz": 0,
          "elapsed": 566,
          "user": {
            "displayName": "Thiago Alves",
            "photoUrl": "//lh5.googleusercontent.com/-nRKZ3rt2Ziw/AAAAAAAAAAI/AAAAAAAAArI/B_wfrnbsgxU/s50-c-k-no/photo.jpg",
            "userId": "107747883410881429000"
          }
        }
      },
      "cell_type": "code",
      "source": [
        "# operador de igualdade é ==\n",
        "0 == False"
      ],
      "execution_count": 32,
      "outputs": [
        {
          "output_type": "execute_result",
          "data": {
            "text/plain": [
              "True"
            ]
          },
          "metadata": {
            "tags": []
          },
          "execution_count": 32
        }
      ]
    },
    {
      "metadata": {
        "id": "-oXgpvGcr5MQ",
        "colab_type": "code",
        "colab": {
          "autoexec": {
            "startup": false,
            "wait_interval": 0
          },
          "output_extras": [
            {
              "item_id": 1
            }
          ],
          "base_uri": "https://localhost:8080/",
          "height": 34
        },
        "outputId": "25a80861-bd22-4747-8168-489166644cf9",
        "executionInfo": {
          "status": "ok",
          "timestamp": 1521330024866,
          "user_tz": 0,
          "elapsed": 536,
          "user": {
            "displayName": "Thiago Alves",
            "photoUrl": "//lh5.googleusercontent.com/-nRKZ3rt2Ziw/AAAAAAAAAAI/AAAAAAAAArI/B_wfrnbsgxU/s50-c-k-no/photo.jpg",
            "userId": "107747883410881429000"
          }
        }
      },
      "cell_type": "code",
      "source": [
        "# operador de desigualdade é !=\n",
        "2 != 1"
      ],
      "execution_count": 33,
      "outputs": [
        {
          "output_type": "execute_result",
          "data": {
            "text/plain": [
              "True"
            ]
          },
          "metadata": {
            "tags": []
          },
          "execution_count": 33
        }
      ]
    },
    {
      "metadata": {
        "id": "fedcs3BpsGz8",
        "colab_type": "code",
        "colab": {
          "autoexec": {
            "startup": false,
            "wait_interval": 0
          }
        },
        "cellView": "code"
      },
      "cell_type": "code",
      "source": [
        "# outros operadores de comparação\n",
        "1 < 1\n",
        "1 > 10\n",
        "2 <= 3\n",
        "3 >= 10"
      ],
      "execution_count": 0,
      "outputs": []
    },
    {
      "metadata": {
        "id": "m34X3Ytis4c0",
        "colab_type": "code",
        "colab": {
          "autoexec": {
            "startup": false,
            "wait_interval": 0
          },
          "output_extras": [
            {
              "item_id": 1
            }
          ],
          "base_uri": "https://localhost:8080/",
          "height": 34
        },
        "outputId": "94e9a5ca-3441-497a-c034-7911e9d7cf21",
        "executionInfo": {
          "status": "ok",
          "timestamp": 1521330028118,
          "user_tz": 0,
          "elapsed": 633,
          "user": {
            "displayName": "Thiago Alves",
            "photoUrl": "//lh5.googleusercontent.com/-nRKZ3rt2Ziw/AAAAAAAAAAI/AAAAAAAAArI/B_wfrnbsgxU/s50-c-k-no/photo.jpg",
            "userId": "107747883410881429000"
          }
        }
      },
      "cell_type": "code",
      "source": [
        "# você pode substituir (2 < 3 and 3 < 5) por...\n",
        "2 < 3 < 5\n",
        "# e isto se chama comparação encadeada"
      ],
      "execution_count": 34,
      "outputs": [
        {
          "output_type": "execute_result",
          "data": {
            "text/plain": [
              "True"
            ]
          },
          "metadata": {
            "tags": []
          },
          "execution_count": 34
        }
      ]
    },
    {
      "metadata": {
        "id": "Ru9xPXzIuBwR",
        "colab_type": "code",
        "colab": {
          "autoexec": {
            "startup": false,
            "wait_interval": 0
          },
          "output_extras": [
            {
              "item_id": 1
            }
          ],
          "base_uri": "https://localhost:8080/",
          "height": 34
        },
        "outputId": "0df40b75-d058-49d4-b09e-b1353e82cb5e",
        "executionInfo": {
          "status": "ok",
          "timestamp": 1521330030122,
          "user_tz": 0,
          "elapsed": 566,
          "user": {
            "displayName": "Thiago Alves",
            "photoUrl": "//lh5.googleusercontent.com/-nRKZ3rt2Ziw/AAAAAAAAAAI/AAAAAAAAArI/B_wfrnbsgxU/s50-c-k-no/photo.jpg",
            "userId": "107747883410881429000"
          }
        }
      },
      "cell_type": "code",
      "source": [
        "# o operador == compara valores de objetos e o 'is' compara se são o mesmo objeto (mesma referência de memória)\n",
        "a = [1, 2, 3, 4]  # cria uma lista\n",
        "b = a             # b recebe o objeto lista\n",
        "b is a            # b e a possuem a mesma instância de objeto..."
      ],
      "execution_count": 35,
      "outputs": [
        {
          "output_type": "execute_result",
          "data": {
            "text/plain": [
              "True"
            ]
          },
          "metadata": {
            "tags": []
          },
          "execution_count": 35
        }
      ]
    },
    {
      "metadata": {
        "id": "Gk2HllVUub_0",
        "colab_type": "code",
        "colab": {
          "autoexec": {
            "startup": false,
            "wait_interval": 0
          },
          "output_extras": [
            {
              "item_id": 1
            }
          ],
          "base_uri": "https://localhost:8080/",
          "height": 34
        },
        "outputId": "c6682f4a-374b-44ff-a93a-8477fbcd52de",
        "executionInfo": {
          "status": "ok",
          "timestamp": 1521330032073,
          "user_tz": 0,
          "elapsed": 742,
          "user": {
            "displayName": "Thiago Alves",
            "photoUrl": "//lh5.googleusercontent.com/-nRKZ3rt2Ziw/AAAAAAAAAAI/AAAAAAAAArI/B_wfrnbsgxU/s50-c-k-no/photo.jpg",
            "userId": "107747883410881429000"
          }
        }
      },
      "cell_type": "code",
      "source": [
        "# ...b rambém possui o mesmo valor de a...\n",
        "b == a"
      ],
      "execution_count": 36,
      "outputs": [
        {
          "output_type": "execute_result",
          "data": {
            "text/plain": [
              "True"
            ]
          },
          "metadata": {
            "tags": []
          },
          "execution_count": 36
        }
      ]
    },
    {
      "metadata": {
        "id": "ElTOgWXzuj35",
        "colab_type": "code",
        "colab": {
          "autoexec": {
            "startup": false,
            "wait_interval": 0
          },
          "output_extras": [
            {
              "item_id": 1
            }
          ],
          "base_uri": "https://localhost:8080/",
          "height": 34
        },
        "outputId": "45e1afe6-5f74-433f-bfe8-2d885d3e9ca7",
        "executionInfo": {
          "status": "ok",
          "timestamp": 1521330035783,
          "user_tz": 0,
          "elapsed": 533,
          "user": {
            "displayName": "Thiago Alves",
            "photoUrl": "//lh5.googleusercontent.com/-nRKZ3rt2Ziw/AAAAAAAAAAI/AAAAAAAAArI/B_wfrnbsgxU/s50-c-k-no/photo.jpg",
            "userId": "107747883410881429000"
          }
        }
      },
      "cell_type": "code",
      "source": [
        "# ...se b receber um novo objeto lista, mesmo que seja o mesmo de a, não serão mais o mesmo objeto...\n",
        "b = [1, 2, 3, 4]  \n",
        "b is a\n"
      ],
      "execution_count": 37,
      "outputs": [
        {
          "output_type": "execute_result",
          "data": {
            "text/plain": [
              "False"
            ]
          },
          "metadata": {
            "tags": []
          },
          "execution_count": 37
        }
      ]
    },
    {
      "metadata": {
        "id": "D-MfQNDCvRYl",
        "colab_type": "code",
        "colab": {
          "autoexec": {
            "startup": false,
            "wait_interval": 0
          },
          "output_extras": [
            {
              "item_id": 1
            }
          ],
          "base_uri": "https://localhost:8080/",
          "height": 34
        },
        "outputId": "83d81f0a-5b1f-4a50-9da1-fd996792583a",
        "executionInfo": {
          "status": "ok",
          "timestamp": 1521330038980,
          "user_tz": 0,
          "elapsed": 529,
          "user": {
            "displayName": "Thiago Alves",
            "photoUrl": "//lh5.googleusercontent.com/-nRKZ3rt2Ziw/AAAAAAAAAAI/AAAAAAAAArI/B_wfrnbsgxU/s50-c-k-no/photo.jpg",
            "userId": "107747883410881429000"
          }
        }
      },
      "cell_type": "code",
      "source": [
        "# ...mas seu conteúdo ainda será reconhecido como igual.\n",
        "b == a"
      ],
      "execution_count": 38,
      "outputs": [
        {
          "output_type": "execute_result",
          "data": {
            "text/plain": [
              "True"
            ]
          },
          "metadata": {
            "tags": []
          },
          "execution_count": 38
        }
      ]
    },
    {
      "metadata": {
        "id": "E3ZjjvUB8UQK",
        "colab_type": "code",
        "colab": {
          "autoexec": {
            "startup": false,
            "wait_interval": 0
          },
          "output_extras": [
            {
              "item_id": 1
            }
          ],
          "base_uri": "https://localhost:8080/",
          "height": 34
        },
        "outputId": "4d6361f9-c83e-49f5-b40d-353aefbaa945",
        "executionInfo": {
          "status": "ok",
          "timestamp": 1521333667883,
          "user_tz": 0,
          "elapsed": 565,
          "user": {
            "displayName": "Thiago Alves",
            "photoUrl": "//lh5.googleusercontent.com/-nRKZ3rt2Ziw/AAAAAAAAAAI/AAAAAAAAArI/B_wfrnbsgxU/s50-c-k-no/photo.jpg",
            "userId": "107747883410881429000"
          }
        }
      },
      "cell_type": "code",
      "source": [
        "# isso tudo é falso\n",
        "\n",
        "bool(0)   # => inteiro zero\n",
        "bool(\"\")  # => string vazia\n",
        "bool([])  # => lista vazia\n",
        "bool({})  # => conjunto vazio\n",
        "bool(())  # => tupla vazia"
      ],
      "execution_count": 94,
      "outputs": [
        {
          "output_type": "execute_result",
          "data": {
            "text/plain": [
              "False"
            ]
          },
          "metadata": {
            "tags": []
          },
          "execution_count": 94
        }
      ]
    },
    {
      "metadata": {
        "id": "hlfMs9mkvdtz",
        "colab_type": "text"
      },
      "cell_type": "markdown",
      "source": [
        "### Strings\n",
        "\n",
        "Mais informações sobre [strings](https://docs.python.org/3.6/library/string.html)."
      ]
    },
    {
      "metadata": {
        "id": "GrsPVq0zvfuP",
        "colab_type": "code",
        "colab": {
          "autoexec": {
            "startup": false,
            "wait_interval": 0
          }
        }
      },
      "cell_type": "code",
      "source": [
        "# utilize \" ou ' para criar strings\n",
        "\"Esta é 01 string\"\n",
        "'esta também'"
      ],
      "execution_count": 0,
      "outputs": []
    },
    {
      "metadata": {
        "id": "j1C41NCgvluJ",
        "colab_type": "code",
        "colab": {
          "autoexec": {
            "startup": false,
            "wait_interval": 0
          }
        }
      },
      "cell_type": "code",
      "source": [
        "\"Aspas 'simples' podem ser utilizadas dentro de duplas\"\n",
        "'O mesmo também é valido \"ao contrário\"'"
      ],
      "execution_count": 0,
      "outputs": []
    },
    {
      "metadata": {
        "id": "4WWEsBAVv_kc",
        "colab_type": "code",
        "colab": {
          "autoexec": {
            "startup": false,
            "wait_interval": 0
          }
        }
      },
      "cell_type": "code",
      "source": [
        "\"Mas aspas \"duplas com\" duplas não funcionam\"\n",
        "'nem 'simples com' simples'"
      ],
      "execution_count": 0,
      "outputs": []
    },
    {
      "metadata": {
        "id": "LTMSosvewQ4S",
        "colab_type": "code",
        "colab": {
          "autoexec": {
            "startup": false,
            "wait_interval": 0
          },
          "output_extras": [
            {
              "item_id": 1
            }
          ],
          "base_uri": "https://localhost:8080/",
          "height": 34
        },
        "outputId": "7e344b47-336b-421b-c88e-ea4654fdd902",
        "executionInfo": {
          "status": "ok",
          "timestamp": 1521330051860,
          "user_tz": 0,
          "elapsed": 533,
          "user": {
            "displayName": "Thiago Alves",
            "photoUrl": "//lh5.googleusercontent.com/-nRKZ3rt2Ziw/AAAAAAAAAAI/AAAAAAAAArI/B_wfrnbsgxU/s50-c-k-no/photo.jpg",
            "userId": "107747883410881429000"
          }
        }
      },
      "cell_type": "code",
      "source": [
        "# forma de concatenação\n",
        "\"Olá\" + ' pessoa'"
      ],
      "execution_count": 39,
      "outputs": [
        {
          "output_type": "execute_result",
          "data": {
            "text/plain": [
              "'Olá pessoa'"
            ]
          },
          "metadata": {
            "tags": []
          },
          "execution_count": 39
        }
      ]
    },
    {
      "metadata": {
        "id": "w3KeT3N_wi7C",
        "colab_type": "code",
        "colab": {
          "autoexec": {
            "startup": false,
            "wait_interval": 0
          },
          "output_extras": [
            {
              "item_id": 1
            }
          ],
          "base_uri": "https://localhost:8080/",
          "height": 34
        },
        "outputId": "c92dbc78-8684-4069-9b70-f74e89d808da",
        "executionInfo": {
          "status": "ok",
          "timestamp": 1521330053845,
          "user_tz": 0,
          "elapsed": 535,
          "user": {
            "displayName": "Thiago Alves",
            "photoUrl": "//lh5.googleusercontent.com/-nRKZ3rt2Ziw/AAAAAAAAAAI/AAAAAAAAArI/B_wfrnbsgxU/s50-c-k-no/photo.jpg",
            "userId": "107747883410881429000"
          }
        }
      },
      "cell_type": "code",
      "source": [
        "# outra forma de concatenação que não funciona entre strings e variáveis\n",
        "\"Olá \" \"pessoa\""
      ],
      "execution_count": 40,
      "outputs": [
        {
          "output_type": "execute_result",
          "data": {
            "text/plain": [
              "'Olá pessoa'"
            ]
          },
          "metadata": {
            "tags": []
          },
          "execution_count": 40
        }
      ]
    },
    {
      "metadata": {
        "id": "EQDm3lU9wtYC",
        "colab_type": "code",
        "colab": {
          "autoexec": {
            "startup": false,
            "wait_interval": 0
          },
          "output_extras": [
            {
              "item_id": 1
            }
          ],
          "base_uri": "https://localhost:8080/",
          "height": 34
        },
        "outputId": "8e9799d8-a63e-4d56-9e26-bc9d964e7139",
        "executionInfo": {
          "status": "ok",
          "timestamp": 1521330056917,
          "user_tz": 0,
          "elapsed": 570,
          "user": {
            "displayName": "Thiago Alves",
            "photoUrl": "//lh5.googleusercontent.com/-nRKZ3rt2Ziw/AAAAAAAAAAI/AAAAAAAAArI/B_wfrnbsgxU/s50-c-k-no/photo.jpg",
            "userId": "107747883410881429000"
          }
        }
      },
      "cell_type": "code",
      "source": [
        "# strings são interpretadas como listas de caracteres\n",
        "\"Birl\"[2]"
      ],
      "execution_count": 41,
      "outputs": [
        {
          "output_type": "execute_result",
          "data": {
            "text/plain": [
              "'r'"
            ]
          },
          "metadata": {
            "tags": []
          },
          "execution_count": 41
        }
      ]
    },
    {
      "metadata": {
        "id": "CQUJCkwbw_lX",
        "colab_type": "code",
        "colab": {
          "autoexec": {
            "startup": false,
            "wait_interval": 0
          },
          "output_extras": [
            {
              "item_id": 1
            }
          ],
          "base_uri": "https://localhost:8080/",
          "height": 34
        },
        "outputId": "dc3fd04b-ffdf-480d-ba5a-f73c9f7f70df",
        "executionInfo": {
          "status": "ok",
          "timestamp": 1521330060191,
          "user_tz": 0,
          "elapsed": 533,
          "user": {
            "displayName": "Thiago Alves",
            "photoUrl": "//lh5.googleusercontent.com/-nRKZ3rt2Ziw/AAAAAAAAAAI/AAAAAAAAArI/B_wfrnbsgxU/s50-c-k-no/photo.jpg",
            "userId": "107747883410881429000"
          }
        }
      },
      "cell_type": "code",
      "source": [
        "# saiba o tamanho de uma string assim\n",
        "len('Spoiler, o tamanho é 22')"
      ],
      "execution_count": 42,
      "outputs": [
        {
          "output_type": "execute_result",
          "data": {
            "text/plain": [
              "23"
            ]
          },
          "metadata": {
            "tags": []
          },
          "execution_count": 42
        }
      ]
    },
    {
      "metadata": {
        "id": "-_Qpu9Jzz0p9",
        "colab_type": "code",
        "colab": {
          "autoexec": {
            "startup": false,
            "wait_interval": 0
          },
          "output_extras": [
            {
              "item_id": 1
            }
          ],
          "base_uri": "https://localhost:8080/",
          "height": 34
        },
        "outputId": "14201aa4-6027-4333-a480-86feeae8d590",
        "executionInfo": {
          "status": "ok",
          "timestamp": 1521333755774,
          "user_tz": 0,
          "elapsed": 538,
          "user": {
            "displayName": "Thiago Alves",
            "photoUrl": "//lh5.googleusercontent.com/-nRKZ3rt2Ziw/AAAAAAAAAAI/AAAAAAAAArI/B_wfrnbsgxU/s50-c-k-no/photo.jpg",
            "userId": "107747883410881429000"
          }
        }
      },
      "cell_type": "code",
      "source": [
        "# com .format é possivel concatenar variávei com strings de uma forma legível\n",
        "'{} como é {}'.format('Viu', 'possível')"
      ],
      "execution_count": 95,
      "outputs": [
        {
          "output_type": "execute_result",
          "data": {
            "text/plain": [
              "'Viu como é possível'"
            ]
          },
          "metadata": {
            "tags": []
          },
          "execution_count": 95
        }
      ]
    },
    {
      "metadata": {
        "id": "tXcZKEm067OJ",
        "colab_type": "code",
        "colab": {
          "autoexec": {
            "startup": false,
            "wait_interval": 0
          },
          "output_extras": [
            {
              "item_id": 1
            }
          ],
          "base_uri": "https://localhost:8080/",
          "height": 34
        },
        "outputId": "65d38000-2dbe-45ba-a735-d1be9926ff73",
        "executionInfo": {
          "status": "ok",
          "timestamp": 1521333766587,
          "user_tz": 0,
          "elapsed": 794,
          "user": {
            "displayName": "Thiago Alves",
            "photoUrl": "//lh5.googleusercontent.com/-nRKZ3rt2Ziw/AAAAAAAAAAI/AAAAAAAAArI/B_wfrnbsgxU/s50-c-k-no/photo.jpg",
            "userId": "107747883410881429000"
          }
        }
      },
      "cell_type": "code",
      "source": [
        "# o uso de keywords também é válido\n",
        "'um exemplo com {keywords} {palavra} {palavra} repetidas'.format(keywords='palavras', palavra='quite')"
      ],
      "execution_count": 96,
      "outputs": [
        {
          "output_type": "execute_result",
          "data": {
            "text/plain": [
              "'um exemplo com palavras quite quite repetidas'"
            ]
          },
          "metadata": {
            "tags": []
          },
          "execution_count": 96
        }
      ]
    },
    {
      "metadata": {
        "id": "X881cmwX-8Dd",
        "colab_type": "text"
      },
      "cell_type": "markdown",
      "source": [
        "## Collections (Listas, Dicionários, Conjuntos e Tuplas)"
      ]
    },
    {
      "metadata": {
        "id": "qmVNlpRTKwyO",
        "colab_type": "text"
      },
      "cell_type": "markdown",
      "source": [
        "### Listas"
      ]
    },
    {
      "metadata": {
        "id": "eS6cr9XjAF8t",
        "colab_type": "code",
        "colab": {
          "autoexec": {
            "startup": false,
            "wait_interval": 0
          },
          "output_extras": [
            {
              "item_id": 1
            }
          ],
          "base_uri": "https://localhost:8080/",
          "height": 34
        },
        "cellView": "both",
        "outputId": "d4754d14-dc18-4505-9135-5ab93b63eadd",
        "executionInfo": {
          "status": "ok",
          "timestamp": 1521333772333,
          "user_tz": 0,
          "elapsed": 537,
          "user": {
            "displayName": "Thiago Alves",
            "photoUrl": "//lh5.googleusercontent.com/-nRKZ3rt2Ziw/AAAAAAAAAAI/AAAAAAAAArI/B_wfrnbsgxU/s50-c-k-no/photo.jpg",
            "userId": "107747883410881429000"
          }
        }
      },
      "cell_type": "code",
      "source": [
        "# formas de iniciar uma lista\n",
        "lista_vazia = []\n",
        "lista_com_valores = [1, 'A', 1.0, [5, '4']]\n",
        "\n",
        "print(lista_com_valores)"
      ],
      "execution_count": 97,
      "outputs": [
        {
          "output_type": "stream",
          "text": [
            "[1, 'A', 1.0, [5, '4']]\n"
          ],
          "name": "stdout"
        }
      ]
    },
    {
      "metadata": {
        "id": "cmNKUzIHAjpF",
        "colab_type": "code",
        "colab": {
          "autoexec": {
            "startup": false,
            "wait_interval": 0
          },
          "output_extras": [
            {
              "item_id": 1
            }
          ],
          "base_uri": "https://localhost:8080/",
          "height": 85
        },
        "cellView": "both",
        "outputId": "68170000-0ff4-435b-fd4b-d73c59ec0301",
        "executionInfo": {
          "status": "ok",
          "timestamp": 1521333781890,
          "user_tz": 0,
          "elapsed": 543,
          "user": {
            "displayName": "Thiago Alves",
            "photoUrl": "//lh5.googleusercontent.com/-nRKZ3rt2Ziw/AAAAAAAAAAI/AAAAAAAAArI/B_wfrnbsgxU/s50-c-k-no/photo.jpg",
            "userId": "107747883410881429000"
          }
        }
      },
      "cell_type": "code",
      "source": [
        "lista = []\n",
        "\n",
        "# adiciona valores na lista\n",
        "print(lista)\n",
        "lista.append(5)\n",
        "print(lista)\n",
        "lista.append('A')\n",
        "print(lista)\n",
        "\n",
        "# remove o último valor da lista\n",
        "valor_removido = lista.pop()\n",
        "print('valor removido =', valor_removido, 'lista_atual =', lista)\n",
        "\n"
      ],
      "execution_count": 98,
      "outputs": [
        {
          "output_type": "stream",
          "text": [
            "[]\n",
            "[5]\n",
            "[5, 'A']\n",
            "valor removido = A lista_atual = [5]\n"
          ],
          "name": "stdout"
        }
      ]
    },
    {
      "metadata": {
        "id": "09cjLwU_BqXw",
        "colab_type": "code",
        "colab": {
          "autoexec": {
            "startup": false,
            "wait_interval": 0
          }
        },
        "cellView": "both"
      },
      "cell_type": "code",
      "source": [
        "# seleção de valores e slicing...\n",
        "lista = [1, 2, 3, 4, 5]"
      ],
      "execution_count": 0,
      "outputs": []
    },
    {
      "metadata": {
        "id": "ZUaRPuD7ZNX5",
        "colab_type": "text"
      },
      "cell_type": "markdown",
      "source": [
        ""
      ]
    },
    {
      "metadata": {
        "id": "RyqY68OxCjP7",
        "colab_type": "code",
        "colab": {
          "autoexec": {
            "startup": false,
            "wait_interval": 0
          },
          "output_extras": [
            {
              "item_id": 1
            }
          ],
          "base_uri": "https://localhost:8080/",
          "height": 34
        },
        "cellView": "both",
        "outputId": "8236647d-a4c5-4159-fac2-9aef9a10cd47",
        "executionInfo": {
          "status": "ok",
          "timestamp": 1521333792227,
          "user_tz": 0,
          "elapsed": 518,
          "user": {
            "displayName": "Thiago Alves",
            "photoUrl": "//lh5.googleusercontent.com/-nRKZ3rt2Ziw/AAAAAAAAAAI/AAAAAAAAArI/B_wfrnbsgxU/s50-c-k-no/photo.jpg",
            "userId": "107747883410881429000"
          }
        }
      },
      "cell_type": "code",
      "source": [
        "# ...acessar um elemento qualquer...\n",
        "lista[3]"
      ],
      "execution_count": 101,
      "outputs": [
        {
          "output_type": "execute_result",
          "data": {
            "text/plain": [
              "4"
            ]
          },
          "metadata": {
            "tags": []
          },
          "execution_count": 101
        }
      ]
    },
    {
      "metadata": {
        "id": "QL9Ymu-kCll2",
        "colab_type": "code",
        "colab": {
          "autoexec": {
            "startup": false,
            "wait_interval": 0
          },
          "output_extras": [
            {
              "item_id": 1
            }
          ],
          "base_uri": "https://localhost:8080/",
          "height": 34
        },
        "cellView": "both",
        "outputId": "570629aa-e081-4f19-e800-b519d6f9411e",
        "executionInfo": {
          "status": "ok",
          "timestamp": 1521333845821,
          "user_tz": 0,
          "elapsed": 576,
          "user": {
            "displayName": "Thiago Alves",
            "photoUrl": "//lh5.googleusercontent.com/-nRKZ3rt2Ziw/AAAAAAAAAAI/AAAAAAAAArI/B_wfrnbsgxU/s50-c-k-no/photo.jpg",
            "userId": "107747883410881429000"
          }
        }
      },
      "cell_type": "code",
      "source": [
        "# ...indexar inversamente...\n",
        "lista[-2]"
      ],
      "execution_count": 102,
      "outputs": [
        {
          "output_type": "execute_result",
          "data": {
            "text/plain": [
              "4"
            ]
          },
          "metadata": {
            "tags": []
          },
          "execution_count": 102
        }
      ]
    },
    {
      "metadata": {
        "id": "truwqZUFCzmJ",
        "colab_type": "code",
        "colab": {
          "autoexec": {
            "startup": false,
            "wait_interval": 0
          },
          "output_extras": [
            {
              "item_id": 1
            }
          ],
          "base_uri": "https://localhost:8080/",
          "height": 34
        },
        "cellView": "both",
        "outputId": "ec73d069-5876-4212-a59e-ee8cf413ca68",
        "executionInfo": {
          "status": "ok",
          "timestamp": 1521333877399,
          "user_tz": 0,
          "elapsed": 552,
          "user": {
            "displayName": "Thiago Alves",
            "photoUrl": "//lh5.googleusercontent.com/-nRKZ3rt2Ziw/AAAAAAAAAAI/AAAAAAAAArI/B_wfrnbsgxU/s50-c-k-no/photo.jpg",
            "userId": "107747883410881429000"
          }
        }
      },
      "cell_type": "code",
      "source": [
        "# ...exemplo de slice, ele inclui o primeiro index, e não o último -> ]primeiro, último]...\n",
        "lista[1:3]"
      ],
      "execution_count": 103,
      "outputs": [
        {
          "output_type": "execute_result",
          "data": {
            "text/plain": [
              "[2, 3]"
            ]
          },
          "metadata": {
            "tags": []
          },
          "execution_count": 103
        }
      ]
    },
    {
      "metadata": {
        "id": "J4tLv9yWExqM",
        "colab_type": "code",
        "colab": {
          "autoexec": {
            "startup": false,
            "wait_interval": 0
          },
          "output_extras": [
            {
              "item_id": 1
            }
          ],
          "base_uri": "https://localhost:8080/",
          "height": 34
        },
        "cellView": "both",
        "outputId": "962bc867-6de0-40ed-d9a6-ec4d1c207c13",
        "executionInfo": {
          "status": "ok",
          "timestamp": 1521333879343,
          "user_tz": 0,
          "elapsed": 708,
          "user": {
            "displayName": "Thiago Alves",
            "photoUrl": "//lh5.googleusercontent.com/-nRKZ3rt2Ziw/AAAAAAAAAAI/AAAAAAAAArI/B_wfrnbsgxU/s50-c-k-no/photo.jpg",
            "userId": "107747883410881429000"
          }
        }
      },
      "cell_type": "code",
      "source": [
        "# ...omite os dois primeiros valores da lista e retorna o resto...\n",
        "lista[2:]"
      ],
      "execution_count": 104,
      "outputs": [
        {
          "output_type": "execute_result",
          "data": {
            "text/plain": [
              "[3, 4, 5]"
            ]
          },
          "metadata": {
            "tags": []
          },
          "execution_count": 104
        }
      ]
    },
    {
      "metadata": {
        "id": "kQzepWuqE7DR",
        "colab_type": "code",
        "colab": {
          "autoexec": {
            "startup": false,
            "wait_interval": 0
          },
          "output_extras": [
            {
              "item_id": 1
            }
          ],
          "base_uri": "https://localhost:8080/",
          "height": 34
        },
        "cellView": "both",
        "outputId": "02bfc7ae-723e-4b4a-e41a-3b0363b90ff1",
        "executionInfo": {
          "status": "ok",
          "timestamp": 1521333881679,
          "user_tz": 0,
          "elapsed": 658,
          "user": {
            "displayName": "Thiago Alves",
            "photoUrl": "//lh5.googleusercontent.com/-nRKZ3rt2Ziw/AAAAAAAAAAI/AAAAAAAAArI/B_wfrnbsgxU/s50-c-k-no/photo.jpg",
            "userId": "107747883410881429000"
          }
        }
      },
      "cell_type": "code",
      "source": [
        "# ...retorna os valores com índice até 3...\n",
        "lista[:3]"
      ],
      "execution_count": 105,
      "outputs": [
        {
          "output_type": "execute_result",
          "data": {
            "text/plain": [
              "[1, 2, 3]"
            ]
          },
          "metadata": {
            "tags": []
          },
          "execution_count": 105
        }
      ]
    },
    {
      "metadata": {
        "id": "IEOvKh9qFNGA",
        "colab_type": "code",
        "colab": {
          "autoexec": {
            "startup": false,
            "wait_interval": 0
          },
          "output_extras": [
            {
              "item_id": 1
            }
          ],
          "base_uri": "https://localhost:8080/",
          "height": 34
        },
        "cellView": "both",
        "outputId": "5789b588-3804-4b6e-950f-5c0364253b8a",
        "executionInfo": {
          "status": "ok",
          "timestamp": 1521333885347,
          "user_tz": 0,
          "elapsed": 584,
          "user": {
            "displayName": "Thiago Alves",
            "photoUrl": "//lh5.googleusercontent.com/-nRKZ3rt2Ziw/AAAAAAAAAAI/AAAAAAAAArI/B_wfrnbsgxU/s50-c-k-no/photo.jpg",
            "userId": "107747883410881429000"
          }
        }
      },
      "cell_type": "code",
      "source": [
        "# ...seleciona os indices da lista com o 'step' de 2 em 2...\n",
        "lista[::2]"
      ],
      "execution_count": 106,
      "outputs": [
        {
          "output_type": "execute_result",
          "data": {
            "text/plain": [
              "[1, 3, 5]"
            ]
          },
          "metadata": {
            "tags": []
          },
          "execution_count": 106
        }
      ]
    },
    {
      "metadata": {
        "id": "Wuwq6eW_Fe1R",
        "colab_type": "code",
        "colab": {
          "autoexec": {
            "startup": false,
            "wait_interval": 0
          },
          "output_extras": [
            {
              "item_id": 1
            }
          ],
          "base_uri": "https://localhost:8080/",
          "height": 34
        },
        "cellView": "both",
        "outputId": "44b8f67a-ac43-4c57-97ec-7fcf7ffeccec",
        "executionInfo": {
          "status": "ok",
          "timestamp": 1521333888926,
          "user_tz": 0,
          "elapsed": 533,
          "user": {
            "displayName": "Thiago Alves",
            "photoUrl": "//lh5.googleusercontent.com/-nRKZ3rt2Ziw/AAAAAAAAAAI/AAAAAAAAArI/B_wfrnbsgxU/s50-c-k-no/photo.jpg",
            "userId": "107747883410881429000"
          }
        }
      },
      "cell_type": "code",
      "source": [
        "# ...retorna a lista de um em um, de trás para a frente, logo\n",
        "# retorna a lista invertida...\n",
        "lista[::-1]"
      ],
      "execution_count": 107,
      "outputs": [
        {
          "output_type": "execute_result",
          "data": {
            "text/plain": [
              "[5, 4, 3, 2, 1]"
            ]
          },
          "metadata": {
            "tags": []
          },
          "execution_count": 107
        }
      ]
    },
    {
      "metadata": {
        "id": "cIEtNrkdF9Ga",
        "colab_type": "code",
        "colab": {
          "autoexec": {
            "startup": false,
            "wait_interval": 0
          },
          "output_extras": [
            {
              "item_id": 1
            }
          ],
          "base_uri": "https://localhost:8080/",
          "height": 51
        },
        "cellView": "both",
        "outputId": "8ed3ee63-0cc0-45c1-ec54-567692e206b7",
        "executionInfo": {
          "status": "ok",
          "timestamp": 1521333895401,
          "user_tz": 0,
          "elapsed": 543,
          "user": {
            "displayName": "Thiago Alves",
            "photoUrl": "//lh5.googleusercontent.com/-nRKZ3rt2Ziw/AAAAAAAAAAI/AAAAAAAAArI/B_wfrnbsgxU/s50-c-k-no/photo.jpg",
            "userId": "107747883410881429000"
          }
        }
      },
      "cell_type": "code",
      "source": [
        "# ...uma outra forma de retornar a lista invertida é a função reversed\n",
        "# mas como pode ser visto abaixo ela retorna um 'iterator' (iterators geram um valor por vez para não armazenar todos na memória) \n",
        "print(reversed(lista))\n",
        "# utilize a conversão para list caso queira ver todos valores de uma só vez...\n",
        "print(list(reversed(lista)))"
      ],
      "execution_count": 108,
      "outputs": [
        {
          "output_type": "stream",
          "text": [
            "<list_reverseiterator object at 0x7fce823d7898>\n",
            "[5, 4, 3, 2, 1]\n"
          ],
          "name": "stdout"
        }
      ]
    },
    {
      "metadata": {
        "id": "RGE4Y-U-G2Q4",
        "colab_type": "text"
      },
      "cell_type": "markdown",
      "source": [
        "Basicamente, a estrutura utilizada no slice é: **lista[inicio:fim:passo]**"
      ]
    },
    {
      "metadata": {
        "id": "0ueCMiJIGijN",
        "colab_type": "code",
        "colab": {
          "autoexec": {
            "startup": false,
            "wait_interval": 0
          },
          "output_extras": [
            {
              "item_id": 1
            }
          ],
          "base_uri": "https://localhost:8080/",
          "height": 68
        },
        "cellView": "both",
        "outputId": "fb11ab5d-2bf5-4cf3-c660-20adbf926986",
        "executionInfo": {
          "status": "ok",
          "timestamp": 1521333909199,
          "user_tz": 0,
          "elapsed": 549,
          "user": {
            "displayName": "Thiago Alves",
            "photoUrl": "//lh5.googleusercontent.com/-nRKZ3rt2Ziw/AAAAAAAAAAI/AAAAAAAAArI/B_wfrnbsgxU/s50-c-k-no/photo.jpg",
            "userId": "107747883410881429000"
          }
        }
      },
      "cell_type": "code",
      "source": [
        "# realizar uma deep copy de uma list\n",
        "lista2 = lista\n",
        "print(lista2 is lista) # mesmo objeto\n",
        "\n",
        "lista2 = lista[:]\n",
        "print(lista2 is lista) # objetos diferentes, mesmo valor\n",
        "\n",
        "print(lista2)"
      ],
      "execution_count": 109,
      "outputs": [
        {
          "output_type": "stream",
          "text": [
            "True\n",
            "False\n",
            "[1, 2, 3, 4, 5]\n"
          ],
          "name": "stdout"
        }
      ]
    },
    {
      "metadata": {
        "id": "LwPs6JHjH26r",
        "colab_type": "code",
        "colab": {
          "autoexec": {
            "startup": false,
            "wait_interval": 0
          },
          "output_extras": [
            {
              "item_id": 1
            }
          ],
          "base_uri": "https://localhost:8080/",
          "height": 51
        },
        "cellView": "both",
        "outputId": "22317ffd-59f4-4e8f-92fb-397a38e00ae1",
        "executionInfo": {
          "status": "ok",
          "timestamp": 1521333920137,
          "user_tz": 0,
          "elapsed": 642,
          "user": {
            "displayName": "Thiago Alves",
            "photoUrl": "//lh5.googleusercontent.com/-nRKZ3rt2Ziw/AAAAAAAAAAI/AAAAAAAAArI/B_wfrnbsgxU/s50-c-k-no/photo.jpg",
            "userId": "107747883410881429000"
          }
        }
      },
      "cell_type": "code",
      "source": [
        "# remoção de valor de uma lista em determinado index com del\n",
        "print(lista)\n",
        "\n",
        "del lista[2]\n",
        "\n",
        "print(lista)"
      ],
      "execution_count": 110,
      "outputs": [
        {
          "output_type": "stream",
          "text": [
            "[1, 2, 3, 4, 5]\n",
            "[1, 2, 4, 5]\n"
          ],
          "name": "stdout"
        }
      ]
    },
    {
      "metadata": {
        "id": "Z7Ez8MByIQg4",
        "colab_type": "code",
        "colab": {
          "autoexec": {
            "startup": false,
            "wait_interval": 0
          },
          "output_extras": [
            {
              "item_id": 1
            }
          ],
          "base_uri": "https://localhost:8080/",
          "height": 51
        },
        "cellView": "both",
        "outputId": "ed5dcb28-ee52-46d8-995f-c7bf811cbe84",
        "executionInfo": {
          "status": "ok",
          "timestamp": 1521333933374,
          "user_tz": 0,
          "elapsed": 529,
          "user": {
            "displayName": "Thiago Alves",
            "photoUrl": "//lh5.googleusercontent.com/-nRKZ3rt2Ziw/AAAAAAAAAAI/AAAAAAAAArI/B_wfrnbsgxU/s50-c-k-no/photo.jpg",
            "userId": "107747883410881429000"
          }
        }
      },
      "cell_type": "code",
      "source": [
        "# remoção do primeiro valor correspondente ao parâmetro informado\n",
        "# **valido com qualquel tipo de objeto que estiver dentro da lista\n",
        "lista.append(2)\n",
        "print(lista)\n",
        "\n",
        "lista.remove(2)\n",
        "print(lista)"
      ],
      "execution_count": 111,
      "outputs": [
        {
          "output_type": "stream",
          "text": [
            "[1, 2, 4, 5, 2]\n",
            "[1, 4, 5, 2]\n"
          ],
          "name": "stdout"
        }
      ]
    },
    {
      "metadata": {
        "id": "i5pks9fsI6Z_",
        "colab_type": "code",
        "colab": {
          "autoexec": {
            "startup": false,
            "wait_interval": 0
          }
        },
        "cellView": "both"
      },
      "cell_type": "code",
      "source": [
        "# caso o valor não exista na lista, um erro será gerado\n",
        "lista.remove(6)"
      ],
      "execution_count": 0,
      "outputs": []
    },
    {
      "metadata": {
        "id": "7Yu1nQN_JBeL",
        "colab_type": "code",
        "colab": {
          "autoexec": {
            "startup": false,
            "wait_interval": 0
          },
          "output_extras": [
            {
              "item_id": 1
            }
          ],
          "base_uri": "https://localhost:8080/",
          "height": 34
        },
        "cellView": "code",
        "outputId": "06b04ec3-5e90-429a-f7c9-e2331d396ca7",
        "executionInfo": {
          "status": "ok",
          "timestamp": 1521333951231,
          "user_tz": 0,
          "elapsed": 581,
          "user": {
            "displayName": "Thiago Alves",
            "photoUrl": "//lh5.googleusercontent.com/-nRKZ3rt2Ziw/AAAAAAAAAAI/AAAAAAAAArI/B_wfrnbsgxU/s50-c-k-no/photo.jpg",
            "userId": "107747883410881429000"
          }
        }
      },
      "cell_type": "code",
      "source": [
        "# inserir um valor em um determinado índice\n",
        "lista.insert(2, 8)\n",
        "print(lista)"
      ],
      "execution_count": 113,
      "outputs": [
        {
          "output_type": "stream",
          "text": [
            "[1, 4, 8, 5, 2]\n"
          ],
          "name": "stdout"
        }
      ]
    },
    {
      "metadata": {
        "id": "nCVBWoT5JYM4",
        "colab_type": "code",
        "colab": {
          "autoexec": {
            "startup": false,
            "wait_interval": 0
          },
          "output_extras": [
            {
              "item_id": 1
            }
          ],
          "base_uri": "https://localhost:8080/",
          "height": 34
        },
        "cellView": "code",
        "outputId": "992009e7-a196-4a4e-e637-16aabbd12543",
        "executionInfo": {
          "status": "ok",
          "timestamp": 1521333953407,
          "user_tz": 0,
          "elapsed": 534,
          "user": {
            "displayName": "Thiago Alves",
            "photoUrl": "//lh5.googleusercontent.com/-nRKZ3rt2Ziw/AAAAAAAAAAI/AAAAAAAAArI/B_wfrnbsgxU/s50-c-k-no/photo.jpg",
            "userId": "107747883410881429000"
          }
        }
      },
      "cell_type": "code",
      "source": [
        "# retorna o índice da primeira ocorrência do valor passado por parâmetro\n",
        "lista.index(8)"
      ],
      "execution_count": 114,
      "outputs": [
        {
          "output_type": "execute_result",
          "data": {
            "text/plain": [
              "2"
            ]
          },
          "metadata": {
            "tags": []
          },
          "execution_count": 114
        }
      ]
    },
    {
      "metadata": {
        "id": "pqXrYXJyJhHX",
        "colab_type": "code",
        "colab": {
          "autoexec": {
            "startup": false,
            "wait_interval": 0
          },
          "output_extras": [
            {
              "item_id": 1
            }
          ],
          "base_uri": "https://localhost:8080/",
          "height": 34
        },
        "cellView": "code",
        "outputId": "125fe676-fea8-4f6c-d113-a6fbc13d5056",
        "executionInfo": {
          "status": "ok",
          "timestamp": 1521333956346,
          "user_tz": 0,
          "elapsed": 575,
          "user": {
            "displayName": "Thiago Alves",
            "photoUrl": "//lh5.googleusercontent.com/-nRKZ3rt2Ziw/AAAAAAAAAAI/AAAAAAAAArI/B_wfrnbsgxU/s50-c-k-no/photo.jpg",
            "userId": "107747883410881429000"
          }
        }
      },
      "cell_type": "code",
      "source": [
        "# concatenação de listas com +\n",
        "lista + [9, 9, 9, 9, 'gold']"
      ],
      "execution_count": 115,
      "outputs": [
        {
          "output_type": "execute_result",
          "data": {
            "text/plain": [
              "[1, 4, 8, 5, 2, 9, 9, 9, 9, 'gold']"
            ]
          },
          "metadata": {
            "tags": []
          },
          "execution_count": 115
        }
      ]
    },
    {
      "metadata": {
        "id": "AenuCgy3JwDL",
        "colab_type": "code",
        "colab": {
          "autoexec": {
            "startup": false,
            "wait_interval": 0
          },
          "output_extras": [
            {
              "item_id": 1
            }
          ],
          "base_uri": "https://localhost:8080/",
          "height": 34
        },
        "cellView": "both",
        "outputId": "e425f2aa-8183-477a-a71b-af4e2f95adb7",
        "executionInfo": {
          "status": "ok",
          "timestamp": 1521330118692,
          "user_tz": 0,
          "elapsed": 549,
          "user": {
            "displayName": "Thiago Alves",
            "photoUrl": "//lh5.googleusercontent.com/-nRKZ3rt2Ziw/AAAAAAAAAAI/AAAAAAAAArI/B_wfrnbsgxU/s50-c-k-no/photo.jpg",
            "userId": "107747883410881429000"
          }
        }
      },
      "cell_type": "code",
      "source": [
        "# concatenação de listas com .extend()\n",
        "lista.extend([9, 9, 9, 9, 'gold'])\n",
        "\n",
        "print(lista)"
      ],
      "execution_count": 63,
      "outputs": [
        {
          "output_type": "stream",
          "text": [
            "[1, 4, 8, 5, 2, 9, 9, 9, 9, 'gold']\n"
          ],
          "name": "stdout"
        }
      ]
    },
    {
      "metadata": {
        "id": "ZKQy1CcXKNqa",
        "colab_type": "code",
        "colab": {
          "autoexec": {
            "startup": false,
            "wait_interval": 0
          },
          "output_extras": [
            {
              "item_id": 1
            }
          ],
          "base_uri": "https://localhost:8080/",
          "height": 51
        },
        "cellView": "both",
        "outputId": "4751256d-637a-42c0-e964-ac2de9eb4c54",
        "executionInfo": {
          "status": "ok",
          "timestamp": 1521333971204,
          "user_tz": 0,
          "elapsed": 552,
          "user": {
            "displayName": "Thiago Alves",
            "photoUrl": "//lh5.googleusercontent.com/-nRKZ3rt2Ziw/AAAAAAAAAAI/AAAAAAAAArI/B_wfrnbsgxU/s50-c-k-no/photo.jpg",
            "userId": "107747883410881429000"
          }
        }
      },
      "cell_type": "code",
      "source": [
        "# verificar se um valor está contido na lista com 'in'\n",
        "print(2 in lista)\n",
        "print(7 in lista)"
      ],
      "execution_count": 116,
      "outputs": [
        {
          "output_type": "stream",
          "text": [
            "True\n",
            "False\n"
          ],
          "name": "stdout"
        }
      ]
    },
    {
      "metadata": {
        "id": "ybTQXrhZLAXN",
        "colab_type": "code",
        "colab": {
          "autoexec": {
            "startup": false,
            "wait_interval": 0
          },
          "output_extras": [
            {
              "item_id": 1
            }
          ],
          "base_uri": "https://localhost:8080/",
          "height": 34
        },
        "cellView": "both",
        "outputId": "da2403d2-3edb-4674-df87-d73d09b707f1",
        "executionInfo": {
          "status": "ok",
          "timestamp": 1521333973986,
          "user_tz": 0,
          "elapsed": 521,
          "user": {
            "displayName": "Thiago Alves",
            "photoUrl": "//lh5.googleusercontent.com/-nRKZ3rt2Ziw/AAAAAAAAAAI/AAAAAAAAArI/B_wfrnbsgxU/s50-c-k-no/photo.jpg",
            "userId": "107747883410881429000"
          }
        }
      },
      "cell_type": "code",
      "source": [
        "# len também funciona para listas\n",
        "len(lista)"
      ],
      "execution_count": 117,
      "outputs": [
        {
          "output_type": "execute_result",
          "data": {
            "text/plain": [
              "5"
            ]
          },
          "metadata": {
            "tags": []
          },
          "execution_count": 117
        }
      ]
    },
    {
      "metadata": {
        "id": "pWcN853zT4PF",
        "colab_type": "code",
        "colab": {
          "autoexec": {
            "startup": false,
            "wait_interval": 0
          },
          "output_extras": [
            {
              "item_id": 1
            }
          ],
          "base_uri": "https://localhost:8080/",
          "height": 51
        },
        "cellView": "both",
        "outputId": "cb225eb5-6ee5-49ec-efbc-3d8ad3ab4360",
        "executionInfo": {
          "status": "ok",
          "timestamp": 1521333977381,
          "user_tz": 0,
          "elapsed": 529,
          "user": {
            "displayName": "Thiago Alves",
            "photoUrl": "//lh5.googleusercontent.com/-nRKZ3rt2Ziw/AAAAAAAAAAI/AAAAAAAAArI/B_wfrnbsgxU/s50-c-k-no/photo.jpg",
            "userId": "107747883410881429000"
          }
        }
      },
      "cell_type": "code",
      "source": [
        "# para checar o valor mínimo/máximo de uma lista use min() e max()\n",
        "lista = [1, 2, 3, 4, 10]\n",
        "menor = min(lista)\n",
        "maior = max(lista)\n",
        "print(menor)\n",
        "print(maior)"
      ],
      "execution_count": 118,
      "outputs": [
        {
          "output_type": "stream",
          "text": [
            "1\n",
            "10\n"
          ],
          "name": "stdout"
        }
      ]
    },
    {
      "metadata": {
        "id": "g0JOzv95K4jO",
        "colab_type": "text"
      },
      "cell_type": "markdown",
      "source": [
        "### Tuplas"
      ]
    },
    {
      "metadata": {
        "id": "IEd4Eus6KjF-",
        "colab_type": "code",
        "colab": {
          "autoexec": {
            "startup": false,
            "wait_interval": 0
          },
          "output_extras": [
            {
              "item_id": 1
            }
          ],
          "base_uri": "https://localhost:8080/",
          "height": 34
        },
        "outputId": "00d3533e-67d6-4fc5-ff7c-38f9a8e165c2",
        "executionInfo": {
          "status": "ok",
          "timestamp": 1521333981885,
          "user_tz": 0,
          "elapsed": 752,
          "user": {
            "displayName": "Thiago Alves",
            "photoUrl": "//lh5.googleusercontent.com/-nRKZ3rt2Ziw/AAAAAAAAAAI/AAAAAAAAArI/B_wfrnbsgxU/s50-c-k-no/photo.jpg",
            "userId": "107747883410881429000"
          }
        }
      },
      "cell_type": "code",
      "source": [
        "# Tuplas são como listas, só que imutáveis\n",
        "tupla = (1, 2, 3, 4, 5)\n",
        "tupla[2]"
      ],
      "execution_count": 119,
      "outputs": [
        {
          "output_type": "execute_result",
          "data": {
            "text/plain": [
              "3"
            ]
          },
          "metadata": {
            "tags": []
          },
          "execution_count": 119
        }
      ]
    },
    {
      "metadata": {
        "id": "xW9xbthlLk0W",
        "colab_type": "code",
        "colab": {
          "autoexec": {
            "startup": false,
            "wait_interval": 0
          }
        }
      },
      "cell_type": "code",
      "source": [
        "# já que elas são imutáveis, elas não podem ser alteradas :P\n",
        "tupla[3] = 5"
      ],
      "execution_count": 0,
      "outputs": []
    },
    {
      "metadata": {
        "id": "EPgXpvWKLzp3",
        "colab_type": "code",
        "colab": {
          "autoexec": {
            "startup": false,
            "wait_interval": 0
          },
          "output_extras": [
            {
              "item_id": 1
            }
          ],
          "base_uri": "https://localhost:8080/",
          "height": 68
        },
        "outputId": "3c5cd5f7-202e-4f00-dd8d-dccae9c9b59c",
        "executionInfo": {
          "status": "ok",
          "timestamp": 1521333989684,
          "user_tz": 0,
          "elapsed": 532,
          "user": {
            "displayName": "Thiago Alves",
            "photoUrl": "//lh5.googleusercontent.com/-nRKZ3rt2Ziw/AAAAAAAAAAI/AAAAAAAAArI/B_wfrnbsgxU/s50-c-k-no/photo.jpg",
            "userId": "107747883410881429000"
          }
        }
      },
      "cell_type": "code",
      "source": [
        "# para criar tuplas com um valor é necessário uma vírgula depois do valor\n",
        "# repare nos tipos de dados quando isso não é feito\n",
        "print(  type((1))  )\n",
        "print(  type((1,)) )\n",
        "print(  type(())   )\n"
      ],
      "execution_count": 120,
      "outputs": [
        {
          "output_type": "stream",
          "text": [
            "<class 'int'>\n",
            "<class 'tuple'>\n",
            "<class 'tuple'>\n"
          ],
          "name": "stdout"
        }
      ]
    },
    {
      "metadata": {
        "id": "TbwJDMN9MWaP",
        "colab_type": "code",
        "colab": {
          "autoexec": {
            "startup": false,
            "wait_interval": 0
          },
          "output_extras": [
            {
              "item_id": 1
            }
          ],
          "base_uri": "https://localhost:8080/",
          "height": 85
        },
        "outputId": "9e3ddf37-c9dc-46be-8d9c-98a5ec4868eb",
        "executionInfo": {
          "status": "ok",
          "timestamp": 1521333993937,
          "user_tz": 0,
          "elapsed": 528,
          "user": {
            "displayName": "Thiago Alves",
            "photoUrl": "//lh5.googleusercontent.com/-nRKZ3rt2Ziw/AAAAAAAAAAI/AAAAAAAAArI/B_wfrnbsgxU/s50-c-k-no/photo.jpg",
            "userId": "107747883410881429000"
          }
        }
      },
      "cell_type": "code",
      "source": [
        "# a maioria das operações feitas com listas podem ser feitas com tuplas\n",
        "print(  len(tupla)         )\n",
        "print(  tupla + (4, 5, 6)  )\n",
        "print(  tupla[:2]          )\n",
        "print(  2 in tupla         )"
      ],
      "execution_count": 121,
      "outputs": [
        {
          "output_type": "stream",
          "text": [
            "5\n",
            "(1, 2, 3, 4, 5, 4, 5, 6)\n",
            "(1, 2)\n",
            "True\n"
          ],
          "name": "stdout"
        }
      ]
    },
    {
      "metadata": {
        "id": "bpcMmE11M37E",
        "colab_type": "code",
        "colab": {
          "autoexec": {
            "startup": false,
            "wait_interval": 0
          },
          "output_extras": [
            {
              "item_id": 1
            }
          ],
          "base_uri": "https://localhost:8080/",
          "height": 119
        },
        "outputId": "2171a923-a3dd-494d-8187-a4d303d56325",
        "executionInfo": {
          "status": "ok",
          "timestamp": 1521333997365,
          "user_tz": 0,
          "elapsed": 544,
          "user": {
            "displayName": "Thiago Alves",
            "photoUrl": "//lh5.googleusercontent.com/-nRKZ3rt2Ziw/AAAAAAAAAAI/AAAAAAAAArI/B_wfrnbsgxU/s50-c-k-no/photo.jpg",
            "userId": "107747883410881429000"
          }
        }
      },
      "cell_type": "code",
      "source": [
        "# os valores de uma tupla/lista podem ser *desempacotados* em variáveis\n",
        "print(tupla)\n",
        "a1, a2, a3, a4, a5 = tupla\n",
        "print(a1)\n",
        "print(a2)\n",
        "print(a3)\n",
        "print(a4)\n",
        "print(a5)"
      ],
      "execution_count": 122,
      "outputs": [
        {
          "output_type": "stream",
          "text": [
            "(1, 2, 3, 4, 5)\n",
            "1\n",
            "2\n",
            "3\n",
            "4\n",
            "5\n"
          ],
          "name": "stdout"
        }
      ]
    },
    {
      "metadata": {
        "id": "HXo-2XWrNchp",
        "colab_type": "code",
        "colab": {
          "autoexec": {
            "startup": false,
            "wait_interval": 0
          },
          "output_extras": [
            {
              "item_id": 1
            }
          ],
          "base_uri": "https://localhost:8080/",
          "height": 68
        },
        "outputId": "ff337027-d597-4911-e301-7092d9b5f020",
        "executionInfo": {
          "status": "ok",
          "timestamp": 1521330143700,
          "user_tz": 0,
          "elapsed": 572,
          "user": {
            "displayName": "Thiago Alves",
            "photoUrl": "//lh5.googleusercontent.com/-nRKZ3rt2Ziw/AAAAAAAAAAI/AAAAAAAAArI/B_wfrnbsgxU/s50-c-k-no/photo.jpg",
            "userId": "107747883410881429000"
          }
        }
      },
      "cell_type": "code",
      "source": [
        "# com o operador star, é possível fazer coisas assim\n",
        "a, *b, c = tupla\n",
        "print(a)\n",
        "print(b)\n",
        "print(c)"
      ],
      "execution_count": 72,
      "outputs": [
        {
          "output_type": "stream",
          "text": [
            "1\n",
            "[2, 3, 4]\n",
            "5\n"
          ],
          "name": "stdout"
        }
      ]
    },
    {
      "metadata": {
        "id": "bABk6AiQORQ8",
        "colab_type": "code",
        "colab": {
          "autoexec": {
            "startup": false,
            "wait_interval": 0
          },
          "output_extras": [
            {
              "item_id": 1
            }
          ],
          "base_uri": "https://localhost:8080/",
          "height": 68
        },
        "outputId": "cb0191c3-0377-4041-a5c1-0416254c3647",
        "executionInfo": {
          "status": "ok",
          "timestamp": 1521334008696,
          "user_tz": 0,
          "elapsed": 540,
          "user": {
            "displayName": "Thiago Alves",
            "photoUrl": "//lh5.googleusercontent.com/-nRKZ3rt2Ziw/AAAAAAAAAAI/AAAAAAAAArI/B_wfrnbsgxU/s50-c-k-no/photo.jpg",
            "userId": "107747883410881429000"
          }
        }
      },
      "cell_type": "code",
      "source": [
        "# mesmo que não coloque parêntesis, por padrão uma tupla será criada\n",
        "a, b, c = 4, 5, 6\n",
        "print(a, '\\n', b, '\\n', c)"
      ],
      "execution_count": 123,
      "outputs": [
        {
          "output_type": "stream",
          "text": [
            "4 \n",
            " 5 \n",
            " 6\n"
          ],
          "name": "stdout"
        }
      ]
    },
    {
      "metadata": {
        "id": "Gg-IrKN4Pe-N",
        "colab_type": "code",
        "colab": {
          "autoexec": {
            "startup": false,
            "wait_interval": 0
          },
          "output_extras": [
            {
              "item_id": 1
            }
          ],
          "base_uri": "https://localhost:8080/",
          "height": 51
        },
        "outputId": "244348b6-207e-47b0-cbb9-841e17056c0e",
        "executionInfo": {
          "status": "ok",
          "timestamp": 1521334026696,
          "user_tz": 0,
          "elapsed": 562,
          "user": {
            "displayName": "Thiago Alves",
            "photoUrl": "//lh5.googleusercontent.com/-nRKZ3rt2Ziw/AAAAAAAAAAI/AAAAAAAAArI/B_wfrnbsgxU/s50-c-k-no/photo.jpg",
            "userId": "107747883410881429000"
          }
        }
      },
      "cell_type": "code",
      "source": [
        "# ** Exercício: faça um algoritmo que troque os valores das variáveis abaixo sem que valores se percam\n",
        "A = 5\n",
        "B = 6\n",
        "\n",
        "A, B = B, A\n",
        "\n",
        "print(A)\n",
        "print(B)"
      ],
      "execution_count": 124,
      "outputs": [
        {
          "output_type": "stream",
          "text": [
            "6\n",
            "5\n"
          ],
          "name": "stdout"
        }
      ]
    },
    {
      "metadata": {
        "id": "SKFoS0HbUZWm",
        "colab_type": "text"
      },
      "cell_type": "markdown",
      "source": [
        "### Conjuntos"
      ]
    },
    {
      "metadata": {
        "id": "OxDuwbGLUvs1",
        "colab_type": "code",
        "colab": {
          "autoexec": {
            "startup": false,
            "wait_interval": 0
          },
          "output_extras": [
            {
              "item_id": 1
            }
          ],
          "base_uri": "https://localhost:8080/",
          "height": 51
        },
        "outputId": "e80146bb-f68a-49c6-d088-04b57952490b",
        "executionInfo": {
          "status": "ok",
          "timestamp": 1521334035795,
          "user_tz": 0,
          "elapsed": 570,
          "user": {
            "displayName": "Thiago Alves",
            "photoUrl": "//lh5.googleusercontent.com/-nRKZ3rt2Ziw/AAAAAAAAAAI/AAAAAAAAArI/B_wfrnbsgxU/s50-c-k-no/photo.jpg",
            "userId": "107747883410881429000"
          }
        }
      },
      "cell_type": "code",
      "source": [
        "# conjuntos, armazenam conjuntos de dados, logo, eles não se repetem\n",
        "\n",
        "# formas de iniciar um conjunto vazio\n",
        "conj_vazio1 = set()\n",
        "conj_vazio2 = {}\n",
        "\n",
        "# caso tente colocar valores repetidos, isto acontecerá\n",
        "conj = {1,1,2,2,3,3,4,4,5}\n",
        "print(conj)\n",
        "\n",
        "# adicionar valores a um conjunto\n",
        "conj.add(6)\n",
        "print(conj)"
      ],
      "execution_count": 125,
      "outputs": [
        {
          "output_type": "stream",
          "text": [
            "{1, 2, 3, 4, 5}\n",
            "{1, 2, 3, 4, 5, 6}\n"
          ],
          "name": "stdout"
        }
      ]
    },
    {
      "metadata": {
        "id": "uOhzkXzGXBgY",
        "colab_type": "code",
        "colab": {
          "autoexec": {
            "startup": false,
            "wait_interval": 0
          },
          "output_extras": [
            {
              "item_id": 1
            }
          ],
          "base_uri": "https://localhost:8080/",
          "height": 34
        },
        "outputId": "ed7358db-3dfe-4ed1-f3e8-44ece4d0c055",
        "executionInfo": {
          "status": "ok",
          "timestamp": 1521334051763,
          "user_tz": 0,
          "elapsed": 533,
          "user": {
            "displayName": "Thiago Alves",
            "photoUrl": "//lh5.googleusercontent.com/-nRKZ3rt2Ziw/AAAAAAAAAAI/AAAAAAAAArI/B_wfrnbsgxU/s50-c-k-no/photo.jpg",
            "userId": "107747883410881429000"
          }
        }
      },
      "cell_type": "code",
      "source": [
        "# intersecção de conjuntos com & (and)\n",
        "conj_a = {1, 2, 3}\n",
        "conj_b = {2, 3, 4}\n",
        "\n",
        "inserseccao = conj_a & conj_b\n",
        "print(inserseccao)"
      ],
      "execution_count": 126,
      "outputs": [
        {
          "output_type": "stream",
          "text": [
            "{2, 3}\n"
          ],
          "name": "stdout"
        }
      ]
    },
    {
      "metadata": {
        "id": "VwTBYDuXXeZ7",
        "colab_type": "code",
        "colab": {
          "autoexec": {
            "startup": false,
            "wait_interval": 0
          },
          "output_extras": [
            {
              "item_id": 1
            }
          ],
          "base_uri": "https://localhost:8080/",
          "height": 34
        },
        "outputId": "b08ceb79-a967-472b-966d-769b4c99858e",
        "executionInfo": {
          "status": "ok",
          "timestamp": 1521334056778,
          "user_tz": 0,
          "elapsed": 534,
          "user": {
            "displayName": "Thiago Alves",
            "photoUrl": "//lh5.googleusercontent.com/-nRKZ3rt2Ziw/AAAAAAAAAAI/AAAAAAAAArI/B_wfrnbsgxU/s50-c-k-no/photo.jpg",
            "userId": "107747883410881429000"
          }
        }
      },
      "cell_type": "code",
      "source": [
        "# união de conjuntos com | (or)\n",
        "conj_a = {1, 2, 3}\n",
        "conj_b = {2, 3, 4}\n",
        "\n",
        "uniao = conj_a | conj_b\n",
        "print(uniao)"
      ],
      "execution_count": 127,
      "outputs": [
        {
          "output_type": "stream",
          "text": [
            "{1, 2, 3, 4}\n"
          ],
          "name": "stdout"
        }
      ]
    },
    {
      "metadata": {
        "id": "bt_cb4enXvEm",
        "colab_type": "code",
        "colab": {
          "autoexec": {
            "startup": false,
            "wait_interval": 0
          },
          "output_extras": [
            {
              "item_id": 1
            }
          ],
          "base_uri": "https://localhost:8080/",
          "height": 34
        },
        "outputId": "109a2018-8162-44fe-f130-6a7e728dba21",
        "executionInfo": {
          "status": "ok",
          "timestamp": 1521334059823,
          "user_tz": 0,
          "elapsed": 593,
          "user": {
            "displayName": "Thiago Alves",
            "photoUrl": "//lh5.googleusercontent.com/-nRKZ3rt2Ziw/AAAAAAAAAAI/AAAAAAAAArI/B_wfrnbsgxU/s50-c-k-no/photo.jpg",
            "userId": "107747883410881429000"
          }
        }
      },
      "cell_type": "code",
      "source": [
        "# diferença de conjuntos com - (tem no primeiro e não no segundo)\n",
        "conj_a = {1, 2, 3}\n",
        "conj_b = {2, 3, 4}\n",
        "\n",
        "diferenca = conj_a - conj_b\n",
        "print(diferenca)"
      ],
      "execution_count": 128,
      "outputs": [
        {
          "output_type": "stream",
          "text": [
            "{1}\n"
          ],
          "name": "stdout"
        }
      ]
    },
    {
      "metadata": {
        "id": "MqxIOeopX_zE",
        "colab_type": "code",
        "colab": {
          "autoexec": {
            "startup": false,
            "wait_interval": 0
          },
          "output_extras": [
            {
              "item_id": 1
            }
          ],
          "base_uri": "https://localhost:8080/",
          "height": 34
        },
        "outputId": "20b173ef-063f-47f8-a8f5-398add4600ec",
        "executionInfo": {
          "status": "ok",
          "timestamp": 1521334064698,
          "user_tz": 0,
          "elapsed": 530,
          "user": {
            "displayName": "Thiago Alves",
            "photoUrl": "//lh5.googleusercontent.com/-nRKZ3rt2Ziw/AAAAAAAAAAI/AAAAAAAAArI/B_wfrnbsgxU/s50-c-k-no/photo.jpg",
            "userId": "107747883410881429000"
          }
        }
      },
      "cell_type": "code",
      "source": [
        "# diferença simétrica de conjuntos com ^ (tem no primeiro e não no segundo ou inverso)\n",
        "conj_a = {1, 2, 3}\n",
        "conj_b = {2, 3, 4}\n",
        "\n",
        "diferenca = conj_a ^ conj_b\n",
        "print(diferenca)"
      ],
      "execution_count": 129,
      "outputs": [
        {
          "output_type": "stream",
          "text": [
            "{1, 4}\n"
          ],
          "name": "stdout"
        }
      ]
    },
    {
      "metadata": {
        "id": "sat4MZeyYPqH",
        "colab_type": "code",
        "colab": {
          "autoexec": {
            "startup": false,
            "wait_interval": 0
          },
          "output_extras": [
            {
              "item_id": 1
            }
          ],
          "base_uri": "https://localhost:8080/",
          "height": 34
        },
        "outputId": "68069347-0ca5-4279-8ae3-4e0c2dc435c8",
        "executionInfo": {
          "status": "ok",
          "timestamp": 1521334077662,
          "user_tz": 0,
          "elapsed": 529,
          "user": {
            "displayName": "Thiago Alves",
            "photoUrl": "//lh5.googleusercontent.com/-nRKZ3rt2Ziw/AAAAAAAAAAI/AAAAAAAAArI/B_wfrnbsgxU/s50-c-k-no/photo.jpg",
            "userId": "107747883410881429000"
          }
        }
      },
      "cell_type": "code",
      "source": [
        "# verifica se o segundo conjunto está contido no primeiro\n",
        "{1, 2} >= {1, 2, 3}"
      ],
      "execution_count": 130,
      "outputs": [
        {
          "output_type": "execute_result",
          "data": {
            "text/plain": [
              "False"
            ]
          },
          "metadata": {
            "tags": []
          },
          "execution_count": 130
        }
      ]
    },
    {
      "metadata": {
        "id": "uBz0bvq2YgiX",
        "colab_type": "code",
        "colab": {
          "autoexec": {
            "startup": false,
            "wait_interval": 0
          },
          "output_extras": [
            {
              "item_id": 1
            }
          ],
          "base_uri": "https://localhost:8080/",
          "height": 34
        },
        "outputId": "563535c0-3232-4a2d-d3ab-48cdac51d5a1",
        "executionInfo": {
          "status": "ok",
          "timestamp": 1521334080187,
          "user_tz": 0,
          "elapsed": 557,
          "user": {
            "displayName": "Thiago Alves",
            "photoUrl": "//lh5.googleusercontent.com/-nRKZ3rt2Ziw/AAAAAAAAAAI/AAAAAAAAArI/B_wfrnbsgxU/s50-c-k-no/photo.jpg",
            "userId": "107747883410881429000"
          }
        }
      },
      "cell_type": "code",
      "source": [
        "# verifica se o primeiro conjunto é subset do segundo\n",
        "{1, 2} <= {1, 2, 3}"
      ],
      "execution_count": 131,
      "outputs": [
        {
          "output_type": "execute_result",
          "data": {
            "text/plain": [
              "True"
            ]
          },
          "metadata": {
            "tags": []
          },
          "execution_count": 131
        }
      ]
    },
    {
      "metadata": {
        "id": "E-zPOSMbYsTz",
        "colab_type": "code",
        "colab": {
          "autoexec": {
            "startup": false,
            "wait_interval": 0
          },
          "output_extras": [
            {
              "item_id": 1
            }
          ],
          "base_uri": "https://localhost:8080/",
          "height": 51
        },
        "outputId": "f2bbadfe-0fb2-4ef1-b546-1e9672fa230f",
        "executionInfo": {
          "status": "ok",
          "timestamp": 1521334082507,
          "user_tz": 0,
          "elapsed": 561,
          "user": {
            "displayName": "Thiago Alves",
            "photoUrl": "//lh5.googleusercontent.com/-nRKZ3rt2Ziw/AAAAAAAAAAI/AAAAAAAAArI/B_wfrnbsgxU/s50-c-k-no/photo.jpg",
            "userId": "107747883410881429000"
          }
        }
      },
      "cell_type": "code",
      "source": [
        "# testa se um valor está contido em um conjunto\n",
        "print( 7 in {3, 4, 5})\n",
        "print( 5 in {3, 4, 5})"
      ],
      "execution_count": 132,
      "outputs": [
        {
          "output_type": "stream",
          "text": [
            "False\n",
            "True\n"
          ],
          "name": "stdout"
        }
      ]
    },
    {
      "metadata": {
        "id": "QwfNtfjuZgS4",
        "colab_type": "text"
      },
      "cell_type": "markdown",
      "source": [
        "### Dicionários\n",
        "\n",
        "Armazena mapeamentos chave-valor"
      ]
    },
    {
      "metadata": {
        "id": "EqcGxoEgZm5h",
        "colab_type": "code",
        "colab": {
          "autoexec": {
            "startup": false,
            "wait_interval": 0
          }
        }
      },
      "cell_type": "code",
      "source": [
        "# dicionário vazio, semalhante a um set\n",
        "dict_vazio = {}\n",
        "dict_vazio = dict()\n"
      ],
      "execution_count": 0,
      "outputs": []
    },
    {
      "metadata": {
        "id": "6lm8lYYMZz2-",
        "colab_type": "code",
        "colab": {
          "autoexec": {
            "startup": false,
            "wait_interval": 0
          },
          "output_extras": [
            {
              "item_id": 1
            }
          ],
          "base_uri": "https://localhost:8080/",
          "height": 68
        },
        "outputId": "e3ed78af-8feb-4742-a928-626517cd134b",
        "executionInfo": {
          "status": "ok",
          "timestamp": 1521334128616,
          "user_tz": 0,
          "elapsed": 520,
          "user": {
            "displayName": "Thiago Alves",
            "photoUrl": "//lh5.googleusercontent.com/-nRKZ3rt2Ziw/AAAAAAAAAAI/AAAAAAAAArI/B_wfrnbsgxU/s50-c-k-no/photo.jpg",
            "userId": "107747883410881429000"
          }
        }
      },
      "cell_type": "code",
      "source": [
        "# inicialização de um dicionário com valores\n",
        "dicionario = {\"k1\": 1, \"k2\": 'val k2', \"k3\": 3}\n",
        "print(dicionario)\n",
        "\n",
        "# acessando uma posição de um dicionário\n",
        "print(dicionario['k1'])\n",
        "print(dicionario['k2'])"
      ],
      "execution_count": 135,
      "outputs": [
        {
          "output_type": "stream",
          "text": [
            "{'k1': 1, 'k2': 'val k2', 'k3': 3}\n",
            "1\n",
            "val k2\n"
          ],
          "name": "stdout"
        }
      ]
    },
    {
      "metadata": {
        "id": "x2ilAaafafzi",
        "colab_type": "code",
        "colab": {
          "autoexec": {
            "startup": false,
            "wait_interval": 0
          },
          "output_extras": [
            {
              "item_id": 1
            }
          ],
          "base_uri": "https://localhost:8080/",
          "height": 51
        },
        "outputId": "e2b36533-1e40-4671-b7fa-447afba86e12",
        "executionInfo": {
          "status": "ok",
          "timestamp": 1521334132012,
          "user_tz": 0,
          "elapsed": 569,
          "user": {
            "displayName": "Thiago Alves",
            "photoUrl": "//lh5.googleusercontent.com/-nRKZ3rt2Ziw/AAAAAAAAAAI/AAAAAAAAArI/B_wfrnbsgxU/s50-c-k-no/photo.jpg",
            "userId": "107747883410881429000"
          }
        }
      },
      "cell_type": "code",
      "source": [
        "# obter keys do dicionário\n",
        "keys = list(dicionario.keys()) \n",
        "print(keys)\n",
        "\n",
        "# obter valores do dicionário\n",
        "values = list(dicionario.values()) \n",
        "print(values)"
      ],
      "execution_count": 136,
      "outputs": [
        {
          "output_type": "stream",
          "text": [
            "['k1', 'k2', 'k3']\n",
            "[1, 'val k2', 3]\n"
          ],
          "name": "stdout"
        }
      ]
    },
    {
      "metadata": {
        "id": "os2PsBHEa_iP",
        "colab_type": "code",
        "colab": {
          "autoexec": {
            "startup": false,
            "wait_interval": 0
          },
          "output_extras": [
            {
              "item_id": 1
            }
          ],
          "base_uri": "https://localhost:8080/",
          "height": 34
        },
        "outputId": "f56665e5-8696-43b6-cd30-277e91397968",
        "executionInfo": {
          "status": "ok",
          "timestamp": 1521334139938,
          "user_tz": 0,
          "elapsed": 533,
          "user": {
            "displayName": "Thiago Alves",
            "photoUrl": "//lh5.googleusercontent.com/-nRKZ3rt2Ziw/AAAAAAAAAAI/AAAAAAAAArI/B_wfrnbsgxU/s50-c-k-no/photo.jpg",
            "userId": "107747883410881429000"
          }
        }
      },
      "cell_type": "code",
      "source": [
        "# testa a existência de uma chave em um dicionário\n",
        "\"k1\" in dicionario"
      ],
      "execution_count": 138,
      "outputs": [
        {
          "output_type": "execute_result",
          "data": {
            "text/plain": [
              "True"
            ]
          },
          "metadata": {
            "tags": []
          },
          "execution_count": 138
        }
      ]
    },
    {
      "metadata": {
        "id": "0B7Nb932bO4m",
        "colab_type": "code",
        "colab": {
          "autoexec": {
            "startup": false,
            "wait_interval": 0
          }
        }
      },
      "cell_type": "code",
      "source": [
        "# tentando acessar o valor do dicionario dessa forma resultará em erro caso ele não exista\n",
        "dicionario = {'val1': 1, 'val2': 2}\n",
        "print(dicionario['val3'])"
      ],
      "execution_count": 0,
      "outputs": []
    },
    {
      "metadata": {
        "id": "4osU44zZbkNN",
        "colab_type": "code",
        "colab": {
          "autoexec": {
            "startup": false,
            "wait_interval": 0
          },
          "output_extras": [
            {
              "item_id": 1
            }
          ],
          "base_uri": "https://localhost:8080/",
          "height": 51
        },
        "outputId": "14327104-b19b-4592-cbb4-35021e037ca9",
        "executionInfo": {
          "status": "ok",
          "timestamp": 1521334151067,
          "user_tz": 0,
          "elapsed": 551,
          "user": {
            "displayName": "Thiago Alves",
            "photoUrl": "//lh5.googleusercontent.com/-nRKZ3rt2Ziw/AAAAAAAAAAI/AAAAAAAAArI/B_wfrnbsgxU/s50-c-k-no/photo.jpg",
            "userId": "107747883410881429000"
          }
        }
      },
      "cell_type": "code",
      "source": [
        "# com o get, o erro não será *levantado*\n",
        "dicionario = {'val1': 1, 'val2': 2}\n",
        "print(dicionario.get('val3'))\n",
        "\n",
        "# exemplo com uma chave existente\n",
        "print(dicionario.get('val2'))"
      ],
      "execution_count": 140,
      "outputs": [
        {
          "output_type": "stream",
          "text": [
            "None\n",
            "2\n"
          ],
          "name": "stdout"
        }
      ]
    },
    {
      "metadata": {
        "id": "uCLCjI0odbZE",
        "colab_type": "code",
        "colab": {
          "autoexec": {
            "startup": false,
            "wait_interval": 0
          },
          "output_extras": [
            {
              "item_id": 1
            }
          ],
          "base_uri": "https://localhost:8080/",
          "height": 51
        },
        "outputId": "c39f5fb2-a660-4e34-d3f9-4bd10a194c83",
        "executionInfo": {
          "status": "ok",
          "timestamp": 1521334154044,
          "user_tz": 0,
          "elapsed": 544,
          "user": {
            "displayName": "Thiago Alves",
            "photoUrl": "//lh5.googleusercontent.com/-nRKZ3rt2Ziw/AAAAAAAAAAI/AAAAAAAAArI/B_wfrnbsgxU/s50-c-k-no/photo.jpg",
            "userId": "107747883410881429000"
          }
        }
      },
      "cell_type": "code",
      "source": [
        "# com o método .get() é possível inserir um valor padrão para quando uma chave não existe\n",
        "print(dicionario.get(\"val1\", 'valor padrao'))\n",
        "print(dicionario.get(\"val4\", 'valor padrao'))"
      ],
      "execution_count": 141,
      "outputs": [
        {
          "output_type": "stream",
          "text": [
            "1\n",
            "valor padrao\n"
          ],
          "name": "stdout"
        }
      ]
    },
    {
      "metadata": {
        "id": "NkuVpnRUd8gO",
        "colab_type": "code",
        "colab": {
          "autoexec": {
            "startup": false,
            "wait_interval": 0
          },
          "output_extras": [
            {
              "item_id": 1
            }
          ],
          "base_uri": "https://localhost:8080/",
          "height": 68
        },
        "outputId": "fedc871a-893c-4c6b-b9d7-210bfb2a21f1",
        "executionInfo": {
          "status": "ok",
          "timestamp": 1521334157719,
          "user_tz": 0,
          "elapsed": 546,
          "user": {
            "displayName": "Thiago Alves",
            "photoUrl": "//lh5.googleusercontent.com/-nRKZ3rt2Ziw/AAAAAAAAAAI/AAAAAAAAArI/B_wfrnbsgxU/s50-c-k-no/photo.jpg",
            "userId": "107747883410881429000"
          }
        }
      },
      "cell_type": "code",
      "source": [
        "# use setdefault() para inserir um valor (valido apenas se o valor ainda não existe)\n",
        "dicionario = {'val1': 1, 'val2': 2}\n",
        "print(dicionario)\n",
        "dicionario.setdefault(\"val1\", 5)\n",
        "print(dicionario)\n",
        "dicionario.setdefault(\"val3\", 6)\n",
        "print(dicionario)"
      ],
      "execution_count": 142,
      "outputs": [
        {
          "output_type": "stream",
          "text": [
            "{'val1': 1, 'val2': 2}\n",
            "{'val1': 1, 'val2': 2}\n",
            "{'val1': 1, 'val2': 2, 'val3': 6}\n"
          ],
          "name": "stdout"
        }
      ]
    },
    {
      "metadata": {
        "id": "fHmk78vpeY8j",
        "colab_type": "code",
        "colab": {
          "autoexec": {
            "startup": false,
            "wait_interval": 0
          },
          "output_extras": [
            {
              "item_id": 1
            }
          ],
          "base_uri": "https://localhost:8080/",
          "height": 68
        },
        "outputId": "8b5ce641-71aa-42d9-dce0-8714aa1e762b",
        "executionInfo": {
          "status": "ok",
          "timestamp": 1521334160449,
          "user_tz": 0,
          "elapsed": 1039,
          "user": {
            "displayName": "Thiago Alves",
            "photoUrl": "//lh5.googleusercontent.com/-nRKZ3rt2Ziw/AAAAAAAAAAI/AAAAAAAAArI/B_wfrnbsgxU/s50-c-k-no/photo.jpg",
            "userId": "107747883410881429000"
          }
        }
      },
      "cell_type": "code",
      "source": [
        "# formas de alterar valores em um dicionário\n",
        "print('anterior', dicionario)\n",
        "dicionario.update({\"val1\":4})\n",
        "print(dicionario)\n",
        "dicionario[\"val2\"] = 8\n",
        "print(dicionario)"
      ],
      "execution_count": 143,
      "outputs": [
        {
          "output_type": "stream",
          "text": [
            "anterior {'val1': 1, 'val2': 2, 'val3': 6}\n",
            "{'val1': 4, 'val2': 2, 'val3': 6}\n",
            "{'val1': 4, 'val2': 8, 'val3': 6}\n"
          ],
          "name": "stdout"
        }
      ]
    },
    {
      "metadata": {
        "id": "9OZ_wnYQe8il",
        "colab_type": "code",
        "colab": {
          "autoexec": {
            "startup": false,
            "wait_interval": 0
          },
          "output_extras": [
            {
              "item_id": 1
            }
          ],
          "base_uri": "https://localhost:8080/",
          "height": 51
        },
        "outputId": "0b7d69c8-e52d-4c11-9ad4-e162adc2dc41",
        "executionInfo": {
          "status": "ok",
          "timestamp": 1521334163764,
          "user_tz": 0,
          "elapsed": 525,
          "user": {
            "displayName": "Thiago Alves",
            "photoUrl": "//lh5.googleusercontent.com/-nRKZ3rt2Ziw/AAAAAAAAAAI/AAAAAAAAArI/B_wfrnbsgxU/s50-c-k-no/photo.jpg",
            "userId": "107747883410881429000"
          }
        }
      },
      "cell_type": "code",
      "source": [
        "# remover valores de um dicionário\n",
        "print(dicionario)\n",
        "del dicionario[\"val1\"]\n",
        "print(dicionario)"
      ],
      "execution_count": 144,
      "outputs": [
        {
          "output_type": "stream",
          "text": [
            "{'val1': 4, 'val2': 8, 'val3': 6}\n",
            "{'val2': 8, 'val3': 6}\n"
          ],
          "name": "stdout"
        }
      ]
    },
    {
      "metadata": {
        "id": "Od4BOK_6UeLq",
        "colab_type": "text"
      },
      "cell_type": "markdown",
      "source": [
        "### Comprehensions\n",
        "\n",
        "Podem ser criadas com listas, dicionários, sets e tuplas. Algumas de suas funções também podem ser implementadas utiliando as funções map() e filter() [vistas aqui](https://colab.research.google.com/drive/1ONPwarsttxBSUXY--ZLxNARkwij7gLau#scrollTo=1Q19SWWiTD97&line=5&uniqifier=1)"
      ]
    },
    {
      "metadata": {
        "id": "dmefNoEyUjUm",
        "colab_type": "code",
        "colab": {
          "autoexec": {
            "startup": false,
            "wait_interval": 0
          },
          "output_extras": [
            {
              "item_id": 1
            }
          ],
          "base_uri": "https://localhost:8080/",
          "height": 51
        },
        "outputId": "07ba1063-21c3-44f8-af4f-ade17181a3ee",
        "executionInfo": {
          "status": "ok",
          "timestamp": 1521334178184,
          "user_tz": 0,
          "elapsed": 546,
          "user": {
            "displayName": "Thiago Alves",
            "photoUrl": "//lh5.googleusercontent.com/-nRKZ3rt2Ziw/AAAAAAAAAAI/AAAAAAAAArI/B_wfrnbsgxU/s50-c-k-no/photo.jpg",
            "userId": "107747883410881429000"
          }
        }
      },
      "cell_type": "code",
      "source": [
        "# comprehensions podem ser utilizadas para executar funções item a item de uma collection\n",
        "# retorna uma lista com cada item acrescido de 5\n",
        "resultado = [i + 5 for i in [1, 2, 3]] \n",
        "\n",
        "print(resultado)\n",
        "\n",
        "# expressões lambda que serão vistas em breve também podem ser utilizadas\n",
        "lambda_expr = lambda x: x + 6\n",
        "result_lambda = [lambda_expr(i) for i in [1,2,3]]\n",
        "\n",
        "print(result_lambda)"
      ],
      "execution_count": 145,
      "outputs": [
        {
          "output_type": "stream",
          "text": [
            "[6, 7, 8]\n",
            "[7, 8, 9]\n"
          ],
          "name": "stdout"
        }
      ]
    },
    {
      "metadata": {
        "id": "lHZNqSHnWS5d",
        "colab_type": "code",
        "colab": {
          "autoexec": {
            "startup": false,
            "wait_interval": 0
          },
          "output_extras": [
            {
              "item_id": 1
            }
          ],
          "base_uri": "https://localhost:8080/",
          "height": 34
        },
        "outputId": "82c2cf67-6e28-4d20-dcfe-25e9a4aaa629",
        "executionInfo": {
          "status": "ok",
          "timestamp": 1521334182442,
          "user_tz": 0,
          "elapsed": 562,
          "user": {
            "displayName": "Thiago Alves",
            "photoUrl": "//lh5.googleusercontent.com/-nRKZ3rt2Ziw/AAAAAAAAAAI/AAAAAAAAArI/B_wfrnbsgxU/s50-c-k-no/photo.jpg",
            "userId": "107747883410881429000"
          }
        }
      },
      "cell_type": "code",
      "source": [
        "# filtros podem ser feitos utilizando desvios condicionais dentro de comprehensions\n",
        "# desvios condicionais serão melhores explicados na seção a seguir\n",
        "maiores_que_cinco = [i for i in [1,2,4,5,7,8] if i > 5]\n",
        "print(maiores_que_cinco)"
      ],
      "execution_count": 146,
      "outputs": [
        {
          "output_type": "stream",
          "text": [
            "[7, 8]\n"
          ],
          "name": "stdout"
        }
      ]
    },
    {
      "metadata": {
        "id": "YSwUPUL7W7Pa",
        "colab_type": "code",
        "colab": {
          "autoexec": {
            "startup": false,
            "wait_interval": 0
          },
          "output_extras": [
            {
              "item_id": 1
            }
          ],
          "base_uri": "https://localhost:8080/",
          "height": 34
        },
        "outputId": "1ad4200a-fb1a-4f7b-928a-fa2de0675dec",
        "executionInfo": {
          "status": "ok",
          "timestamp": 1521334184916,
          "user_tz": 0,
          "elapsed": 692,
          "user": {
            "displayName": "Thiago Alves",
            "photoUrl": "//lh5.googleusercontent.com/-nRKZ3rt2Ziw/AAAAAAAAAAI/AAAAAAAAArI/B_wfrnbsgxU/s50-c-k-no/photo.jpg",
            "userId": "107747883410881429000"
          }
        }
      },
      "cell_type": "code",
      "source": [
        "# exemplo da criação de um conjunto utilizando comprehensions\n",
        "{x for x in 'abcddeef' if x not in 'abc'}"
      ],
      "execution_count": 147,
      "outputs": [
        {
          "output_type": "execute_result",
          "data": {
            "text/plain": [
              "{'d', 'e', 'f'}"
            ]
          },
          "metadata": {
            "tags": []
          },
          "execution_count": 147
        }
      ]
    },
    {
      "metadata": {
        "id": "25FQyWp1f-Iv",
        "colab_type": "text"
      },
      "cell_type": "markdown",
      "source": [
        "## Desvio Condicional"
      ]
    },
    {
      "metadata": {
        "id": "1FQ9VlISgB6-",
        "colab_type": "code",
        "colab": {
          "autoexec": {
            "startup": false,
            "wait_interval": 0
          },
          "output_extras": [
            {
              "item_id": 1
            }
          ],
          "base_uri": "https://localhost:8080/",
          "height": 34
        },
        "outputId": "06bd9ad6-c586-4cec-9943-69c309d37ec7",
        "executionInfo": {
          "status": "ok",
          "timestamp": 1521334189422,
          "user_tz": 0,
          "elapsed": 819,
          "user": {
            "displayName": "Thiago Alves",
            "photoUrl": "//lh5.googleusercontent.com/-nRKZ3rt2Ziw/AAAAAAAAAAI/AAAAAAAAArI/B_wfrnbsgxU/s50-c-k-no/photo.jpg",
            "userId": "107747883410881429000"
          }
        }
      },
      "cell_type": "code",
      "source": [
        "# estrutura if\n",
        "uma_variavel = 10\n",
        "\n",
        "if uma_variavel < 5:\n",
        "  print('Menor que 5')\n",
        "elif uma_variavel < 6:\n",
        "  print('Menor que 6')\n",
        "elif uma_variavel < 10:\n",
        "  print('Menor que 10')\n",
        "else:\n",
        "  print('Nenhuma das anteriores')"
      ],
      "execution_count": 148,
      "outputs": [
        {
          "output_type": "stream",
          "text": [
            "Nenhuma das anteriores\n"
          ],
          "name": "stdout"
        }
      ]
    },
    {
      "metadata": {
        "id": "wmH1mbqkgirx",
        "colab_type": "code",
        "colab": {
          "autoexec": {
            "startup": false,
            "wait_interval": 0
          },
          "output_extras": [
            {
              "item_id": 1
            }
          ],
          "base_uri": "https://localhost:8080/",
          "height": 34
        },
        "outputId": "9903712c-3a22-4197-d206-24fefec4271f",
        "executionInfo": {
          "status": "ok",
          "timestamp": 1521334192124,
          "user_tz": 0,
          "elapsed": 557,
          "user": {
            "displayName": "Thiago Alves",
            "photoUrl": "//lh5.googleusercontent.com/-nRKZ3rt2Ziw/AAAAAAAAAAI/AAAAAAAAArI/B_wfrnbsgxU/s50-c-k-no/photo.jpg",
            "userId": "107747883410881429000"
          }
        }
      },
      "cell_type": "code",
      "source": [
        "# outro exemplo\n",
        "variavel = 5\n",
        "\n",
        "if 1 < variavel < 6:\n",
        "  print('número maior que 1 e menor que 6')"
      ],
      "execution_count": 149,
      "outputs": [
        {
          "output_type": "stream",
          "text": [
            "número maior que 1 e menor que 6\n"
          ],
          "name": "stdout"
        }
      ]
    },
    {
      "metadata": {
        "id": "7IaNURUeg54S",
        "colab_type": "code",
        "colab": {
          "autoexec": {
            "startup": false,
            "wait_interval": 0
          },
          "output_extras": [
            {
              "item_id": 1
            }
          ],
          "base_uri": "https://localhost:8080/",
          "height": 34
        },
        "outputId": "1cb32412-3fc7-45cd-e42b-73100d7f3371",
        "executionInfo": {
          "status": "ok",
          "timestamp": 1521334194935,
          "user_tz": 0,
          "elapsed": 562,
          "user": {
            "displayName": "Thiago Alves",
            "photoUrl": "//lh5.googleusercontent.com/-nRKZ3rt2Ziw/AAAAAAAAAAI/AAAAAAAAArI/B_wfrnbsgxU/s50-c-k-no/photo.jpg",
            "userId": "107747883410881429000"
          }
        }
      },
      "cell_type": "code",
      "source": [
        "# operador \"ternário\"\n",
        "\n",
        "# resultado = se_verdadeiro if condição else se_falso\n",
        "resultado = \"Verdadeiro\" if 5 > -5 else \"Falso\"\n",
        "print(resultado)\n"
      ],
      "execution_count": 150,
      "outputs": [
        {
          "output_type": "stream",
          "text": [
            "Verdadeiro\n"
          ],
          "name": "stdout"
        }
      ]
    },
    {
      "metadata": {
        "id": "OCHtp2Roi7zh",
        "colab_type": "text"
      },
      "cell_type": "markdown",
      "source": [
        "## Loops"
      ]
    },
    {
      "metadata": {
        "id": "xhVd1STYi6JD",
        "colab_type": "code",
        "colab": {
          "autoexec": {
            "startup": false,
            "wait_interval": 0
          },
          "output_extras": [
            {
              "item_id": 1
            }
          ],
          "base_uri": "https://localhost:8080/",
          "height": 68
        },
        "outputId": "5c645d25-5341-41ec-c010-138f2ad2a1bd",
        "executionInfo": {
          "status": "ok",
          "timestamp": 1521334199747,
          "user_tz": 0,
          "elapsed": 549,
          "user": {
            "displayName": "Thiago Alves",
            "photoUrl": "//lh5.googleusercontent.com/-nRKZ3rt2Ziw/AAAAAAAAAAI/AAAAAAAAArI/B_wfrnbsgxU/s50-c-k-no/photo.jpg",
            "userId": "107747883410881429000"
          }
        }
      },
      "cell_type": "code",
      "source": [
        "# iteração sobre lista\n",
        "for valor_iterado in ['uno', 'dos', 'tres']:\n",
        "  print(valor_iterado)"
      ],
      "execution_count": 151,
      "outputs": [
        {
          "output_type": "stream",
          "text": [
            "uno\n",
            "dos\n",
            "tres\n"
          ],
          "name": "stdout"
        }
      ]
    },
    {
      "metadata": {
        "id": "vrYGHpxPjUqt",
        "colab_type": "code",
        "colab": {
          "autoexec": {
            "startup": false,
            "wait_interval": 0
          },
          "output_extras": [
            {
              "item_id": 1
            }
          ],
          "base_uri": "https://localhost:8080/",
          "height": 68
        },
        "outputId": "08ba3db2-5b37-4fa8-fdcb-4c6d4594cf74",
        "executionInfo": {
          "status": "ok",
          "timestamp": 1521334222177,
          "user_tz": 0,
          "elapsed": 532,
          "user": {
            "displayName": "Thiago Alves",
            "photoUrl": "//lh5.googleusercontent.com/-nRKZ3rt2Ziw/AAAAAAAAAAI/AAAAAAAAArI/B_wfrnbsgxU/s50-c-k-no/photo.jpg",
            "userId": "107747883410881429000"
          }
        }
      },
      "cell_type": "code",
      "source": [
        "# iteração sobre uma lista invertida\n",
        "lista = ['uno', '+4', 'tres']\n",
        "\n",
        "for l in reversed(lista):\n",
        "  print(\"{} formatado\".format(l))\n"
      ],
      "execution_count": 153,
      "outputs": [
        {
          "output_type": "stream",
          "text": [
            "tres formatado\n",
            "+4 formatado\n",
            "uno formatado\n"
          ],
          "name": "stdout"
        }
      ]
    },
    {
      "metadata": {
        "id": "9GPsuqhjj9Gw",
        "colab_type": "code",
        "colab": {
          "autoexec": {
            "startup": false,
            "wait_interval": 0
          },
          "output_extras": [
            {
              "item_id": 1
            }
          ],
          "base_uri": "https://localhost:8080/",
          "height": 102
        },
        "outputId": "288c32c3-8ca6-4af5-af19-11a81911c552",
        "executionInfo": {
          "status": "ok",
          "timestamp": 1521334226788,
          "user_tz": 0,
          "elapsed": 547,
          "user": {
            "displayName": "Thiago Alves",
            "photoUrl": "//lh5.googleusercontent.com/-nRKZ3rt2Ziw/AAAAAAAAAAI/AAAAAAAAArI/B_wfrnbsgxU/s50-c-k-no/photo.jpg",
            "userId": "107747883410881429000"
          }
        }
      },
      "cell_type": "code",
      "source": [
        "# iterar sobre um range\n",
        "for val in range(5):\n",
        "  print(val)"
      ],
      "execution_count": 154,
      "outputs": [
        {
          "output_type": "stream",
          "text": [
            "0\n",
            "1\n",
            "2\n",
            "3\n",
            "4\n"
          ],
          "name": "stdout"
        }
      ]
    },
    {
      "metadata": {
        "id": "xmPuNcgPkS03",
        "colab_type": "code",
        "colab": {
          "autoexec": {
            "startup": false,
            "wait_interval": 0
          },
          "output_extras": [
            {
              "item_id": 1
            }
          ],
          "base_uri": "https://localhost:8080/",
          "height": 102
        },
        "outputId": "968411a5-103d-4621-fe62-7d60dc1ae9d0",
        "executionInfo": {
          "status": "ok",
          "timestamp": 1521334229336,
          "user_tz": 0,
          "elapsed": 542,
          "user": {
            "displayName": "Thiago Alves",
            "photoUrl": "//lh5.googleusercontent.com/-nRKZ3rt2Ziw/AAAAAAAAAAI/AAAAAAAAArI/B_wfrnbsgxU/s50-c-k-no/photo.jpg",
            "userId": "107747883410881429000"
          }
        }
      },
      "cell_type": "code",
      "source": [
        "# iterar sobre um range de forma diferenciada\n",
        "for i in range(5, 10):\n",
        "  print(i)"
      ],
      "execution_count": 155,
      "outputs": [
        {
          "output_type": "stream",
          "text": [
            "5\n",
            "6\n",
            "7\n",
            "8\n",
            "9\n"
          ],
          "name": "stdout"
        }
      ]
    },
    {
      "metadata": {
        "id": "o0o0LESykix8",
        "colab_type": "code",
        "colab": {
          "autoexec": {
            "startup": false,
            "wait_interval": 0
          },
          "output_extras": [
            {
              "item_id": 1
            }
          ],
          "base_uri": "https://localhost:8080/",
          "height": 68
        },
        "outputId": "0799c1dd-3a47-4bb6-d163-5ae0db8756dc",
        "executionInfo": {
          "status": "ok",
          "timestamp": 1521334232198,
          "user_tz": 0,
          "elapsed": 786,
          "user": {
            "displayName": "Thiago Alves",
            "photoUrl": "//lh5.googleusercontent.com/-nRKZ3rt2Ziw/AAAAAAAAAAI/AAAAAAAAArI/B_wfrnbsgxU/s50-c-k-no/photo.jpg",
            "userId": "107747883410881429000"
          }
        }
      },
      "cell_type": "code",
      "source": [
        "# utilizar 'step' enquanto itera sobre um range (inicio, fim, passo)\n",
        "for i in range(1, 9, 3):\n",
        "    print(i)"
      ],
      "execution_count": 156,
      "outputs": [
        {
          "output_type": "stream",
          "text": [
            "1\n",
            "4\n",
            "7\n"
          ],
          "name": "stdout"
        }
      ]
    },
    {
      "metadata": {
        "id": "upV620lKkz4b",
        "colab_type": "code",
        "colab": {
          "autoexec": {
            "startup": false,
            "wait_interval": 0
          },
          "output_extras": [
            {
              "item_id": 1
            }
          ],
          "base_uri": "https://localhost:8080/",
          "height": 68
        },
        "outputId": "2ef4bba4-4ab7-4fcd-f8d7-0ff8ca5e47d0",
        "executionInfo": {
          "status": "ok",
          "timestamp": 1521334245946,
          "user_tz": 0,
          "elapsed": 777,
          "user": {
            "displayName": "Thiago Alves",
            "photoUrl": "//lh5.googleusercontent.com/-nRKZ3rt2Ziw/AAAAAAAAAAI/AAAAAAAAArI/B_wfrnbsgxU/s50-c-k-no/photo.jpg",
            "userId": "107747883410881429000"
          }
        }
      },
      "cell_type": "code",
      "source": [
        "# o indice iterado pode ser acessado com o enumerate\n",
        "for indice, valor in enumerate(['primeiro', 'segundo', 'segundo segundo']):\n",
        "  print('indice {} valor {}'.format(indice, valor))"
      ],
      "execution_count": 157,
      "outputs": [
        {
          "output_type": "stream",
          "text": [
            "indice 0 valor primeiro\n",
            "indice 1 valor segundo\n",
            "indice 2 valor segundo segundo\n"
          ],
          "name": "stdout"
        }
      ]
    },
    {
      "metadata": {
        "id": "ZjLoelAElHEh",
        "colab_type": "code",
        "colab": {
          "autoexec": {
            "startup": false,
            "wait_interval": 0
          },
          "output_extras": [
            {
              "item_id": 1
            }
          ],
          "base_uri": "https://localhost:8080/",
          "height": 85
        },
        "outputId": "d57d0b2e-74ff-4e29-bef9-62348f88c1e6",
        "executionInfo": {
          "status": "ok",
          "timestamp": 1521334249307,
          "user_tz": 0,
          "elapsed": 599,
          "user": {
            "displayName": "Thiago Alves",
            "photoUrl": "//lh5.googleusercontent.com/-nRKZ3rt2Ziw/AAAAAAAAAAI/AAAAAAAAArI/B_wfrnbsgxU/s50-c-k-no/photo.jpg",
            "userId": "107747883410881429000"
          }
        }
      },
      "cell_type": "code",
      "source": [
        "# o comando break interrompe a execução do loop mais interno\n",
        "for i in range(10):\n",
        "  if i > 3:\n",
        "    break\n",
        "  print(i)"
      ],
      "execution_count": 158,
      "outputs": [
        {
          "output_type": "stream",
          "text": [
            "0\n",
            "1\n",
            "2\n",
            "3\n"
          ],
          "name": "stdout"
        }
      ]
    },
    {
      "metadata": {
        "id": "jLN2UxiPmE3r",
        "colab_type": "code",
        "colab": {
          "autoexec": {
            "startup": false,
            "wait_interval": 0
          },
          "output_extras": [
            {
              "item_id": 1
            }
          ],
          "base_uri": "https://localhost:8080/",
          "height": 119
        },
        "outputId": "8dd86872-5eb0-436c-939c-410cfa10e15f",
        "executionInfo": {
          "status": "ok",
          "timestamp": 1521334251611,
          "user_tz": 0,
          "elapsed": 555,
          "user": {
            "displayName": "Thiago Alves",
            "photoUrl": "//lh5.googleusercontent.com/-nRKZ3rt2Ziw/AAAAAAAAAAI/AAAAAAAAArI/B_wfrnbsgxU/s50-c-k-no/photo.jpg",
            "userId": "107747883410881429000"
          }
        }
      },
      "cell_type": "code",
      "source": [
        "# o comando continue termina a execução da iteração atual e vai para a próxima\n",
        "for i in range(10):\n",
        "  if i % 3 == 0: # não executa o loop caso i seja divizivel por 3 \n",
        "    continue\n",
        "  print(i)"
      ],
      "execution_count": 159,
      "outputs": [
        {
          "output_type": "stream",
          "text": [
            "1\n",
            "2\n",
            "4\n",
            "5\n",
            "7\n",
            "8\n"
          ],
          "name": "stdout"
        }
      ]
    },
    {
      "metadata": {
        "id": "OvFNgFHNmiFR",
        "colab_type": "code",
        "colab": {
          "autoexec": {
            "startup": false,
            "wait_interval": 0
          },
          "output_extras": [
            {
              "item_id": 1
            }
          ],
          "base_uri": "https://localhost:8080/",
          "height": 119
        },
        "outputId": "d4da0cb4-9927-44ea-d739-9b106e13541a",
        "executionInfo": {
          "status": "ok",
          "timestamp": 1521334255443,
          "user_tz": 0,
          "elapsed": 547,
          "user": {
            "displayName": "Thiago Alves",
            "photoUrl": "//lh5.googleusercontent.com/-nRKZ3rt2Ziw/AAAAAAAAAAI/AAAAAAAAArI/B_wfrnbsgxU/s50-c-k-no/photo.jpg",
            "userId": "107747883410881429000"
          }
        }
      },
      "cell_type": "code",
      "source": [
        "# for possui else e ele é executado caso o loob tenha terminado com sucesso (sem ser interrompido por um break)\n",
        "for i in range(3):\n",
        "  print(i)\n",
        "else:\n",
        "  print('Executado com sucesso\\n')\n",
        "\n",
        "for i in range(3):\n",
        "  print(i)\n",
        "  break\n",
        "else:\n",
        "  print('Não executado com sucesso')\n",
        "  "
      ],
      "execution_count": 160,
      "outputs": [
        {
          "output_type": "stream",
          "text": [
            "0\n",
            "1\n",
            "2\n",
            "Executado com sucesso\n",
            "\n",
            "0\n"
          ],
          "name": "stdout"
        }
      ]
    },
    {
      "metadata": {
        "id": "Acd1lT81nJ2h",
        "colab_type": "code",
        "colab": {
          "autoexec": {
            "startup": false,
            "wait_interval": 0
          },
          "output_extras": [
            {
              "item_id": 1
            }
          ],
          "base_uri": "https://localhost:8080/",
          "height": 153
        },
        "outputId": "ddda2aa8-90fd-4674-a2bc-ae5b0c65a908",
        "executionInfo": {
          "status": "ok",
          "timestamp": 1521334259105,
          "user_tz": 0,
          "elapsed": 533,
          "user": {
            "displayName": "Thiago Alves",
            "photoUrl": "//lh5.googleusercontent.com/-nRKZ3rt2Ziw/AAAAAAAAAAI/AAAAAAAAArI/B_wfrnbsgxU/s50-c-k-no/photo.jpg",
            "userId": "107747883410881429000"
          }
        }
      },
      "cell_type": "code",
      "source": [
        "# um uso do else\n",
        "for n in range(2, 10):\n",
        "    for x in range(2, n):\n",
        "        if n % x == 0:\n",
        "            print( n, 'igual', x, '*', n//x)\n",
        "            break\n",
        "    else:\n",
        "        # loop terminado sem encontrar um divisor\n",
        "        print(n, 'é um número primo')"
      ],
      "execution_count": 161,
      "outputs": [
        {
          "output_type": "stream",
          "text": [
            "2 é um número primo\n",
            "3 é um número primo\n",
            "4 igual 2 * 2\n",
            "5 é um número primo\n",
            "6 igual 2 * 3\n",
            "7 é um número primo\n",
            "8 igual 2 * 4\n",
            "9 igual 3 * 3\n"
          ],
          "name": "stdout"
        }
      ]
    },
    {
      "metadata": {
        "id": "SaeeGic-oyWX",
        "colab_type": "code",
        "colab": {
          "autoexec": {
            "startup": false,
            "wait_interval": 0
          },
          "output_extras": [
            {
              "item_id": 1
            }
          ],
          "base_uri": "https://localhost:8080/",
          "height": 68
        },
        "outputId": "ec132d71-e3f1-4bdc-8859-c39466c27b3a",
        "executionInfo": {
          "status": "ok",
          "timestamp": 1521334262630,
          "user_tz": 0,
          "elapsed": 544,
          "user": {
            "displayName": "Thiago Alves",
            "photoUrl": "//lh5.googleusercontent.com/-nRKZ3rt2Ziw/AAAAAAAAAAI/AAAAAAAAArI/B_wfrnbsgxU/s50-c-k-no/photo.jpg",
            "userId": "107747883410881429000"
          }
        }
      },
      "cell_type": "code",
      "source": [
        "# junte duas listas ou mais e itere sobre elas!\n",
        "lista1 = ['A', 'B', 'C']\n",
        "lista2 = [1, 2, 3]\n",
        "\n",
        "for l1, l2 in zip(lista1, lista2):\n",
        "  print(l1, l2)\n"
      ],
      "execution_count": 162,
      "outputs": [
        {
          "output_type": "stream",
          "text": [
            "A 1\n",
            "B 2\n",
            "C 3\n"
          ],
          "name": "stdout"
        }
      ]
    },
    {
      "metadata": {
        "id": "Gct6T3llpNRB",
        "colab_type": "code",
        "colab": {
          "autoexec": {
            "startup": false,
            "wait_interval": 0
          },
          "output_extras": [
            {
              "item_id": 1
            }
          ],
          "base_uri": "https://localhost:8080/",
          "height": 102
        },
        "outputId": "f8ed36fb-0544-4984-ba72-2bbc66ab7abd",
        "executionInfo": {
          "status": "ok",
          "timestamp": 1521334267315,
          "user_tz": 0,
          "elapsed": 566,
          "user": {
            "displayName": "Thiago Alves",
            "photoUrl": "//lh5.googleusercontent.com/-nRKZ3rt2Ziw/AAAAAAAAAAI/AAAAAAAAArI/B_wfrnbsgxU/s50-c-k-no/photo.jpg",
            "userId": "107747883410881429000"
          }
        }
      },
      "cell_type": "code",
      "source": [
        "# comando while, itera enquanto uma condição for verdadeira\n",
        "x = 5\n",
        "while x > 0:\n",
        "  print(x)\n",
        "  x -= 1"
      ],
      "execution_count": 163,
      "outputs": [
        {
          "output_type": "stream",
          "text": [
            "5\n",
            "4\n",
            "3\n",
            "2\n",
            "1\n"
          ],
          "name": "stdout"
        }
      ]
    },
    {
      "metadata": {
        "id": "Su0mrbiMqxG4",
        "colab_type": "text"
      },
      "cell_type": "markdown",
      "source": [
        "## Tratamento de Exceções"
      ]
    },
    {
      "metadata": {
        "id": "D16S0mIfroaS",
        "colab_type": "code",
        "colab": {
          "autoexec": {
            "startup": false,
            "wait_interval": 0
          },
          "output_extras": [
            {
              "item_id": 1
            }
          ],
          "base_uri": "https://localhost:8080/",
          "height": 51
        },
        "outputId": "a4e2aa78-8f7b-4a4e-c860-0da825714598",
        "executionInfo": {
          "status": "ok",
          "timestamp": 1521334272084,
          "user_tz": 0,
          "elapsed": 538,
          "user": {
            "displayName": "Thiago Alves",
            "photoUrl": "//lh5.googleusercontent.com/-nRKZ3rt2Ziw/AAAAAAAAAAI/AAAAAAAAArI/B_wfrnbsgxU/s50-c-k-no/photo.jpg",
            "userId": "107747883410881429000"
          }
        }
      },
      "cell_type": "code",
      "source": [
        "# exemplo de exceção\n",
        "try:\n",
        "    1 / 0\n",
        "except Exception as e:\n",
        "    print('ocorreu um erro', e)\n",
        "finally:\n",
        "  print('sempre executado, não obrigatório, interessante para limpar recursos')"
      ],
      "execution_count": 164,
      "outputs": [
        {
          "output_type": "stream",
          "text": [
            "ocorreu um erro division by zero\n",
            "sempre executado, não obrigatório, interessante para limpar recursos\n"
          ],
          "name": "stdout"
        }
      ]
    },
    {
      "metadata": {
        "id": "kdJf-fQssPgL",
        "colab_type": "code",
        "colab": {
          "autoexec": {
            "startup": false,
            "wait_interval": 0
          },
          "output_extras": [
            {
              "item_id": 1
            }
          ],
          "base_uri": "https://localhost:8080/",
          "height": 34
        },
        "outputId": "99d15b24-62c8-4177-e6a9-d6aa43051d53",
        "executionInfo": {
          "status": "ok",
          "timestamp": 1521334277078,
          "user_tz": 0,
          "elapsed": 545,
          "user": {
            "displayName": "Thiago Alves",
            "photoUrl": "//lh5.googleusercontent.com/-nRKZ3rt2Ziw/AAAAAAAAAAI/AAAAAAAAArI/B_wfrnbsgxU/s50-c-k-no/photo.jpg",
            "userId": "107747883410881429000"
          }
        }
      },
      "cell_type": "code",
      "source": [
        "#  exemplo com raise e else\n",
        "try:\n",
        "    raise 'Uma exceção qualquer'\n",
        "except Exception as e:\n",
        "    print('ocorreu um erro', e)\n",
        "else:\n",
        "  print('seria executado se desse tudo certo')"
      ],
      "execution_count": 165,
      "outputs": [
        {
          "output_type": "stream",
          "text": [
            "ocorreu um erro exceptions must derive from BaseException\n"
          ],
          "name": "stdout"
        }
      ]
    },
    {
      "metadata": {
        "id": "06ejYIi7rEgy",
        "colab_type": "code",
        "colab": {
          "autoexec": {
            "startup": false,
            "wait_interval": 0
          },
          "output_extras": [
            {
              "item_id": 1
            }
          ],
          "base_uri": "https://localhost:8080/",
          "height": 34
        },
        "outputId": "81c5f173-f672-41f6-a328-80c093c973c1",
        "executionInfo": {
          "status": "ok",
          "timestamp": 1521334282292,
          "user_tz": 0,
          "elapsed": 752,
          "user": {
            "displayName": "Thiago Alves",
            "photoUrl": "//lh5.googleusercontent.com/-nRKZ3rt2Ziw/AAAAAAAAAAI/AAAAAAAAArI/B_wfrnbsgxU/s50-c-k-no/photo.jpg",
            "userId": "107747883410881429000"
          }
        }
      },
      "cell_type": "code",
      "source": [
        "try:\n",
        "    # Raise com tipo de erro definido\n",
        "    raise IndexError(\"Exceção criada pq sim\")\n",
        "# trata um tipo de exceção\n",
        "except IndexError as e:\n",
        "    # pass faz com que nada seja exibido e o código siga\n",
        "    pass\n",
        "# multiplos tipos de erros podem ser tratados de uma só vez\n",
        "except (TypeError, NameError):\n",
        "    pass\n",
        "else:\n",
        "    print(\"Nenhum erro!\")\n",
        "finally:\n",
        "    print(\"Finalmente acabou!\")\n"
      ],
      "execution_count": 166,
      "outputs": [
        {
          "output_type": "stream",
          "text": [
            "Finalmente acabou!\n"
          ],
          "name": "stdout"
        }
      ]
    },
    {
      "metadata": {
        "id": "9tHwuZnp-QER",
        "colab_type": "text"
      },
      "cell_type": "markdown",
      "source": [
        "## Gerenciamento de arquivos"
      ]
    },
    {
      "metadata": {
        "id": "9vveTDWj-X-e",
        "colab_type": "text"
      },
      "cell_type": "markdown",
      "source": [
        "Para gerenciar arquivos no Google Colab [acesse aqui](https://colab.research.google.com/notebook#fileId=/v2/external/notebooks/io.ipynb&scrollTo=F1-nafvN-NwW). "
      ]
    },
    {
      "metadata": {
        "id": "aVP3UKEX_47G",
        "colab_type": "code",
        "colab": {
          "autoexec": {
            "startup": false,
            "wait_interval": 0
          },
          "output_extras": [
            {
              "item_id": 1
            }
          ],
          "base_uri": "https://localhost:8080/",
          "height": 34
        },
        "outputId": "d306ca77-3568-43c2-c03e-d1fcd4103961",
        "executionInfo": {
          "status": "ok",
          "timestamp": 1521334287117,
          "user_tz": 0,
          "elapsed": 577,
          "user": {
            "displayName": "Thiago Alves",
            "photoUrl": "//lh5.googleusercontent.com/-nRKZ3rt2Ziw/AAAAAAAAAAI/AAAAAAAAArI/B_wfrnbsgxU/s50-c-k-no/photo.jpg",
            "userId": "107747883410881429000"
          }
        }
      },
      "cell_type": "code",
      "source": [
        "# cria um arquivo\n",
        "f = open('/tmp/arquivo.txt', 'w') # 'w' parâmetro que define que o arquivo esta aberto para escrita\n",
        "f.write('uma linha')\n",
        "f.write('outra linha')\n",
        "f.close\n"
      ],
      "execution_count": 167,
      "outputs": [
        {
          "output_type": "execute_result",
          "data": {
            "text/plain": [
              "<function TextIOWrapper.close>"
            ]
          },
          "metadata": {
            "tags": []
          },
          "execution_count": 167
        }
      ]
    },
    {
      "metadata": {
        "id": "dMM2vq_KAe7j",
        "colab_type": "code",
        "colab": {
          "autoexec": {
            "startup": false,
            "wait_interval": 0
          },
          "output_extras": [
            {
              "item_id": 1
            }
          ],
          "base_uri": "https://localhost:8080/",
          "height": 34
        },
        "outputId": "2a7951b5-cf86-4797-8a1e-ff8c1b8d9bd5",
        "executionInfo": {
          "status": "ok",
          "timestamp": 1521334289878,
          "user_tz": 0,
          "elapsed": 566,
          "user": {
            "displayName": "Thiago Alves",
            "photoUrl": "//lh5.googleusercontent.com/-nRKZ3rt2Ziw/AAAAAAAAAAI/AAAAAAAAArI/B_wfrnbsgxU/s50-c-k-no/photo.jpg",
            "userId": "107747883410881429000"
          }
        }
      },
      "cell_type": "code",
      "source": [
        "# ler um arquivo\n",
        "\n",
        "# 'r' parâmetro que define que o arquivo esta aberto para escrita\n",
        "# 'a' também pode ser utilizado para append, \n",
        "# estes valores podem ser combinados assim Ex. 'wr'\n",
        "f = open('/tmp/arquivo.txt', 'r') \n",
        "print(list(f.readlines()))\n"
      ],
      "execution_count": 168,
      "outputs": [
        {
          "output_type": "stream",
          "text": [
            "[]\n"
          ],
          "name": "stdout"
        }
      ]
    },
    {
      "metadata": {
        "id": "nDzEV-4q8GTm",
        "colab_type": "code",
        "colab": {
          "autoexec": {
            "startup": false,
            "wait_interval": 0
          },
          "output_extras": [
            {
              "item_id": 1
            }
          ],
          "base_uri": "https://localhost:8080/",
          "height": 34
        },
        "outputId": "9f66a226-7526-4a07-f2b6-c015e905eb8f",
        "executionInfo": {
          "status": "ok",
          "timestamp": 1521334295367,
          "user_tz": 0,
          "elapsed": 554,
          "user": {
            "displayName": "Thiago Alves",
            "photoUrl": "//lh5.googleusercontent.com/-nRKZ3rt2Ziw/AAAAAAAAAAI/AAAAAAAAArI/B_wfrnbsgxU/s50-c-k-no/photo.jpg",
            "userId": "107747883410881429000"
          }
        }
      },
      "cell_type": "code",
      "source": [
        "# com a declaração with, um contexto pode ser criado, assim, o arquivo apenas\n",
        "# estará aberto para os comandos internos ao with.\n",
        "# O .close() não precisa ser utilizado \n",
        "with open('/tmp/arquivo.txt', 'w') as f:\n",
        "  f.write('Uma linha')\n",
        "\n",
        "with open('/tmp/arquivo.txt', 'r') as f:\n",
        "  print(list(f.readlines()))\n"
      ],
      "execution_count": 169,
      "outputs": [
        {
          "output_type": "stream",
          "text": [
            "['Uma linha']\n"
          ],
          "name": "stdout"
        }
      ]
    },
    {
      "metadata": {
        "id": "zv2-TH8u8fiJ",
        "colab_type": "text"
      },
      "cell_type": "markdown",
      "source": [
        "## Funções"
      ]
    },
    {
      "metadata": {
        "id": "4OC6UkZ89FRH",
        "colab_type": "text"
      },
      "cell_type": "markdown",
      "source": [
        "### Funções de bloco"
      ]
    },
    {
      "metadata": {
        "id": "qDlo0Lt58h0S",
        "colab_type": "code",
        "colab": {
          "autoexec": {
            "startup": false,
            "wait_interval": 0
          }
        }
      },
      "cell_type": "code",
      "source": [
        "# criar uma função de bloco\n",
        "def subtrai(x, y):\n",
        "  return x - y"
      ],
      "execution_count": 0,
      "outputs": []
    },
    {
      "metadata": {
        "id": "WhqeZkjB9fFj",
        "colab_type": "code",
        "colab": {
          "autoexec": {
            "startup": false,
            "wait_interval": 0
          },
          "output_extras": [
            {
              "item_id": 1
            }
          ],
          "base_uri": "https://localhost:8080/",
          "height": 34
        },
        "outputId": "a3821d89-01b3-47e2-97cd-1edd379b09c3",
        "executionInfo": {
          "status": "ok",
          "timestamp": 1521334301679,
          "user_tz": 0,
          "elapsed": 568,
          "user": {
            "displayName": "Thiago Alves",
            "photoUrl": "//lh5.googleusercontent.com/-nRKZ3rt2Ziw/AAAAAAAAAAI/AAAAAAAAArI/B_wfrnbsgxU/s50-c-k-no/photo.jpg",
            "userId": "107747883410881429000"
          }
        }
      },
      "cell_type": "code",
      "source": [
        "# chamada da função levando em consideração a ordem dos parâmetros\n",
        "subtrai(5,3)"
      ],
      "execution_count": 171,
      "outputs": [
        {
          "output_type": "execute_result",
          "data": {
            "text/plain": [
              "2"
            ]
          },
          "metadata": {
            "tags": []
          },
          "execution_count": 171
        }
      ]
    },
    {
      "metadata": {
        "id": "yefXmbBf9pvG",
        "colab_type": "code",
        "colab": {
          "autoexec": {
            "startup": false,
            "wait_interval": 0
          },
          "output_extras": [
            {
              "item_id": 1
            }
          ],
          "base_uri": "https://localhost:8080/",
          "height": 34
        },
        "outputId": "39c87d61-7883-4225-fa93-9a8225bf9213",
        "executionInfo": {
          "status": "ok",
          "timestamp": 1521334303831,
          "user_tz": 0,
          "elapsed": 986,
          "user": {
            "displayName": "Thiago Alves",
            "photoUrl": "//lh5.googleusercontent.com/-nRKZ3rt2Ziw/AAAAAAAAAAI/AAAAAAAAArI/B_wfrnbsgxU/s50-c-k-no/photo.jpg",
            "userId": "107747883410881429000"
          }
        }
      },
      "cell_type": "code",
      "source": [
        "# chamada da função levando em o nome dos parâmetros\n",
        "subtrai(y=5,x=3)"
      ],
      "execution_count": 172,
      "outputs": [
        {
          "output_type": "execute_result",
          "data": {
            "text/plain": [
              "-2"
            ]
          },
          "metadata": {
            "tags": []
          },
          "execution_count": 172
        }
      ]
    },
    {
      "metadata": {
        "id": "TC4DCzs294Qe",
        "colab_type": "code",
        "colab": {
          "autoexec": {
            "startup": false,
            "wait_interval": 0
          }
        }
      },
      "cell_type": "code",
      "source": [
        "# criar uma função que recebe um número indeterminado de parâmetros\n",
        "# o nome do parâmetro não precisa ser necessariamente args\n",
        "def print_argumentos(*args):\n",
        "  print('Os valores passados foram: ', args)\n",
        "  # exemplo de acessar somente um \n",
        "  print(\"Primeiro argumento: \", args[0])"
      ],
      "execution_count": 0,
      "outputs": []
    },
    {
      "metadata": {
        "id": "rSwJRaDq-KIL",
        "colab_type": "code",
        "colab": {
          "autoexec": {
            "startup": false,
            "wait_interval": 0
          },
          "output_extras": [
            {
              "item_id": 1
            }
          ],
          "base_uri": "https://localhost:8080/",
          "height": 51
        },
        "outputId": "a464cc53-d3b5-4986-bceb-41b689164371",
        "executionInfo": {
          "status": "ok",
          "timestamp": 1521334313734,
          "user_tz": 0,
          "elapsed": 577,
          "user": {
            "displayName": "Thiago Alves",
            "photoUrl": "//lh5.googleusercontent.com/-nRKZ3rt2Ziw/AAAAAAAAAAI/AAAAAAAAArI/B_wfrnbsgxU/s50-c-k-no/photo.jpg",
            "userId": "107747883410881429000"
          }
        }
      },
      "cell_type": "code",
      "source": [
        "# chamada de uma função que aceita vários argumentos\n",
        "print_argumentos(5,3,8,9,4)"
      ],
      "execution_count": 174,
      "outputs": [
        {
          "output_type": "stream",
          "text": [
            "Os valores passados foram:  (5, 3, 8, 9, 4)\n",
            "Prinmeiro argumento:  5\n"
          ],
          "name": "stdout"
        }
      ]
    },
    {
      "metadata": {
        "id": "2C3KJg6m_3Cc",
        "colab_type": "code",
        "colab": {
          "autoexec": {
            "startup": false,
            "wait_interval": 0
          }
        }
      },
      "cell_type": "code",
      "source": [
        "# uma função que pode receber um número indeterminado de\n",
        "# argumentos com keyword\n",
        "def args_com_nome(**kwargs):\n",
        "  return kwargs"
      ],
      "execution_count": 0,
      "outputs": []
    },
    {
      "metadata": {
        "id": "gRi1qoDaAXSa",
        "colab_type": "code",
        "colab": {
          "autoexec": {
            "startup": false,
            "wait_interval": 0
          },
          "output_extras": [
            {
              "item_id": 1
            }
          ],
          "base_uri": "https://localhost:8080/",
          "height": 34
        },
        "outputId": "fd84df57-8ff2-4675-a879-96d2c14d7356",
        "executionInfo": {
          "status": "ok",
          "timestamp": 1521334318697,
          "user_tz": 0,
          "elapsed": 586,
          "user": {
            "displayName": "Thiago Alves",
            "photoUrl": "//lh5.googleusercontent.com/-nRKZ3rt2Ziw/AAAAAAAAAAI/AAAAAAAAArI/B_wfrnbsgxU/s50-c-k-no/photo.jpg",
            "userId": "107747883410881429000"
          }
        }
      },
      "cell_type": "code",
      "source": [
        "# chamada de funções com um indeterminado de argumentos keyword\n",
        "args_com_nome(primeiro='valor1', segundo=2, terceiro=3.5, ultimo=[False, True])"
      ],
      "execution_count": 176,
      "outputs": [
        {
          "output_type": "execute_result",
          "data": {
            "text/plain": [
              "{'primeiro': 'valor1', 'segundo': 2, 'terceiro': 3.5, 'ultimo': [False, True]}"
            ]
          },
          "metadata": {
            "tags": []
          },
          "execution_count": 176
        }
      ]
    },
    {
      "metadata": {
        "id": "aApoW6zOGEyn",
        "colab_type": "code",
        "colab": {
          "autoexec": {
            "startup": false,
            "wait_interval": 0
          },
          "output_extras": [
            {
              "item_id": 1
            }
          ],
          "base_uri": "https://localhost:8080/",
          "height": 51
        },
        "outputId": "ac1da530-4a45-4cae-dac1-727e1d291e5d",
        "executionInfo": {
          "status": "ok",
          "timestamp": 1521334320944,
          "user_tz": 0,
          "elapsed": 533,
          "user": {
            "displayName": "Thiago Alves",
            "photoUrl": "//lh5.googleusercontent.com/-nRKZ3rt2Ziw/AAAAAAAAAAI/AAAAAAAAArI/B_wfrnbsgxU/s50-c-k-no/photo.jpg",
            "userId": "107747883410881429000"
          }
        }
      },
      "cell_type": "code",
      "source": [
        "# você também pode utilizar ambos métodos em conjunto\n",
        "def ambos_metodos(*args, **kwargs):\n",
        "    print(args)\n",
        "    print(kwargs)\n",
        "    \n",
        "ambos_metodos(1,2,'tres', exemplo_kwarg='var')"
      ],
      "execution_count": 177,
      "outputs": [
        {
          "output_type": "stream",
          "text": [
            "(1, 2, 'tres')\n",
            "{'exemplo_kwarg': 'var'}\n"
          ],
          "name": "stdout"
        }
      ]
    },
    {
      "metadata": {
        "id": "hYEspkJaMonn",
        "colab_type": "code",
        "colab": {
          "autoexec": {
            "startup": false,
            "wait_interval": 0
          },
          "output_extras": [
            {
              "item_id": 1
            },
            {
              "item_id": 2
            }
          ],
          "base_uri": "https://localhost:8080/",
          "height": 102
        },
        "outputId": "4c48a158-d6db-4ecc-e4c7-832cec69842a",
        "executionInfo": {
          "status": "ok",
          "timestamp": 1521334323940,
          "user_tz": 0,
          "elapsed": 565,
          "user": {
            "displayName": "Thiago Alves",
            "photoUrl": "//lh5.googleusercontent.com/-nRKZ3rt2Ziw/AAAAAAAAAAI/AAAAAAAAArI/B_wfrnbsgxU/s50-c-k-no/photo.jpg",
            "userId": "107747883410881429000"
          }
        }
      },
      "cell_type": "code",
      "source": [
        "# o contrário também pode ser feito para a passagem de parâmetros para funçõe\n",
        "args = (1, 2, 3, 4)\n",
        "kwargs = {\"a\": 3, \"b\": 4}\n",
        "\n",
        "\n",
        "print_argumentos(*args)\n",
        "print('\\n')\n",
        "args_com_nome(**kwargs)"
      ],
      "execution_count": 178,
      "outputs": [
        {
          "output_type": "stream",
          "text": [
            "Os valores passados foram:  (1, 2, 3, 4)\n",
            "Prinmeiro argumento:  1\n",
            "\n",
            "\n"
          ],
          "name": "stdout"
        },
        {
          "output_type": "execute_result",
          "data": {
            "text/plain": [
              "{'a': 3, 'b': 4}"
            ]
          },
          "metadata": {
            "tags": []
          },
          "execution_count": 178
        }
      ]
    },
    {
      "metadata": {
        "id": "Zhz8ermxNrmi",
        "colab_type": "code",
        "colab": {
          "autoexec": {
            "startup": false,
            "wait_interval": 0
          },
          "output_extras": [
            {
              "item_id": 1
            }
          ],
          "base_uri": "https://localhost:8080/",
          "height": 51
        },
        "outputId": "e9caafe4-9659-4915-b83c-2ce81118b97c",
        "executionInfo": {
          "status": "ok",
          "timestamp": 1521334327608,
          "user_tz": 0,
          "elapsed": 556,
          "user": {
            "displayName": "Thiago Alves",
            "photoUrl": "//lh5.googleusercontent.com/-nRKZ3rt2Ziw/AAAAAAAAAAI/AAAAAAAAArI/B_wfrnbsgxU/s50-c-k-no/photo.jpg",
            "userId": "107747883410881429000"
          }
        }
      },
      "cell_type": "code",
      "source": [
        "# retornar múltiplos valores em uma função\n",
        "def div_mod(x, y):\n",
        "  div = x//y\n",
        "  mod = x % y\n",
        "  return div, mod\n",
        "\n",
        "# acessando a função div_mod e recuperando os resultados\n",
        "div, mod = div_mod(7,5)\n",
        "print(div)\n",
        "print(mod)"
      ],
      "execution_count": 179,
      "outputs": [
        {
          "output_type": "stream",
          "text": [
            "1\n",
            "2\n"
          ],
          "name": "stdout"
        }
      ]
    },
    {
      "metadata": {
        "id": "rgIBWtVyO7Ad",
        "colab_type": "code",
        "colab": {
          "autoexec": {
            "startup": false,
            "wait_interval": 0
          },
          "output_extras": [
            {
              "item_id": 1
            }
          ],
          "base_uri": "https://localhost:8080/",
          "height": 102
        },
        "outputId": "fdecbf3c-f841-463d-ecbe-f37929ecb2de",
        "executionInfo": {
          "status": "ok",
          "timestamp": 1521334330710,
          "user_tz": 0,
          "elapsed": 554,
          "user": {
            "displayName": "Thiago Alves",
            "photoUrl": "//lh5.googleusercontent.com/-nRKZ3rt2Ziw/AAAAAAAAAAI/AAAAAAAAArI/B_wfrnbsgxU/s50-c-k-no/photo.jpg",
            "userId": "107747883410881429000"
          }
        }
      },
      "cell_type": "code",
      "source": [
        "# escopo de função\n",
        "x = 5\n",
        "\n",
        "def define_x(num):\n",
        "    # a variável x é local e diverente do x declarado acima\n",
        "    x = num    \n",
        "    print(x)   \n",
        "    print('\\n')   \n",
        "\n",
        "def define_x_global(num):\n",
        "    # define a variavel x para ser a mesma internamente e externamente a função\n",
        "    global x\n",
        "    print(x)\n",
        "    x = num\n",
        "    print(x)\n",
        "\n",
        "define_x(50)\n",
        "define_x_global(30)\n"
      ],
      "execution_count": 180,
      "outputs": [
        {
          "output_type": "stream",
          "text": [
            "50\n",
            "\n",
            "\n",
            "5\n",
            "30\n"
          ],
          "name": "stdout"
        }
      ]
    },
    {
      "metadata": {
        "id": "sZ-dvHzCPwN8",
        "colab_type": "code",
        "colab": {
          "autoexec": {
            "startup": false,
            "wait_interval": 0
          },
          "output_extras": [
            {
              "item_id": 1
            },
            {
              "item_id": 2
            }
          ],
          "base_uri": "https://localhost:8080/",
          "height": 51
        },
        "outputId": "bdb1c06a-e866-48c6-df01-f83b2a54b5d3",
        "executionInfo": {
          "status": "ok",
          "timestamp": 1521334333766,
          "user_tz": 0,
          "elapsed": 532,
          "user": {
            "displayName": "Thiago Alves",
            "photoUrl": "//lh5.googleusercontent.com/-nRKZ3rt2Ziw/AAAAAAAAAAI/AAAAAAAAArI/B_wfrnbsgxU/s50-c-k-no/photo.jpg",
            "userId": "107747883410881429000"
          }
        }
      },
      "cell_type": "code",
      "source": [
        "# funções first class\n",
        "def cria_somador(x):\n",
        "    def somador(y):\n",
        "        return x + y\n",
        "    return somador\n",
        "\n",
        "soma_10 = cria_somador(10)\n",
        "print(soma_10)\n",
        "soma_10(3) "
      ],
      "execution_count": 181,
      "outputs": [
        {
          "output_type": "stream",
          "text": [
            "<function cria_somador.<locals>.somador at 0x7fce823d07b8>\n"
          ],
          "name": "stdout"
        },
        {
          "output_type": "execute_result",
          "data": {
            "text/plain": [
              "13"
            ]
          },
          "metadata": {
            "tags": []
          },
          "execution_count": 181
        }
      ]
    },
    {
      "metadata": {
        "id": "yAOr7crB9JCl",
        "colab_type": "text"
      },
      "cell_type": "markdown",
      "source": [
        "### Funções anônimas (expressões lambda)\n",
        "\n",
        "São basicamente funções sem nome que podem ser atribuídas a variáveis, comumente utilizadas em calbacks e nas funções map() filter() e reduce()"
      ]
    },
    {
      "metadata": {
        "id": "yM-MCv0-Jzgr",
        "colab_type": "code",
        "colab": {
          "autoexec": {
            "startup": false,
            "wait_interval": 0
          },
          "output_extras": [
            {
              "item_id": 1
            }
          ],
          "base_uri": "https://localhost:8080/",
          "height": 34
        },
        "outputId": "9d0f8a45-fb07-40df-b56c-8866cb3fafa9",
        "executionInfo": {
          "status": "ok",
          "timestamp": 1521334341402,
          "user_tz": 0,
          "elapsed": 1091,
          "user": {
            "displayName": "Thiago Alves",
            "photoUrl": "//lh5.googleusercontent.com/-nRKZ3rt2Ziw/AAAAAAAAAAI/AAAAAAAAArI/B_wfrnbsgxU/s50-c-k-no/photo.jpg",
            "userId": "107747883410881429000"
          }
        }
      },
      "cell_type": "code",
      "source": [
        "# um exemplo onde x=10 e seu valor é comparado com 2\n",
        "(lambda x: x > 2)(10)"
      ],
      "execution_count": 182,
      "outputs": [
        {
          "output_type": "execute_result",
          "data": {
            "text/plain": [
              "True"
            ]
          },
          "metadata": {
            "tags": []
          },
          "execution_count": 182
        }
      ]
    },
    {
      "metadata": {
        "id": "ZP7lvXHvR_Ep",
        "colab_type": "code",
        "colab": {
          "autoexec": {
            "startup": false,
            "wait_interval": 0
          },
          "output_extras": [
            {
              "item_id": 1
            }
          ],
          "base_uri": "https://localhost:8080/",
          "height": 34
        },
        "outputId": "9de11060-8cf4-41f5-bfc2-8bc9d58c94a3",
        "executionInfo": {
          "status": "ok",
          "timestamp": 1521334344241,
          "user_tz": 0,
          "elapsed": 547,
          "user": {
            "displayName": "Thiago Alves",
            "photoUrl": "//lh5.googleusercontent.com/-nRKZ3rt2Ziw/AAAAAAAAAAI/AAAAAAAAArI/B_wfrnbsgxU/s50-c-k-no/photo.jpg",
            "userId": "107747883410881429000"
          }
        }
      },
      "cell_type": "code",
      "source": [
        "# atribuindo uma expressão lambda a uma função\n",
        "variavel_que_recebe_expressao = lambda x, y: x * y\n",
        "variavel_que_recebe_expressao(2, 6)"
      ],
      "execution_count": 183,
      "outputs": [
        {
          "output_type": "execute_result",
          "data": {
            "text/plain": [
              "12"
            ]
          },
          "metadata": {
            "tags": []
          },
          "execution_count": 183
        }
      ]
    },
    {
      "metadata": {
        "id": "Nabu3K4CSd6z",
        "colab_type": "code",
        "colab": {
          "autoexec": {
            "startup": false,
            "wait_interval": 0
          },
          "output_extras": [
            {
              "item_id": 1
            }
          ],
          "base_uri": "https://localhost:8080/",
          "height": 51
        },
        "outputId": "a6bb581a-8deb-40d0-a862-0913fafb4cba",
        "executionInfo": {
          "status": "ok",
          "timestamp": 1521334346273,
          "user_tz": 0,
          "elapsed": 872,
          "user": {
            "displayName": "Thiago Alves",
            "photoUrl": "//lh5.googleusercontent.com/-nRKZ3rt2Ziw/AAAAAAAAAAI/AAAAAAAAArI/B_wfrnbsgxU/s50-c-k-no/photo.jpg",
            "userId": "107747883410881429000"
          }
        }
      },
      "cell_type": "code",
      "source": [
        "# exemplo map\n",
        "lista = [1,2,3]\n",
        "ex_mais_10 = lambda x: x + 10\n",
        "\n",
        "result_soma_10 = list(map(ex_mais_10, lista))\n",
        "result_soma_20 = list(map(lambda x: x + 20, lista))\n",
        "\n",
        "print(result_soma_10)\n",
        "print(result_soma_20)"
      ],
      "execution_count": 184,
      "outputs": [
        {
          "output_type": "stream",
          "text": [
            "[11, 12, 13]\n",
            "[21, 22, 23]\n"
          ],
          "name": "stdout"
        }
      ]
    },
    {
      "metadata": {
        "id": "1Q19SWWiTD97",
        "colab_type": "code",
        "colab": {
          "autoexec": {
            "startup": false,
            "wait_interval": 0
          },
          "output_extras": [
            {
              "item_id": 1
            }
          ],
          "base_uri": "https://localhost:8080/",
          "height": 34
        },
        "outputId": "8c5c0b1b-b1e5-4f20-a78b-febc57fac911",
        "executionInfo": {
          "status": "ok",
          "timestamp": 1521334347998,
          "user_tz": 0,
          "elapsed": 531,
          "user": {
            "displayName": "Thiago Alves",
            "photoUrl": "//lh5.googleusercontent.com/-nRKZ3rt2Ziw/AAAAAAAAAAI/AAAAAAAAArI/B_wfrnbsgxU/s50-c-k-no/photo.jpg",
            "userId": "107747883410881429000"
          }
        }
      },
      "cell_type": "code",
      "source": [
        "# exemplo filter\n",
        "lista = [1,2,3,4,5,6,3]\n",
        "\n",
        "maior_que_tres = list(filter(lambda x: x > 3, lista))\n",
        "\n",
        "print(maior_que_tres)"
      ],
      "execution_count": 185,
      "outputs": [
        {
          "output_type": "stream",
          "text": [
            "[4, 5, 6]\n"
          ],
          "name": "stdout"
        }
      ]
    },
    {
      "metadata": {
        "id": "L6eWJ2TkZMx-",
        "colab_type": "text"
      },
      "cell_type": "markdown",
      "source": [
        "## Classes\n",
        "\n",
        "[Cheat Sheet Classes](https://github.com/ehmatthes/pcc/releases/download/v1.0.0/beginners_python_cheat_sheet_pcc_classes.pdf)\n",
        "[Outros exemplos](https://www.tutorialspoint.com/python/python_classes_objects.htm)"
      ]
    },
    {
      "metadata": {
        "id": "nO1I8hc9ZPB6",
        "colab_type": "code",
        "colab": {
          "autoexec": {
            "startup": false,
            "wait_interval": 0
          }
        }
      },
      "cell_type": "code",
      "source": [
        "class Empregado:\n",
        "  'Base padrão para todos os empregados'\n",
        "  \n",
        "  # atributo\n",
        "  empCount = 0\n",
        "  \n",
        "  # construtor\n",
        "  def __init__(self, nome, salario):\n",
        "    # atribuição de valores vindos da instanciação para atributos\n",
        "    self.nome = nome\n",
        "    self.salario = salario\n",
        "    Empregado.empCount += 1\n",
        "   \n",
        "  def mostraQuantidade(self):\n",
        "    print (\"Total de empregados\".format(Employee.empCount))\n",
        "\n",
        "  def detalhesEmpregado(self):\n",
        "    print (\"Nome: {}, Salario: {}\".format(self.nome, self.salario))"
      ],
      "execution_count": 0,
      "outputs": []
    },
    {
      "metadata": {
        "id": "zI2HTA15a91T",
        "colab_type": "code",
        "colab": {
          "autoexec": {
            "startup": false,
            "wait_interval": 0
          }
        }
      },
      "cell_type": "code",
      "source": [
        "# criação de instâncias de objetos\n",
        "\n",
        "# Cria o primeiro empregado\n",
        "emp1 = Empregado(\"João\", 2000)\n",
        "# Cria o segundo empregado\n",
        "emp2 = Empregado(\"Maria\", 2500)"
      ],
      "execution_count": 0,
      "outputs": []
    },
    {
      "metadata": {
        "id": "WnjTW9IXbOad",
        "colab_type": "code",
        "colab": {
          "autoexec": {
            "startup": false,
            "wait_interval": 0
          },
          "output_extras": [
            {
              "item_id": 1
            }
          ],
          "base_uri": "https://localhost:8080/",
          "height": 68
        },
        "outputId": "d36402ba-9ffe-4c60-de03-a6f855afead3",
        "executionInfo": {
          "status": "ok",
          "timestamp": 1521334356124,
          "user_tz": 0,
          "elapsed": 542,
          "user": {
            "displayName": "Thiago Alves",
            "photoUrl": "//lh5.googleusercontent.com/-nRKZ3rt2Ziw/AAAAAAAAAAI/AAAAAAAAArI/B_wfrnbsgxU/s50-c-k-no/photo.jpg",
            "userId": "107747883410881429000"
          }
        }
      },
      "cell_type": "code",
      "source": [
        "# apresenta detalhes do primeiro empregado\n",
        "emp1.detalhesEmpregado()\n",
        "# apresenta detalhes do segundo empregado\n",
        "emp2.detalhesEmpregado()\n",
        "\n",
        "# apresenta o total de empregados cadastrados\n",
        "print (\"Total de empregados \" + str(Empregado.empCount))"
      ],
      "execution_count": 188,
      "outputs": [
        {
          "output_type": "stream",
          "text": [
            "Nome: João, Salario: 2000\n",
            "Nome: Maria, Salario: 2500\n",
            "Total de empregados 2\n"
          ],
          "name": "stdout"
        }
      ]
    },
    {
      "metadata": {
        "id": "PF42kp_8dM79",
        "colab_type": "text"
      },
      "cell_type": "markdown",
      "source": [
        "## Outras fontes\n",
        "\n",
        "[The Python Standard Library](https://docs.python.org/3/library/index.html)\n",
        "\n",
        "[Sentdex](https://www.youtube.com/user/sentdex/playlists)\n",
        "\n",
        "[/r/Python](https://www.reddit.com/r/Python/)\n",
        "\n",
        "[/r/pythontips](https://www.reddit.com/r/pythontips/)\n"
      ]
    }
  ]
}
