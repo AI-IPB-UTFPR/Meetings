{
  "nbformat": 4,
  "nbformat_minor": 0,
  "metadata": {
    "colab": {
      "name": "Python3 Intro.ipynb",
      "version": "0.3.2",
      "views": {},
      "default_view": {},
      "provenance": [],
      "collapsed_sections": [
        "qmVNlpRTKwyO",
        "g0JOzv95K4jO",
        "SKFoS0HbUZWm",
        "QwfNtfjuZgS4"
      ]
    },
    "kernelspec": {
      "name": "python3",
      "display_name": "Python 3"
    }
  },
  "cells": [
    {
      "metadata": {
        "id": "kumrB-3tUEXI",
        "colab_type": "text"
      },
      "cell_type": "markdown",
      "source": [
        "# Python3 Introdução/dicas\n",
        "\n",
        "Basedo em [Learn Python in X minutes](https://learnxinyminutes.com/docs/python3/), [Python Features and Tricks](http://sahandsaba.com/thirty-python-language-features-and-tricks-you-may-not-know.html), [](http://www.cogsci.rpi.edu/~destem/igd/python_cheat_sheet.pdf), [Python Basics](http://www.cogsci.rpi.edu/~destem/igd/python_cheat_sheet.pdf), [Python Crash Course](http://ehmatthes.github.io/pcc/cheatsheets/README.html), [Life](https://pastebin.com/gb7Mw7gg).\n",
        "\n",
        "Primeiro, [o que é Python](https://docs.python.org/3/faq/general.html#what-is-python)?\n",
        "\n",
        "[Ponto de vista em relação a sua performance.](https://twitter.com/randal_olson/status/958389805259214849)\n",
        "\n",
        "Desenvolvido por [Thiago Alves](https://github.com/AvsThiago) para o grupo de Inteligência Artificial [AI-IPB-UTFPR](https://github.com/IA-ESTiG-IPB)."
      ]
    },
    {
      "metadata": {
        "id": "YzjDL7QhdAcw",
        "colab_type": "text"
      },
      "cell_type": "markdown",
      "source": [
        "## Conteúdo"
      ]
    },
    {
      "metadata": {
        "id": "gdlFWNtiT-7o",
        "colab_type": "toc"
      },
      "cell_type": "markdown",
      "source": [
        ">[Python3 Introdução/dicas](#scrollTo=kumrB-3tUEXI)\n",
        "\n",
        ">>[Conteúdo](#scrollTo=YzjDL7QhdAcw)\n",
        "\n",
        ">>[Comentários](#scrollTo=sGpSmcIhinvA)\n",
        "\n",
        ">>[Como importar módulos e easter eggs](#scrollTo=RvE9Dj6ZdLGQ)\n",
        "\n",
        ">>[Variáveis](#scrollTo=H2bqSzlf0Fep)\n",
        "\n",
        ">>[Função Print e Input](#scrollTo=8V9av8Vu1jYF)\n",
        "\n",
        ">>[Tipos primititivos e operadores](#scrollTo=oU0Cxq1FkdOB)\n",
        "\n",
        ">>>[A matemática funciona como deveria](#scrollTo=UQ75R87ClH9n)\n",
        "\n",
        ">>>[Observações sobre divisão](#scrollTo=BRBuTNhBl2SO)\n",
        "\n",
        ">>>[Exponenciação e precedência](#scrollTo=7UxM4oj6oobT)\n",
        "\n",
        ">>>[Booleans](#scrollTo=69zz8I8DpNh9)\n",
        "\n",
        ">>>[Strings](#scrollTo=hlfMs9mkvdtz)\n",
        "\n",
        ">>[Collections (Listas, Dicionários, Conjuntos e Tuplas)](#scrollTo=X881cmwX-8Dd)\n",
        "\n",
        ">>>[Listas](#scrollTo=qmVNlpRTKwyO)\n",
        "\n",
        ">>>[Tuplas](#scrollTo=g0JOzv95K4jO)\n",
        "\n",
        ">>>[Conjuntos](#scrollTo=SKFoS0HbUZWm)\n",
        "\n",
        ">>>[Dicionários](#scrollTo=QwfNtfjuZgS4)\n",
        "\n",
        ">>>[Comprehensions](#scrollTo=Od4BOK_6UeLq)\n",
        "\n",
        ">>[Desvio Condicional](#scrollTo=25FQyWp1f-Iv)\n",
        "\n",
        ">>[Loops](#scrollTo=OCHtp2Roi7zh)\n",
        "\n",
        ">>[Tratamento de Exceções](#scrollTo=Su0mrbiMqxG4)\n",
        "\n",
        ">>[Gerenciamento de arquivos](#scrollTo=9tHwuZnp-QER)\n",
        "\n",
        ">>[Funções](#scrollTo=zv2-TH8u8fiJ)\n",
        "\n",
        ">>>[Funções de bloco](#scrollTo=4OC6UkZ89FRH)\n",
        "\n",
        ">>>[Funções anônimas (expressões lambda)](#scrollTo=yAOr7crB9JCl)\n",
        "\n"
      ]
    },
    {
      "metadata": {
        "id": "sGpSmcIhinvA",
        "colab_type": "text"
      },
      "cell_type": "markdown",
      "source": [
        "## Comentários"
      ]
    },
    {
      "metadata": {
        "id": "03NI_QzvjAJy",
        "colab_type": "code",
        "colab": {
          "autoexec": {
            "startup": false,
            "wait_interval": 0
          }
        }
      },
      "cell_type": "code",
      "source": [
        "# utilize o simbolo no inicio desta linha para fazer um comentário assim"
      ],
      "execution_count": 0,
      "outputs": []
    },
    {
      "metadata": {
        "id": "Tfn8gsb8jJab",
        "colab_type": "code",
        "colab": {
          "autoexec": {
            "startup": false,
            "wait_interval": 0
          }
        }
      },
      "cell_type": "code",
      "source": [
        "\"\"\"\n",
        "  Utilizando três \"s você pode criar comentários de\n",
        "  múltiplas linhas.\n",
        "  Esta estrutura é utilizada com frequência pra a criação de documentação.\n",
        "\"\"\""
      ],
      "execution_count": 0,
      "outputs": []
    },
    {
      "metadata": {
        "id": "RvE9Dj6ZdLGQ",
        "colab_type": "text"
      },
      "cell_type": "markdown",
      "source": [
        "## Como importar módulos e easter eggs"
      ]
    },
    {
      "metadata": {
        "id": "3e7C-TPifRir",
        "colab_type": "code",
        "colab": {
          "autoexec": {
            "startup": false,
            "wait_interval": 0
          }
        }
      },
      "cell_type": "code",
      "source": [
        "# primeiro import\n",
        "import __hello__"
      ],
      "execution_count": 0,
      "outputs": []
    },
    {
      "metadata": {
        "id": "fbNMwLdbWoYE",
        "colab_type": "code",
        "colab": {
          "autoexec": {
            "startup": false,
            "wait_interval": 0
          }
        }
      },
      "cell_type": "code",
      "source": [
        "# conheça o Zen of Python\n",
        "import this"
      ],
      "execution_count": 0,
      "outputs": []
    },
    {
      "metadata": {
        "id": "j6-PO07KbF8d",
        "colab_type": "code",
        "colab": {
          "autoexec": {
            "startup": false,
            "wait_interval": 0
          }
        }
      },
      "cell_type": "code",
      "source": [
        "# esse não funciona no colab :/ teste no console \n",
        "import antigravity"
      ],
      "execution_count": 0,
      "outputs": []
    },
    {
      "metadata": {
        "id": "TY0IT5phf0hT",
        "colab_type": "code",
        "colab": {
          "autoexec": {
            "startup": false,
            "wait_interval": 0
          }
        }
      },
      "cell_type": "code",
      "source": [
        "# importe o módulo braces para poder utilizar chaves em seu código Python :)  \n",
        "from __future__ import braces"
      ],
      "execution_count": 0,
      "outputs": []
    },
    {
      "metadata": {
        "id": "gZ_hKvpMf0ls",
        "colab_type": "code",
        "colab": {
          "autoexec": {
            "startup": false,
            "wait_interval": 0
          }
        }
      },
      "cell_type": "code",
      "source": [
        "# utilize 'as'  para dar um nome mais simples ao módulo (alias)\n",
        "import numpy as np"
      ],
      "execution_count": 0,
      "outputs": []
    },
    {
      "metadata": {
        "id": "wQu01Jq2Tufo",
        "colab_type": "code",
        "colab": {
          "autoexec": {
            "startup": false,
            "wait_interval": 0
          }
        }
      },
      "cell_type": "code",
      "source": [
        "# saber os métodos e atributos de um módulo\n",
        "import math\n",
        "dir(math)"
      ],
      "execution_count": 0,
      "outputs": []
    },
    {
      "metadata": {
        "id": "H2bqSzlf0Fep",
        "colab_type": "text"
      },
      "cell_type": "markdown",
      "source": [
        "## Variáveis"
      ]
    },
    {
      "metadata": {
        "id": "eRDmdLAx0r00",
        "colab_type": "code",
        "colab": {
          "autoexec": {
            "startup": false,
            "wait_interval": 0
          }
        }
      },
      "cell_type": "code",
      "source": [
        "# variáveis não precisam ser declaradas antes de seu uso, e seu tipo de dados não precisa der pré-definido\n",
        "uma_variavel = 1\n",
        "uma_variavel = 1.0\n",
        "uma_variavel = 'Ela pode receber qualquer tipo de dado depois da sua criação'\n",
        "uma_variavel = True\n",
        "uma_variavel = uma_variavel"
      ],
      "execution_count": 0,
      "outputs": []
    },
    {
      "metadata": {
        "id": "AMWTXb3G-H5M",
        "colab_type": "code",
        "colab": {
          "autoexec": {
            "startup": false,
            "wait_interval": 0
          }
        }
      },
      "cell_type": "code",
      "source": [
        "# o uso de uma variável sem valor atribuido gerará uma exception NameError\n",
        "uma_variavel = uma_variavel_nao_utilizada_anteriormente"
      ],
      "execution_count": 0,
      "outputs": []
    },
    {
      "metadata": {
        "id": "8V9av8Vu1jYF",
        "colab_type": "text"
      },
      "cell_type": "markdown",
      "source": [
        "## Função Print e Input"
      ]
    },
    {
      "metadata": {
        "id": "hUkM17J42rHQ",
        "colab_type": "code",
        "colab": {
          "autoexec": {
            "startup": false,
            "wait_interval": 0
          }
        }
      },
      "cell_type": "code",
      "source": [
        "# exemplo de print\n",
        "var_teste = 'Pessoa'\n",
        "print('olá ' + var_teste)\n",
        "\n",
        "# a linha abaixo não funciona...\n",
        "#print('olá' + 1)\n",
        "\n",
        "# ...mas com , sim...\n",
        "print('olá', 1)\n",
        "\n",
        "# ...para utilizar o + é necessário o valor inteiro ser convertido para string\n",
        "print('olá' + str(1))\n",
        "\n",
        "# por padrão é uma nova linha é colocada no final do print, mas isso pode ser mudado\n",
        "print('print', end='...')\n",
        "print('continuação')"
      ],
      "execution_count": 0,
      "outputs": []
    },
    {
      "metadata": {
        "id": "aKseBV1v_K1e",
        "colab_type": "code",
        "colab": {
          "autoexec": {
            "startup": false,
            "wait_interval": 0
          }
        }
      },
      "cell_type": "code",
      "source": [
        "# forma de receber entradas pelo console\n",
        "var_que_recebera_a_entrada = input(\"Em que você está pensando? \")\n",
        "\n",
        "print(var_que_recebera_a_entrada)"
      ],
      "execution_count": 0,
      "outputs": []
    },
    {
      "metadata": {
        "id": "oU0Cxq1FkdOB",
        "colab_type": "text"
      },
      "cell_type": "markdown",
      "source": [
        "## Tipos primititivos e operadores"
      ]
    },
    {
      "metadata": {
        "id": "UQ75R87ClH9n",
        "colab_type": "text"
      },
      "cell_type": "markdown",
      "source": [
        "### A matemática funciona como deveria"
      ]
    },
    {
      "metadata": {
        "id": "atrI-WWDlG2h",
        "colab_type": "code",
        "colab": {
          "autoexec": {
            "startup": false,
            "wait_interval": 0
          },
          "output_extras": [
            {
              "item_id": 1
            }
          ],
          "base_uri": "https://localhost:8080/",
          "height": 34
        },
        "outputId": "259f2b1d-7234-4fbe-963a-ffeb375d2c75",
        "executionInfo": {
          "status": "ok",
          "timestamp": 1521209348958,
          "user_tz": 0,
          "elapsed": 668,
          "user": {
            "displayName": "Thiago Alves",
            "photoUrl": "//lh5.googleusercontent.com/-nRKZ3rt2Ziw/AAAAAAAAAAI/AAAAAAAAArI/B_wfrnbsgxU/s50-c-k-no/photo.jpg",
            "userId": "107747883410881429000"
          }
        }
      },
      "cell_type": "code",
      "source": [
        "1+1"
      ],
      "execution_count": 1,
      "outputs": [
        {
          "output_type": "execute_result",
          "data": {
            "text/plain": [
              "2"
            ]
          },
          "metadata": {
            "tags": []
          },
          "execution_count": 1
        }
      ]
    },
    {
      "metadata": {
        "id": "onrcCKyald9d",
        "colab_type": "code",
        "colab": {
          "autoexec": {
            "startup": false,
            "wait_interval": 0
          }
        }
      },
      "cell_type": "code",
      "source": [
        "2-1"
      ],
      "execution_count": 0,
      "outputs": []
    },
    {
      "metadata": {
        "id": "_ItIpn7ilhG7",
        "colab_type": "code",
        "colab": {
          "autoexec": {
            "startup": false,
            "wait_interval": 0
          }
        }
      },
      "cell_type": "code",
      "source": [
        "5*5"
      ],
      "execution_count": 0,
      "outputs": []
    },
    {
      "metadata": {
        "id": "ZKqmEFrsll_R",
        "colab_type": "code",
        "colab": {
          "autoexec": {
            "startup": false,
            "wait_interval": 0
          }
        }
      },
      "cell_type": "code",
      "source": [
        "10/3"
      ],
      "execution_count": 0,
      "outputs": []
    },
    {
      "metadata": {
        "id": "BRBuTNhBl2SO",
        "colab_type": "text"
      },
      "cell_type": "markdown",
      "source": [
        "### Observações sobre divisão"
      ]
    },
    {
      "metadata": {
        "id": "IpTPPBpKmLjb",
        "colab_type": "code",
        "colab": {
          "autoexec": {
            "startup": false,
            "wait_interval": 0
          }
        }
      },
      "cell_type": "code",
      "source": [
        "\"\"\"\n",
        "utilize // para ter um resultado truncado, caso ambos valores sejam inteiros\n",
        "o resultado será inteiro\n",
        "\"\"\"\n",
        "5//2"
      ],
      "execution_count": 0,
      "outputs": []
    },
    {
      "metadata": {
        "id": "9n6hup2TmYiQ",
        "colab_type": "code",
        "colab": {
          "autoexec": {
            "startup": false,
            "wait_interval": 0
          }
        }
      },
      "cell_type": "code",
      "source": [
        "# o mesmo para valores negativos\n",
        "-5//2"
      ],
      "execution_count": 0,
      "outputs": []
    },
    {
      "metadata": {
        "id": "XaUGievXmert",
        "colab_type": "code",
        "colab": {
          "autoexec": {
            "startup": false,
            "wait_interval": 0
          }
        }
      },
      "cell_type": "code",
      "source": [
        "# o resultado será float para divisões entre floats...\n",
        "5.0//3.0"
      ],
      "execution_count": 0,
      "outputs": []
    },
    {
      "metadata": {
        "id": "CGYAdLiBm1O-",
        "colab_type": "code",
        "colab": {
          "autoexec": {
            "startup": false,
            "wait_interval": 0
          }
        }
      },
      "cell_type": "code",
      "source": [
        "# ...ou inteiro e float\n",
        "5//2.0"
      ],
      "execution_count": 0,
      "outputs": []
    },
    {
      "metadata": {
        "id": "tdufNblenQ7o",
        "colab_type": "code",
        "colab": {
          "autoexec": {
            "startup": false,
            "wait_interval": 0
          }
        }
      },
      "cell_type": "code",
      "source": [
        "# o resto da divisão pode ser obtido da seginte forma\n",
        "7 % 5"
      ],
      "execution_count": 0,
      "outputs": []
    },
    {
      "metadata": {
        "id": "7UxM4oj6oobT",
        "colab_type": "text"
      },
      "cell_type": "markdown",
      "source": [
        "### Exponenciação e precedência"
      ]
    },
    {
      "metadata": {
        "id": "UfFZVN3Vn3AK",
        "colab_type": "code",
        "colab": {
          "autoexec": {
            "startup": false,
            "wait_interval": 0
          }
        },
        "cellView": "code"
      },
      "cell_type": "code",
      "source": [
        "# exponenciação funciona assim: x**y sendo x a base e y o expoente\n",
        "2**5"
      ],
      "execution_count": 0,
      "outputs": []
    },
    {
      "metadata": {
        "id": "pIvS7CqDo4q6",
        "colab_type": "code",
        "colab": {
          "autoexec": {
            "startup": false,
            "wait_interval": 0
          }
        }
      },
      "cell_type": "code",
      "source": [
        "# escolha a precedência dos cálculos com parêntesis\n",
        "(2+7) / 3"
      ],
      "execution_count": 0,
      "outputs": []
    },
    {
      "metadata": {
        "id": "69zz8I8DpNh9",
        "colab_type": "text"
      },
      "cell_type": "markdown",
      "source": [
        "### Booleans"
      ]
    },
    {
      "metadata": {
        "id": "ydGXbHLMpRMB",
        "colab_type": "code",
        "colab": {
          "autoexec": {
            "startup": false,
            "wait_interval": 0
          }
        }
      },
      "cell_type": "code",
      "source": [
        "# São tipos de dados primitivos e case sensitive\n",
        "True\n",
        "False"
      ],
      "execution_count": 0,
      "outputs": []
    },
    {
      "metadata": {
        "id": "KCI-jlXepviM",
        "colab_type": "code",
        "colab": {
          "autoexec": {
            "startup": false,
            "wait_interval": 0
          }
        }
      },
      "cell_type": "code",
      "source": [
        "# negue com not\n",
        "not True"
      ],
      "execution_count": 0,
      "outputs": []
    },
    {
      "metadata": {
        "id": "Zrq4VDtWqz17",
        "colab_type": "code",
        "colab": {
          "autoexec": {
            "startup": false,
            "wait_interval": 0
          }
        }
      },
      "cell_type": "code",
      "source": [
        "# operador lógico and é and mesmo\n",
        "True and False"
      ],
      "execution_count": 0,
      "outputs": []
    },
    {
      "metadata": {
        "id": "hVC6WOtErBTO",
        "colab_type": "code",
        "colab": {
          "autoexec": {
            "startup": false,
            "wait_interval": 0
          }
        }
      },
      "cell_type": "code",
      "source": [
        "# or também é or\n",
        "False or True"
      ],
      "execution_count": 0,
      "outputs": []
    },
    {
      "metadata": {
        "id": "CVU63dmtriWo",
        "colab_type": "code",
        "colab": {
          "autoexec": {
            "startup": false,
            "wait_interval": 0
          }
        }
      },
      "cell_type": "code",
      "source": [
        "# utilizando booleans com números\n",
        "0 and 5"
      ],
      "execution_count": 0,
      "outputs": []
    },
    {
      "metadata": {
        "id": "hbTlPFTVre_D",
        "colab_type": "code",
        "colab": {
          "autoexec": {
            "startup": false,
            "wait_interval": 0
          }
        }
      },
      "cell_type": "code",
      "source": [
        "# utilizando booleans com números\n",
        "0 or 5"
      ],
      "execution_count": 0,
      "outputs": []
    },
    {
      "metadata": {
        "id": "FCqjkco1rzPH",
        "colab_type": "code",
        "colab": {
          "autoexec": {
            "startup": false,
            "wait_interval": 0
          }
        }
      },
      "cell_type": "code",
      "source": [
        "# operador de igualdade é ==\n",
        "0 == False"
      ],
      "execution_count": 0,
      "outputs": []
    },
    {
      "metadata": {
        "id": "-oXgpvGcr5MQ",
        "colab_type": "code",
        "colab": {
          "autoexec": {
            "startup": false,
            "wait_interval": 0
          }
        }
      },
      "cell_type": "code",
      "source": [
        "# operador de desigualdade é !=\n",
        "2 != 1"
      ],
      "execution_count": 0,
      "outputs": []
    },
    {
      "metadata": {
        "id": "fedcs3BpsGz8",
        "colab_type": "code",
        "colab": {
          "autoexec": {
            "startup": false,
            "wait_interval": 0
          }
        },
        "cellView": "code"
      },
      "cell_type": "code",
      "source": [
        "# outros operadores de comparação\n",
        "1 < 1\n",
        "1 > 10\n",
        "2 <= 3\n",
        "3 >= 10"
      ],
      "execution_count": 0,
      "outputs": []
    },
    {
      "metadata": {
        "id": "m34X3Ytis4c0",
        "colab_type": "code",
        "colab": {
          "autoexec": {
            "startup": false,
            "wait_interval": 0
          }
        }
      },
      "cell_type": "code",
      "source": [
        "# você pode substituir (2 < 3 and 3 < 5) por e isto se chama comparação encadeada\n",
        "2 < 3 < 5"
      ],
      "execution_count": 0,
      "outputs": []
    },
    {
      "metadata": {
        "id": "Ru9xPXzIuBwR",
        "colab_type": "code",
        "colab": {
          "autoexec": {
            "startup": false,
            "wait_interval": 0
          }
        }
      },
      "cell_type": "code",
      "source": [
        "# o operador == compara valores de objetos e o 'is' compara se são o mesmo objeto\n",
        "a = [1, 2, 3, 4]  # cria uma lista\n",
        "b = a             # b recebe o objeto lista\n",
        "b is a            # b e a possuem a mesma instância de objeto..."
      ],
      "execution_count": 0,
      "outputs": []
    },
    {
      "metadata": {
        "id": "Gk2HllVUub_0",
        "colab_type": "code",
        "colab": {
          "autoexec": {
            "startup": false,
            "wait_interval": 0
          }
        }
      },
      "cell_type": "code",
      "source": [
        "# ...b rambém possui o mesmo valor de a...\n",
        "b == a"
      ],
      "execution_count": 0,
      "outputs": []
    },
    {
      "metadata": {
        "id": "ElTOgWXzuj35",
        "colab_type": "code",
        "colab": {
          "autoexec": {
            "startup": false,
            "wait_interval": 0
          }
        }
      },
      "cell_type": "code",
      "source": [
        "# ...se b receber um novo objeto lista, mesmo que seja o mesmo de a, não serão mais o mesmo objeto...\n",
        "b = [1, 2, 3, 4]  \n",
        "b is a\n"
      ],
      "execution_count": 0,
      "outputs": []
    },
    {
      "metadata": {
        "id": "D-MfQNDCvRYl",
        "colab_type": "code",
        "colab": {
          "autoexec": {
            "startup": false,
            "wait_interval": 0
          }
        }
      },
      "cell_type": "code",
      "source": [
        "# ...mas seu conteúdo ainda será reconhecido como igual.\n",
        "b == a"
      ],
      "execution_count": 0,
      "outputs": []
    },
    {
      "metadata": {
        "id": "E3ZjjvUB8UQK",
        "colab_type": "code",
        "colab": {
          "autoexec": {
            "startup": false,
            "wait_interval": 0
          }
        }
      },
      "cell_type": "code",
      "source": [
        "# isso tudo é falso\n",
        "\n",
        "bool(0)   # => inteiro zero\n",
        "bool(\"\")  # => string vazia\n",
        "bool([])  # => lista vazia\n",
        "bool({})  # => conjunto vazio\n",
        "bool(())  # => tupla vazia"
      ],
      "execution_count": 0,
      "outputs": []
    },
    {
      "metadata": {
        "id": "hlfMs9mkvdtz",
        "colab_type": "text"
      },
      "cell_type": "markdown",
      "source": [
        "### Strings\n",
        "\n",
        "Mais informações sobre [strings](https://docs.python.org/3.6/library/string.html)."
      ]
    },
    {
      "metadata": {
        "id": "GrsPVq0zvfuP",
        "colab_type": "code",
        "colab": {
          "autoexec": {
            "startup": false,
            "wait_interval": 0
          }
        }
      },
      "cell_type": "code",
      "source": [
        "# utilize \" ou ' para criar strings\n",
        "\"Esta é 01 string\"\n",
        "'esta também'"
      ],
      "execution_count": 0,
      "outputs": []
    },
    {
      "metadata": {
        "id": "j1C41NCgvluJ",
        "colab_type": "code",
        "colab": {
          "autoexec": {
            "startup": false,
            "wait_interval": 0
          }
        }
      },
      "cell_type": "code",
      "source": [
        "\"Aspas 'simples' podem ser utilizadas dentro de duplas\"\n",
        "'O mesmo também é valido \"ao contrário\"'"
      ],
      "execution_count": 0,
      "outputs": []
    },
    {
      "metadata": {
        "id": "4WWEsBAVv_kc",
        "colab_type": "code",
        "colab": {
          "autoexec": {
            "startup": false,
            "wait_interval": 0
          }
        }
      },
      "cell_type": "code",
      "source": [
        "\"Mas aspas \"duplas com\" duplas não funcionam\"\n",
        "'nem 'simples com' simples'"
      ],
      "execution_count": 0,
      "outputs": []
    },
    {
      "metadata": {
        "id": "LTMSosvewQ4S",
        "colab_type": "code",
        "colab": {
          "autoexec": {
            "startup": false,
            "wait_interval": 0
          }
        }
      },
      "cell_type": "code",
      "source": [
        "# forma de concatenação\n",
        "\"Olá\" + ' pessoa'"
      ],
      "execution_count": 0,
      "outputs": []
    },
    {
      "metadata": {
        "id": "w3KeT3N_wi7C",
        "colab_type": "code",
        "colab": {
          "autoexec": {
            "startup": false,
            "wait_interval": 0
          }
        }
      },
      "cell_type": "code",
      "source": [
        "# outra forma de concatenação que não funciona entre strings e variáveis\n",
        "\"Olá \" \"pessoa\""
      ],
      "execution_count": 0,
      "outputs": []
    },
    {
      "metadata": {
        "id": "EQDm3lU9wtYC",
        "colab_type": "code",
        "colab": {
          "autoexec": {
            "startup": false,
            "wait_interval": 0
          }
        }
      },
      "cell_type": "code",
      "source": [
        "# strings são interpretadas como listas de caracteres\n",
        "\"Birl\"[2]"
      ],
      "execution_count": 0,
      "outputs": []
    },
    {
      "metadata": {
        "id": "CQUJCkwbw_lX",
        "colab_type": "code",
        "colab": {
          "autoexec": {
            "startup": false,
            "wait_interval": 0
          }
        }
      },
      "cell_type": "code",
      "source": [
        "# saiba o tamanho de uma string assim\n",
        "len('Spoiler, o tamanho é 22')"
      ],
      "execution_count": 0,
      "outputs": []
    },
    {
      "metadata": {
        "id": "-_Qpu9Jzz0p9",
        "colab_type": "code",
        "colab": {
          "autoexec": {
            "startup": false,
            "wait_interval": 0
          }
        }
      },
      "cell_type": "code",
      "source": [
        "# com .format é possivel concatenar variávei com strings de uma forma legível\n",
        "'{} como é {}'.format('Viu', 'possível')"
      ],
      "execution_count": 0,
      "outputs": []
    },
    {
      "metadata": {
        "id": "tXcZKEm067OJ",
        "colab_type": "code",
        "colab": {
          "autoexec": {
            "startup": false,
            "wait_interval": 0
          }
        }
      },
      "cell_type": "code",
      "source": [
        "# o uso de keywords também é válido\n",
        "'um exemplo com {keywords} {palavra} {palavra} repetidas'.format(keywords='palavras', palavra='quite')"
      ],
      "execution_count": 0,
      "outputs": []
    },
    {
      "metadata": {
        "id": "X881cmwX-8Dd",
        "colab_type": "text"
      },
      "cell_type": "markdown",
      "source": [
        "## Collections (Listas, Dicionários, Conjuntos e Tuplas)"
      ]
    },
    {
      "metadata": {
        "id": "qmVNlpRTKwyO",
        "colab_type": "text"
      },
      "cell_type": "markdown",
      "source": [
        "### Listas"
      ]
    },
    {
      "metadata": {
        "id": "eS6cr9XjAF8t",
        "colab_type": "code",
        "colab": {
          "autoexec": {
            "startup": false,
            "wait_interval": 0
          }
        },
        "cellView": "both"
      },
      "cell_type": "code",
      "source": [
        "# formas de iniciar uma lista\n",
        "lista_vazia = []\n",
        "lista_com_valores = [1, 'A', 1.0, [5, '4']]\n",
        "\n",
        "print(lista_com_valores)"
      ],
      "execution_count": 0,
      "outputs": []
    },
    {
      "metadata": {
        "id": "cmNKUzIHAjpF",
        "colab_type": "code",
        "colab": {
          "autoexec": {
            "startup": false,
            "wait_interval": 0
          }
        },
        "cellView": "both"
      },
      "cell_type": "code",
      "source": [
        "lista = []\n",
        "\n",
        "# adiciona valores na lista\n",
        "print(lista)\n",
        "lista.append(5)\n",
        "print(lista)\n",
        "lista.append('A')\n",
        "print(lista)\n",
        "\n",
        "# remove o último valor da lista\n",
        "valor_removido = lista.pop()\n",
        "print('valor removido =', valor_removido, 'lista_atual =', lista)\n",
        "\n"
      ],
      "execution_count": 0,
      "outputs": []
    },
    {
      "metadata": {
        "id": "09cjLwU_BqXw",
        "colab_type": "code",
        "colab": {
          "autoexec": {
            "startup": false,
            "wait_interval": 0
          }
        },
        "cellView": "both"
      },
      "cell_type": "code",
      "source": [
        "# seleção de valores e slicing...\n",
        "lista = [1, 2, 3, 4, 5]"
      ],
      "execution_count": 0,
      "outputs": []
    },
    {
      "metadata": {
        "id": "ZUaRPuD7ZNX5",
        "colab_type": "text"
      },
      "cell_type": "markdown",
      "source": [
        ""
      ]
    },
    {
      "metadata": {
        "id": "RyqY68OxCjP7",
        "colab_type": "code",
        "colab": {
          "autoexec": {
            "startup": false,
            "wait_interval": 0
          }
        },
        "cellView": "both"
      },
      "cell_type": "code",
      "source": [
        "# ...acessar um elemento qualquer...\n",
        "lista[3]"
      ],
      "execution_count": 0,
      "outputs": []
    },
    {
      "metadata": {
        "id": "QL9Ymu-kCll2",
        "colab_type": "code",
        "colab": {
          "autoexec": {
            "startup": false,
            "wait_interval": 0
          }
        },
        "cellView": "both"
      },
      "cell_type": "code",
      "source": [
        "# ...acessar o indexação inversa...\n",
        "lista[-2]"
      ],
      "execution_count": 0,
      "outputs": []
    },
    {
      "metadata": {
        "id": "truwqZUFCzmJ",
        "colab_type": "code",
        "colab": {
          "autoexec": {
            "startup": false,
            "wait_interval": 0
          }
        },
        "cellView": "both"
      },
      "cell_type": "code",
      "source": [
        "# ...exemplo de slice, ele inclui o primeiro index, e não o último -> ]primeiro, último]...\n",
        "lista[1:3]"
      ],
      "execution_count": 0,
      "outputs": []
    },
    {
      "metadata": {
        "id": "J4tLv9yWExqM",
        "colab_type": "code",
        "colab": {
          "autoexec": {
            "startup": false,
            "wait_interval": 0
          }
        },
        "cellView": "both"
      },
      "cell_type": "code",
      "source": [
        "# ...omite os dois primeiros valores da lista e retorna o resto...\n",
        "lista[2:]"
      ],
      "execution_count": 0,
      "outputs": []
    },
    {
      "metadata": {
        "id": "kQzepWuqE7DR",
        "colab_type": "code",
        "colab": {
          "autoexec": {
            "startup": false,
            "wait_interval": 0
          }
        },
        "cellView": "both"
      },
      "cell_type": "code",
      "source": [
        "# ...retorna os valores com índice até 3...\n",
        "lista[:3]"
      ],
      "execution_count": 0,
      "outputs": []
    },
    {
      "metadata": {
        "id": "IEOvKh9qFNGA",
        "colab_type": "code",
        "colab": {
          "autoexec": {
            "startup": false,
            "wait_interval": 0
          }
        },
        "cellView": "both"
      },
      "cell_type": "code",
      "source": [
        "# ...seleciona os indices da lista com o 'step' de 2 em 2...\n",
        "lista[::2]"
      ],
      "execution_count": 0,
      "outputs": []
    },
    {
      "metadata": {
        "id": "Wuwq6eW_Fe1R",
        "colab_type": "code",
        "colab": {
          "autoexec": {
            "startup": false,
            "wait_interval": 0
          }
        },
        "cellView": "both"
      },
      "cell_type": "code",
      "source": [
        "# ...retorna a lista de um em um, de trás para a frente, logo\n",
        "# retorna a lista invertida...\n",
        "lista[::-1]"
      ],
      "execution_count": 0,
      "outputs": []
    },
    {
      "metadata": {
        "id": "cIEtNrkdF9Ga",
        "colab_type": "code",
        "colab": {
          "autoexec": {
            "startup": false,
            "wait_interval": 0
          }
        },
        "cellView": "both"
      },
      "cell_type": "code",
      "source": [
        "# ...uma outra forma de retornar a lista invertida é a função reversed\n",
        "# mas como pode ser visto abaixo ela retorna um 'iterator' (iterators geram um valor por vez para não armazenar todos na memória) \n",
        "print(reversed(lista))\n",
        "# utilize a conversão para list caso queira ver todos valores de uma só vez...\n",
        "print(list(reversed(lista)))"
      ],
      "execution_count": 0,
      "outputs": []
    },
    {
      "metadata": {
        "id": "RGE4Y-U-G2Q4",
        "colab_type": "text"
      },
      "cell_type": "markdown",
      "source": [
        "Basicamente, a estrutura utilizada no slice é: **lista[inicio:fim:passo]**"
      ]
    },
    {
      "metadata": {
        "id": "0ueCMiJIGijN",
        "colab_type": "code",
        "colab": {
          "autoexec": {
            "startup": false,
            "wait_interval": 0
          }
        },
        "cellView": "both"
      },
      "cell_type": "code",
      "source": [
        "# realizar uma deep copy de uma list\n",
        "lista2 = lista\n",
        "print(lista2 is lista) # mesmo objeto\n",
        "\n",
        "lista2 = lista[:]\n",
        "print(lista2 is lista) # objetos diferentes, mesmo valor\n",
        "\n",
        "print(lista2)"
      ],
      "execution_count": 0,
      "outputs": []
    },
    {
      "metadata": {
        "id": "LwPs6JHjH26r",
        "colab_type": "code",
        "colab": {
          "autoexec": {
            "startup": false,
            "wait_interval": 0
          }
        },
        "cellView": "both"
      },
      "cell_type": "code",
      "source": [
        "# remoção de valor de uma lista em determinado index com del\n",
        "print(lista)\n",
        "\n",
        "del lista[2]\n",
        "\n",
        "print(lista)"
      ],
      "execution_count": 0,
      "outputs": []
    },
    {
      "metadata": {
        "id": "Z7Ez8MByIQg4",
        "colab_type": "code",
        "colab": {
          "autoexec": {
            "startup": false,
            "wait_interval": 0
          }
        },
        "cellView": "both"
      },
      "cell_type": "code",
      "source": [
        "# remoção do primeiro valor correspondente ao parâmetro informado\n",
        "# **valido com qualquel tipo de objeto que estiver dentro da lista\n",
        "lista.append(2)\n",
        "print(lista)\n",
        "\n",
        "lista.remove(2)\n",
        "print(lista)"
      ],
      "execution_count": 0,
      "outputs": []
    },
    {
      "metadata": {
        "id": "i5pks9fsI6Z_",
        "colab_type": "code",
        "colab": {
          "autoexec": {
            "startup": false,
            "wait_interval": 0
          }
        },
        "cellView": "both"
      },
      "cell_type": "code",
      "source": [
        "# caso o valor não exista na lista, um erro será gerado\n",
        "lista.remove(6)"
      ],
      "execution_count": 0,
      "outputs": []
    },
    {
      "metadata": {
        "id": "7Yu1nQN_JBeL",
        "colab_type": "code",
        "colab": {
          "autoexec": {
            "startup": false,
            "wait_interval": 0
          }
        },
        "cellView": "code"
      },
      "cell_type": "code",
      "source": [
        "#@title\n",
        "# inserir um valor em um determinado índice\n",
        "lista.insert(2, 8)\n",
        "print(lista)"
      ],
      "execution_count": 0,
      "outputs": []
    },
    {
      "metadata": {
        "id": "nCVBWoT5JYM4",
        "colab_type": "code",
        "colab": {
          "autoexec": {
            "startup": false,
            "wait_interval": 0
          }
        },
        "cellView": "code"
      },
      "cell_type": "code",
      "source": [
        "# retorna o índice da primeira ocorrência do valor passado por parâmetro\n",
        "lista.index(8)"
      ],
      "execution_count": 0,
      "outputs": []
    },
    {
      "metadata": {
        "id": "pqXrYXJyJhHX",
        "colab_type": "code",
        "colab": {
          "autoexec": {
            "startup": false,
            "wait_interval": 0
          }
        },
        "cellView": "code"
      },
      "cell_type": "code",
      "source": [
        "# concatenação de listas com +\n",
        "lista + [9, 9, 9, 9, 'gold']"
      ],
      "execution_count": 0,
      "outputs": []
    },
    {
      "metadata": {
        "id": "AenuCgy3JwDL",
        "colab_type": "code",
        "colab": {
          "autoexec": {
            "startup": false,
            "wait_interval": 0
          }
        },
        "cellView": "both"
      },
      "cell_type": "code",
      "source": [
        "# concatenação de listas com .extend()\n",
        "lista.extend([9, 9, 9, 9, 'gold'])\n",
        "\n",
        "print(lista)"
      ],
      "execution_count": 0,
      "outputs": []
    },
    {
      "metadata": {
        "id": "ZKQy1CcXKNqa",
        "colab_type": "code",
        "colab": {
          "autoexec": {
            "startup": false,
            "wait_interval": 0
          }
        },
        "cellView": "both"
      },
      "cell_type": "code",
      "source": [
        "# verificar se um valor está contido na lista com 'in'\n",
        "print(2 in lista)\n",
        "print(7 in lista)"
      ],
      "execution_count": 0,
      "outputs": []
    },
    {
      "metadata": {
        "id": "ybTQXrhZLAXN",
        "colab_type": "code",
        "colab": {
          "autoexec": {
            "startup": false,
            "wait_interval": 0
          }
        },
        "cellView": "both"
      },
      "cell_type": "code",
      "source": [
        "# len também funciona para listas\n",
        "len(lista)"
      ],
      "execution_count": 0,
      "outputs": []
    },
    {
      "metadata": {
        "id": "pWcN853zT4PF",
        "colab_type": "code",
        "colab": {
          "autoexec": {
            "startup": false,
            "wait_interval": 0
          }
        },
        "cellView": "both"
      },
      "cell_type": "code",
      "source": [
        "# para checar o valor mínimo/máximo de uma lista use min() e max()\n",
        "lista = [1, 2, 3, 4, 10]\n",
        "menor = min(lista)\n",
        "maior = max(lista)\n",
        "print(menor)\n",
        "print(maior)"
      ],
      "execution_count": 0,
      "outputs": []
    },
    {
      "metadata": {
        "id": "g0JOzv95K4jO",
        "colab_type": "text"
      },
      "cell_type": "markdown",
      "source": [
        "### Tuplas"
      ]
    },
    {
      "metadata": {
        "id": "IEd4Eus6KjF-",
        "colab_type": "code",
        "colab": {
          "autoexec": {
            "startup": false,
            "wait_interval": 0
          }
        }
      },
      "cell_type": "code",
      "source": [
        "# Tuplas são como listas, só que imutáveis\n",
        "tupla = (1, 2, 3, 4, 5)\n",
        "tupla[2]"
      ],
      "execution_count": 0,
      "outputs": []
    },
    {
      "metadata": {
        "id": "xW9xbthlLk0W",
        "colab_type": "code",
        "colab": {
          "autoexec": {
            "startup": false,
            "wait_interval": 0
          }
        }
      },
      "cell_type": "code",
      "source": [
        "# já que elas são imutáveis, elas não podem ser alteradas :P\n",
        "tupla[3] = 5"
      ],
      "execution_count": 0,
      "outputs": []
    },
    {
      "metadata": {
        "id": "EPgXpvWKLzp3",
        "colab_type": "code",
        "colab": {
          "autoexec": {
            "startup": false,
            "wait_interval": 0
          }
        }
      },
      "cell_type": "code",
      "source": [
        "# para criar tuplas com um valor é necessário uma vírgula depois do valor\n",
        "# repare nos tipos de dados quando isso não é feito\n",
        "print(  type((1))  )\n",
        "print(  type((1,)) )\n",
        "print(  type(())   )\n"
      ],
      "execution_count": 0,
      "outputs": []
    },
    {
      "metadata": {
        "id": "TbwJDMN9MWaP",
        "colab_type": "code",
        "colab": {
          "autoexec": {
            "startup": false,
            "wait_interval": 0
          }
        }
      },
      "cell_type": "code",
      "source": [
        "# a maioria das operações feitas com listas podem ser feitas com tuplas\n",
        "print(  len(tupla)         )\n",
        "print(  tupla + (4, 5, 6)  )\n",
        "print(  tupla[:2]          )\n",
        "print(  2 in tupla         )"
      ],
      "execution_count": 0,
      "outputs": []
    },
    {
      "metadata": {
        "id": "bpcMmE11M37E",
        "colab_type": "code",
        "colab": {
          "autoexec": {
            "startup": false,
            "wait_interval": 0
          }
        }
      },
      "cell_type": "code",
      "source": [
        "# os valores de uma tupla/lista podem ser *desempacotados* em variáveis\n",
        "print(tupla)\n",
        "a1, a2, a3, a4, a5 = tupla\n",
        "print(a1)\n",
        "print(a2)\n",
        "print(a3)\n",
        "print(a4)\n",
        "print(a5)"
      ],
      "execution_count": 0,
      "outputs": []
    },
    {
      "metadata": {
        "id": "HXo-2XWrNchp",
        "colab_type": "code",
        "colab": {
          "autoexec": {
            "startup": false,
            "wait_interval": 0
          }
        }
      },
      "cell_type": "code",
      "source": [
        "# com o operador star, é possível fazer coisas assim\n",
        "a, *b, c = tupla\n",
        "print(a)\n",
        "print(b)\n",
        "print(c)"
      ],
      "execution_count": 0,
      "outputs": []
    },
    {
      "metadata": {
        "id": "bABk6AiQORQ8",
        "colab_type": "code",
        "colab": {
          "autoexec": {
            "startup": false,
            "wait_interval": 0
          }
        }
      },
      "cell_type": "code",
      "source": [
        "# mesmo que não coloque parêntesis, por padrão uma tupla será criada\n",
        "a, b, c = 4, 5, 6\n",
        "print(a, '\\n', b, '\\n', c)"
      ],
      "execution_count": 0,
      "outputs": []
    },
    {
      "metadata": {
        "id": "Gg-IrKN4Pe-N",
        "colab_type": "code",
        "colab": {
          "autoexec": {
            "startup": false,
            "wait_interval": 0
          }
        }
      },
      "cell_type": "code",
      "source": [
        "# alguma dúvida como trocar o valor de duas variáveis?\n",
        "# ** Exercício: faça um algoritmo que troque os valores das variáveis abaixo sem que valores se percam\n",
        "A = 5\n",
        "B = 6\n",
        "A, B = B, A\n",
        "print(A)\n",
        "print(B)"
      ],
      "execution_count": 0,
      "outputs": []
    },
    {
      "metadata": {
        "id": "SKFoS0HbUZWm",
        "colab_type": "text"
      },
      "cell_type": "markdown",
      "source": [
        "### Conjuntos"
      ]
    },
    {
      "metadata": {
        "id": "OxDuwbGLUvs1",
        "colab_type": "code",
        "colab": {
          "autoexec": {
            "startup": false,
            "wait_interval": 0
          }
        }
      },
      "cell_type": "code",
      "source": [
        "# conjuntos, armazenam conjuntos de dados, logo, eles não se repetem\n",
        "\n",
        "# formas de iniciar um conjunto vazio\n",
        "conj_vazio1 = set()\n",
        "conj_vazio2 = {}\n",
        "\n",
        "# caso tente colocar valores repetidos, isto acontecerá\n",
        "conj = {1,1,2,2,3,3,4,4,5}\n",
        "print(conj)\n",
        "\n",
        "# adicionar valores a um conjunto\n",
        "conj.add(6)\n",
        "print(conj)"
      ],
      "execution_count": 0,
      "outputs": []
    },
    {
      "metadata": {
        "id": "uOhzkXzGXBgY",
        "colab_type": "code",
        "colab": {
          "autoexec": {
            "startup": false,
            "wait_interval": 0
          }
        }
      },
      "cell_type": "code",
      "source": [
        "# intersecção de conjuntos com & (and)\n",
        "conj_a = {1, 2, 3}\n",
        "conj_b = {2, 3, 4}\n",
        "\n",
        "inserseccao = conj_a & conj_b\n",
        "print(inserseccao)"
      ],
      "execution_count": 0,
      "outputs": []
    },
    {
      "metadata": {
        "id": "VwTBYDuXXeZ7",
        "colab_type": "code",
        "colab": {
          "autoexec": {
            "startup": false,
            "wait_interval": 0
          }
        }
      },
      "cell_type": "code",
      "source": [
        "# união de conjuntos com | (or)\n",
        "conj_a = {1, 2, 3}\n",
        "conj_b = {2, 3, 4}\n",
        "\n",
        "uniao = conj_a | conj_b\n",
        "print(uniao)"
      ],
      "execution_count": 0,
      "outputs": []
    },
    {
      "metadata": {
        "id": "bt_cb4enXvEm",
        "colab_type": "code",
        "colab": {
          "autoexec": {
            "startup": false,
            "wait_interval": 0
          }
        }
      },
      "cell_type": "code",
      "source": [
        "# diferença de conjuntos com - (tem no primeiro e não no segundo)\n",
        "conj_a = {1, 2, 3}\n",
        "conj_b = {2, 3, 4}\n",
        "\n",
        "diferenca = conj_a - conj_b\n",
        "print(diferenca)"
      ],
      "execution_count": 0,
      "outputs": []
    },
    {
      "metadata": {
        "id": "MqxIOeopX_zE",
        "colab_type": "code",
        "colab": {
          "autoexec": {
            "startup": false,
            "wait_interval": 0
          }
        }
      },
      "cell_type": "code",
      "source": [
        "# diferença simétrica de conjuntos com ^ (tem no primeiro e não no segundo ou inverso)\n",
        "conj_a = {1, 2, 3}\n",
        "conj_b = {2, 3, 4}\n",
        "\n",
        "diferenca = conj_a ^ conj_b\n",
        "print(diferenca)"
      ],
      "execution_count": 0,
      "outputs": []
    },
    {
      "metadata": {
        "id": "sat4MZeyYPqH",
        "colab_type": "code",
        "colab": {
          "autoexec": {
            "startup": false,
            "wait_interval": 0
          }
        }
      },
      "cell_type": "code",
      "source": [
        "# verifica se o segundo conjunto está contido no primeiro\n",
        "{1, 2} >= {1, 2, 3}"
      ],
      "execution_count": 0,
      "outputs": []
    },
    {
      "metadata": {
        "id": "uBz0bvq2YgiX",
        "colab_type": "code",
        "colab": {
          "autoexec": {
            "startup": false,
            "wait_interval": 0
          }
        }
      },
      "cell_type": "code",
      "source": [
        "# verifica se o primeiro conjunto é subset do segundo\n",
        "{1, 2} <= {1, 2, 3}"
      ],
      "execution_count": 0,
      "outputs": []
    },
    {
      "metadata": {
        "id": "E-zPOSMbYsTz",
        "colab_type": "code",
        "colab": {
          "autoexec": {
            "startup": false,
            "wait_interval": 0
          }
        }
      },
      "cell_type": "code",
      "source": [
        "# testa se um valor está contido em um conjunto\n",
        "print( 7 in {3, 4, 5})\n",
        "print( 5 in {3, 4, 5})"
      ],
      "execution_count": 0,
      "outputs": []
    },
    {
      "metadata": {
        "id": "QwfNtfjuZgS4",
        "colab_type": "text"
      },
      "cell_type": "markdown",
      "source": [
        "### Dicionários\n",
        "\n",
        "Armazena mapeamentos chave-valor"
      ]
    },
    {
      "metadata": {
        "id": "EqcGxoEgZm5h",
        "colab_type": "code",
        "colab": {
          "autoexec": {
            "startup": false,
            "wait_interval": 0
          }
        }
      },
      "cell_type": "code",
      "source": [
        "# dicionário vazio, semalhante a um set\n",
        "dict_vazio = {}\n",
        "dict_vazio = dict()\n"
      ],
      "execution_count": 0,
      "outputs": []
    },
    {
      "metadata": {
        "id": "6lm8lYYMZz2-",
        "colab_type": "code",
        "colab": {
          "autoexec": {
            "startup": false,
            "wait_interval": 0
          }
        }
      },
      "cell_type": "code",
      "source": [
        "# inicialização de um dicionário com valores\n",
        "dicionario = {\"chega\": 1, \"m\": 'valor de m', \"d\": 3}\n",
        "print(dicionario)\n",
        "\n",
        "# acessando uma posição de um dicionário\n",
        "print(dicionario['chega'])\n",
        "print(dicionario['m'])"
      ],
      "execution_count": 0,
      "outputs": []
    },
    {
      "metadata": {
        "id": "x2ilAaafafzi",
        "colab_type": "code",
        "colab": {
          "autoexec": {
            "startup": false,
            "wait_interval": 0
          }
        }
      },
      "cell_type": "code",
      "source": [
        "# obter keys do dicionário\n",
        "keys = list(dicionario.keys()) \n",
        "print(keys)\n",
        "\n",
        "# obter valores do dicionário\n",
        "values = list(dicionario.values()) \n",
        "print(values)"
      ],
      "execution_count": 0,
      "outputs": []
    },
    {
      "metadata": {
        "id": "os2PsBHEa_iP",
        "colab_type": "code",
        "colab": {
          "autoexec": {
            "startup": false,
            "wait_interval": 0
          }
        }
      },
      "cell_type": "code",
      "source": [
        "# testa a existência de uma chave em um dicionário\n",
        "\"chega\" in dicionario"
      ],
      "execution_count": 0,
      "outputs": []
    },
    {
      "metadata": {
        "id": "0B7Nb932bO4m",
        "colab_type": "code",
        "colab": {
          "autoexec": {
            "startup": false,
            "wait_interval": 0
          }
        }
      },
      "cell_type": "code",
      "source": [
        "# tentando acessar o valor do dicionario dessa forma resultará em erro caso ele não exista\n",
        "dicionario = {'val1': 1, 'val2': 2}\n",
        "print(dicionario['val3'])"
      ],
      "execution_count": 0,
      "outputs": []
    },
    {
      "metadata": {
        "id": "4osU44zZbkNN",
        "colab_type": "code",
        "colab": {
          "autoexec": {
            "startup": false,
            "wait_interval": 0
          }
        }
      },
      "cell_type": "code",
      "source": [
        "# com o get, o erro não será *levantado*\n",
        "dicionario = {'val1': 1, 'val2': 2}\n",
        "print(dicionario.get('val3'))\n",
        "\n",
        "# exemplo com uma chave existente\n",
        "print(dicionario.get('val2'))"
      ],
      "execution_count": 0,
      "outputs": []
    },
    {
      "metadata": {
        "id": "uCLCjI0odbZE",
        "colab_type": "code",
        "colab": {
          "autoexec": {
            "startup": false,
            "wait_interval": 0
          }
        }
      },
      "cell_type": "code",
      "source": [
        "# com o método .get() é possível inserir um valor padrão para quando uma chave não existe\n",
        "print(dicionario.get(\"val1\", 'valor padrao'))\n",
        "print(dicionario.get(\"val4\", 'valor padrao'))"
      ],
      "execution_count": 0,
      "outputs": []
    },
    {
      "metadata": {
        "id": "NkuVpnRUd8gO",
        "colab_type": "code",
        "colab": {
          "autoexec": {
            "startup": false,
            "wait_interval": 0
          }
        }
      },
      "cell_type": "code",
      "source": [
        "# use setdefault() para inserir um valor (valido apenas se o valor ainda não existe)\n",
        "dicionario = {'val1': 1, 'val2': 2}\n",
        "print(dicionario)\n",
        "dicionario.setdefault(\"val1\", 5)\n",
        "print(dicionario)\n",
        "dicionario.setdefault(\"val3\", 6)\n",
        "print(dicionario)"
      ],
      "execution_count": 0,
      "outputs": []
    },
    {
      "metadata": {
        "id": "fHmk78vpeY8j",
        "colab_type": "code",
        "colab": {
          "autoexec": {
            "startup": false,
            "wait_interval": 0
          }
        }
      },
      "cell_type": "code",
      "source": [
        "# formas de alterar valores em um dicionário\n",
        "print('anterior', dicionario)\n",
        "dicionario.update({\"val1\":4})\n",
        "print(dicionario)\n",
        "dicionario[\"val2\"] = 8\n",
        "print(dicionario)"
      ],
      "execution_count": 0,
      "outputs": []
    },
    {
      "metadata": {
        "id": "9OZ_wnYQe8il",
        "colab_type": "code",
        "colab": {
          "autoexec": {
            "startup": false,
            "wait_interval": 0
          }
        }
      },
      "cell_type": "code",
      "source": [
        "# remover valores de um dicionário\n",
        "print(dicionario)\n",
        "del dicionario[\"val1\"]\n",
        "print(dicionario)"
      ],
      "execution_count": 0,
      "outputs": []
    },
    {
      "metadata": {
        "id": "Od4BOK_6UeLq",
        "colab_type": "text"
      },
      "cell_type": "markdown",
      "source": [
        "### Comprehensions\n",
        "\n",
        "Podem ser criadas com listas, dicionários, sets e tuplas. Algumas de suas funções também podem ser implementadas utiliando as funções map() e filter() [vistas aqui](https://colab.research.google.com/drive/1ONPwarsttxBSUXY--ZLxNARkwij7gLau#scrollTo=1Q19SWWiTD97&line=5&uniqifier=1)"
      ]
    },
    {
      "metadata": {
        "id": "dmefNoEyUjUm",
        "colab_type": "code",
        "colab": {
          "autoexec": {
            "startup": false,
            "wait_interval": 0
          }
        }
      },
      "cell_type": "code",
      "source": [
        "# comprehensions podem ser utilizadas para executar funções item a item de uma collection\n",
        "# retorna uma lista com cada item acrescido de 5\n",
        "resultado = [i + 5 for i in [1, 2, 3]] \n",
        "\n",
        "print(resultado)\n",
        "\n",
        "# expressões lambda que serão vistas em breve também podem ser utilizadas\n",
        "lambda_expr = lambda x: x + 6\n",
        "result_lambda = [lambda_expr(i) for i in [1,2,3]]\n",
        "\n",
        "print(result_lambda)"
      ],
      "execution_count": 0,
      "outputs": []
    },
    {
      "metadata": {
        "id": "lHZNqSHnWS5d",
        "colab_type": "code",
        "colab": {
          "autoexec": {
            "startup": false,
            "wait_interval": 0
          }
        }
      },
      "cell_type": "code",
      "source": [
        "# filtros podem ser feitos utilizando desvios condicionais dentro de comprehensions\n",
        "# desvios condicionais serão melhores explicados na seção a seguir\n",
        "maiores_que_cinco = [i for i in [1,2,4,5,7,8] if i > 5]\n",
        "print(maiores_que_cinco)"
      ],
      "execution_count": 0,
      "outputs": []
    },
    {
      "metadata": {
        "id": "YSwUPUL7W7Pa",
        "colab_type": "code",
        "colab": {
          "autoexec": {
            "startup": false,
            "wait_interval": 0
          }
        }
      },
      "cell_type": "code",
      "source": [
        "# exemplo da criação de um conjunto utilizando comprehensions\n",
        "{x for x in 'abcddeef' if x not in 'abc'}"
      ],
      "execution_count": 0,
      "outputs": []
    },
    {
      "metadata": {
        "id": "25FQyWp1f-Iv",
        "colab_type": "text"
      },
      "cell_type": "markdown",
      "source": [
        "## Desvio Condicional"
      ]
    },
    {
      "metadata": {
        "id": "1FQ9VlISgB6-",
        "colab_type": "code",
        "colab": {
          "autoexec": {
            "startup": false,
            "wait_interval": 0
          }
        }
      },
      "cell_type": "code",
      "source": [
        "# estrutura if\n",
        "uma_variavel = 10\n",
        "\n",
        "if uma_variavel < 5:\n",
        "  print('Menor que 5')\n",
        "elif uma_variavel < 6:\n",
        "  print('Menor que 6')\n",
        "elif uma_variavel < 10:\n",
        "  print('Menor que 10')\n",
        "else:\n",
        "  print('Nenhuma das anteriores')"
      ],
      "execution_count": 0,
      "outputs": []
    },
    {
      "metadata": {
        "id": "wmH1mbqkgirx",
        "colab_type": "code",
        "colab": {
          "autoexec": {
            "startup": false,
            "wait_interval": 0
          }
        }
      },
      "cell_type": "code",
      "source": [
        "# outro exemplo\n",
        "variavel = 5\n",
        "\n",
        "if 1 < variavel < 6:\n",
        "  print('número maior que 1 e menor que 6')"
      ],
      "execution_count": 0,
      "outputs": []
    },
    {
      "metadata": {
        "id": "7IaNURUeg54S",
        "colab_type": "code",
        "colab": {
          "autoexec": {
            "startup": false,
            "wait_interval": 0
          }
        }
      },
      "cell_type": "code",
      "source": [
        "# operador \"ternário\"\n",
        "\n",
        "# resultado = se_verdadeiro if condição else se_falso\n",
        "resultado = \"Verdadeiro\" if 5 > -5 else \"Falso\"\n",
        "print(resultado)\n"
      ],
      "execution_count": 0,
      "outputs": []
    },
    {
      "metadata": {
        "id": "OCHtp2Roi7zh",
        "colab_type": "text"
      },
      "cell_type": "markdown",
      "source": [
        "## Loops"
      ]
    },
    {
      "metadata": {
        "id": "xhVd1STYi6JD",
        "colab_type": "code",
        "colab": {
          "autoexec": {
            "startup": false,
            "wait_interval": 0
          }
        }
      },
      "cell_type": "code",
      "source": [
        "# iteração sobre lista\n",
        "for valor_iterado in ['uno', 'dos', 'tres']:\n",
        "  print(valor_iterado)"
      ],
      "execution_count": 0,
      "outputs": []
    },
    {
      "metadata": {
        "id": "vrYGHpxPjUqt",
        "colab_type": "code",
        "colab": {
          "autoexec": {
            "startup": false,
            "wait_interval": 0
          }
        }
      },
      "cell_type": "code",
      "source": [
        "# iteração sobre uma lista invertida\n",
        "lista = ['sdds', 'do', 'efraim']\n",
        "\n",
        "for l in reversed(lista):\n",
        "  print(\"{} formatado\".format(l))\n"
      ],
      "execution_count": 0,
      "outputs": []
    },
    {
      "metadata": {
        "id": "9GPsuqhjj9Gw",
        "colab_type": "code",
        "colab": {
          "autoexec": {
            "startup": false,
            "wait_interval": 0
          }
        }
      },
      "cell_type": "code",
      "source": [
        "# iterar sobre um range\n",
        "for val in range(5):\n",
        "  print(val)"
      ],
      "execution_count": 0,
      "outputs": []
    },
    {
      "metadata": {
        "id": "xmPuNcgPkS03",
        "colab_type": "code",
        "colab": {
          "autoexec": {
            "startup": false,
            "wait_interval": 0
          }
        }
      },
      "cell_type": "code",
      "source": [
        "# iterar sobre um range de forma diferenciada\n",
        "for i in range(5, 10):\n",
        "  print(i)"
      ],
      "execution_count": 0,
      "outputs": []
    },
    {
      "metadata": {
        "id": "o0o0LESykix8",
        "colab_type": "code",
        "colab": {
          "autoexec": {
            "startup": false,
            "wait_interval": 0
          }
        }
      },
      "cell_type": "code",
      "source": [
        "# utilizar 'step' enquanto itera sobre um range (inicio, fim, passo)\n",
        "for i in range(1, 9, 3):\n",
        "    print(i)"
      ],
      "execution_count": 0,
      "outputs": []
    },
    {
      "metadata": {
        "id": "upV620lKkz4b",
        "colab_type": "code",
        "colab": {
          "autoexec": {
            "startup": false,
            "wait_interval": 0
          }
        }
      },
      "cell_type": "code",
      "source": [
        "# o indice iterado pode ser acessado com o enumerate\n",
        "for indice, valor in enumerate(['primeiro', 'segundo', 'segundo segundo']):\n",
        "  print('indice {} valor {}'.format(indice, valor))"
      ],
      "execution_count": 0,
      "outputs": []
    },
    {
      "metadata": {
        "id": "ZjLoelAElHEh",
        "colab_type": "code",
        "colab": {
          "autoexec": {
            "startup": false,
            "wait_interval": 0
          }
        }
      },
      "cell_type": "code",
      "source": [
        "# o comando break interrompe a execução do loop mais interno\n",
        "for i in range(10):\n",
        "  if i > 3:\n",
        "    break\n",
        "  print(i)"
      ],
      "execution_count": 0,
      "outputs": []
    },
    {
      "metadata": {
        "id": "jLN2UxiPmE3r",
        "colab_type": "code",
        "colab": {
          "autoexec": {
            "startup": false,
            "wait_interval": 0
          }
        }
      },
      "cell_type": "code",
      "source": [
        "# o comando continue termina a execução da iteração atual e vai para a próxima\n",
        "for i in range(10):\n",
        "  if i % 3 == 0: # não executa o loop caso i seja divizivel por 3 \n",
        "    continue\n",
        "  print(i)"
      ],
      "execution_count": 0,
      "outputs": []
    },
    {
      "metadata": {
        "id": "OvFNgFHNmiFR",
        "colab_type": "code",
        "colab": {
          "autoexec": {
            "startup": false,
            "wait_interval": 0
          }
        }
      },
      "cell_type": "code",
      "source": [
        "# for possui else e ele é executado caso o loob tenha terminado com sucesso (sem ser interrompido por um break)\n",
        "for i in range(3):\n",
        "  print(i)\n",
        "else:\n",
        "  print('Executado com sucesso\\n')\n",
        "\n",
        "for i in range(3):\n",
        "  print(i)\n",
        "  break\n",
        "else:\n",
        "  print('Não executado com sucesso')\n",
        "  "
      ],
      "execution_count": 0,
      "outputs": []
    },
    {
      "metadata": {
        "id": "Acd1lT81nJ2h",
        "colab_type": "code",
        "colab": {
          "autoexec": {
            "startup": false,
            "wait_interval": 0
          }
        }
      },
      "cell_type": "code",
      "source": [
        "# um uso do else\n",
        "for n in range(2, 10):\n",
        "    for x in range(2, n):\n",
        "        if n % x == 0:\n",
        "            print( n, 'igual', x, '*', n//x)\n",
        "            break\n",
        "    else:\n",
        "        # loop terminado sem encontrar um divisor\n",
        "        print(n, 'é um número primo')"
      ],
      "execution_count": 0,
      "outputs": []
    },
    {
      "metadata": {
        "id": "SaeeGic-oyWX",
        "colab_type": "code",
        "colab": {
          "autoexec": {
            "startup": false,
            "wait_interval": 0
          }
        }
      },
      "cell_type": "code",
      "source": [
        "# junte duas listas ou mais e itere sobre elas!\n",
        "lista1 = ['A', 'B', 'C']\n",
        "lista2 = [1, 2, 3]\n",
        "\n",
        "for l1, l2 in zip(lista1, lista2):\n",
        "  print(l1, l2)\n"
      ],
      "execution_count": 0,
      "outputs": []
    },
    {
      "metadata": {
        "id": "Gct6T3llpNRB",
        "colab_type": "code",
        "colab": {
          "autoexec": {
            "startup": false,
            "wait_interval": 0
          }
        }
      },
      "cell_type": "code",
      "source": [
        "# comando while, itera enquanto uma condição for verdadeira\n",
        "x = 5\n",
        "while x > 0:\n",
        "  print(x)\n",
        "  x -= 1"
      ],
      "execution_count": 0,
      "outputs": []
    },
    {
      "metadata": {
        "id": "Su0mrbiMqxG4",
        "colab_type": "text"
      },
      "cell_type": "markdown",
      "source": [
        "## Tratamento de Exceções"
      ]
    },
    {
      "metadata": {
        "id": "D16S0mIfroaS",
        "colab_type": "code",
        "colab": {
          "autoexec": {
            "startup": false,
            "wait_interval": 0
          }
        }
      },
      "cell_type": "code",
      "source": [
        "# exemplo de exceção\n",
        "try:\n",
        "    1 / 0\n",
        "except Exception as e:\n",
        "    print('ocorreu um erro', e)\n",
        "finally:\n",
        "  print('sempre executado, não obrigatório, interessante para limpar recursos')"
      ],
      "execution_count": 0,
      "outputs": []
    },
    {
      "metadata": {
        "id": "kdJf-fQssPgL",
        "colab_type": "code",
        "colab": {
          "autoexec": {
            "startup": false,
            "wait_interval": 0
          }
        }
      },
      "cell_type": "code",
      "source": [
        "#  exemplo com raise e else\n",
        "try:\n",
        "    raise 'Uma exceção qualquer'\n",
        "except Exception as e:\n",
        "    print('ocorreu um erro', e)\n",
        "else:\n",
        "  print('seria executado se desse tudo certo')"
      ],
      "execution_count": 0,
      "outputs": []
    },
    {
      "metadata": {
        "id": "06ejYIi7rEgy",
        "colab_type": "code",
        "colab": {
          "autoexec": {
            "startup": false,
            "wait_interval": 0
          }
        }
      },
      "cell_type": "code",
      "source": [
        "try:\n",
        "    # Raise com tipo de erro definido\n",
        "    raise IndexError(\"Exceção criada pq sim\")\n",
        "# trata um tipo de exceção\n",
        "except IndexError as e:\n",
        "    # pass faz com que nada seja exibido e o código siga\n",
        "    pass\n",
        "# multiplos tipos de erros podem ser tratados de uma só vez\n",
        "except (TypeError, NameError):\n",
        "    pass\n",
        "else:\n",
        "    print(\"Nenhum erro!\")\n",
        "finally:\n",
        "    print(\"Finalmente acabou!\")\n"
      ],
      "execution_count": 0,
      "outputs": []
    },
    {
      "metadata": {
        "id": "9tHwuZnp-QER",
        "colab_type": "text"
      },
      "cell_type": "markdown",
      "source": [
        "## Gerenciamento de arquivos"
      ]
    },
    {
      "metadata": {
        "id": "9vveTDWj-X-e",
        "colab_type": "text"
      },
      "cell_type": "markdown",
      "source": [
        "Para gerenciar arquivos no Google Colab [acesse aqui](https://colab.research.google.com/notebook#fileId=/v2/external/notebooks/io.ipynb&scrollTo=F1-nafvN-NwW). "
      ]
    },
    {
      "metadata": {
        "id": "aVP3UKEX_47G",
        "colab_type": "code",
        "colab": {
          "autoexec": {
            "startup": false,
            "wait_interval": 0
          }
        }
      },
      "cell_type": "code",
      "source": [
        "# cria um arquivo\n",
        "f = open('/tmp/arquivo.txt', 'w') # 'w' parâmetro que define que o arquivo esta aberto para escrita\n",
        "f.write('uma linha')\n",
        "f.write('outra linha')\n",
        "f.close\n"
      ],
      "execution_count": 0,
      "outputs": []
    },
    {
      "metadata": {
        "id": "dMM2vq_KAe7j",
        "colab_type": "code",
        "colab": {
          "autoexec": {
            "startup": false,
            "wait_interval": 0
          }
        }
      },
      "cell_type": "code",
      "source": [
        "# ler um arquivo\n",
        "\n",
        "# 'r' parâmetro que define que o arquivo esta aberto para escrita\n",
        "# 'a' também pode ser utilizado para append, \n",
        "# estes valores podem ser combinados assim Ex. 'wr'\n",
        "f = open('/tmp/arquivo.txt', 'r') \n",
        "print(list(f.readlines()))\n"
      ],
      "execution_count": 0,
      "outputs": []
    },
    {
      "metadata": {
        "id": "nDzEV-4q8GTm",
        "colab_type": "code",
        "colab": {
          "autoexec": {
            "startup": false,
            "wait_interval": 0
          }
        }
      },
      "cell_type": "code",
      "source": [
        "# com a declaração with, um contexto pode ser criado, assim, o arquivo apenas\n",
        "# estará aberto para os comandos internos ao with.\n",
        "# O .close() não precisa ser utilizado \n",
        "with open('/tmp/arquivo.txt', 'w') as f:\n",
        "  f.write('Uma linha')\n",
        "\n",
        "with open('/tmp/arquivo.txt', 'r') as f:\n",
        "  print(list(f.readlines()))\n"
      ],
      "execution_count": 0,
      "outputs": []
    },
    {
      "metadata": {
        "id": "zv2-TH8u8fiJ",
        "colab_type": "text"
      },
      "cell_type": "markdown",
      "source": [
        "## Funções"
      ]
    },
    {
      "metadata": {
        "id": "4OC6UkZ89FRH",
        "colab_type": "text"
      },
      "cell_type": "markdown",
      "source": [
        "### Funções de bloco"
      ]
    },
    {
      "metadata": {
        "id": "qDlo0Lt58h0S",
        "colab_type": "code",
        "colab": {
          "autoexec": {
            "startup": false,
            "wait_interval": 0
          }
        }
      },
      "cell_type": "code",
      "source": [
        "# criar uma função de bloco\n",
        "def subtrai(x, y):\n",
        "  return x - y"
      ],
      "execution_count": 0,
      "outputs": []
    },
    {
      "metadata": {
        "id": "WhqeZkjB9fFj",
        "colab_type": "code",
        "colab": {
          "autoexec": {
            "startup": false,
            "wait_interval": 0
          }
        }
      },
      "cell_type": "code",
      "source": [
        "# chamada da função levando em consideração a ordem dos parâmetros\n",
        "subtrai(5,3)"
      ],
      "execution_count": 0,
      "outputs": []
    },
    {
      "metadata": {
        "id": "yefXmbBf9pvG",
        "colab_type": "code",
        "colab": {
          "autoexec": {
            "startup": false,
            "wait_interval": 0
          }
        }
      },
      "cell_type": "code",
      "source": [
        "# chamada da função levando em o nome dos parâmetros\n",
        "subtrai(y=5,x=3)"
      ],
      "execution_count": 0,
      "outputs": []
    },
    {
      "metadata": {
        "id": "TC4DCzs294Qe",
        "colab_type": "code",
        "colab": {
          "autoexec": {
            "startup": false,
            "wait_interval": 0
          }
        }
      },
      "cell_type": "code",
      "source": [
        "# criar uma função que recebe um número indeterminado de parâmetros\n",
        "# o nome do parâmetro não precisa ser necessariamente args\n",
        "def print_argumentos(*args):\n",
        "  print('Os valores passados foram: ', args)\n",
        "  # exemplo de acessar somente um \n",
        "  print(\"Prinmeiro argumento: \", args[0])"
      ],
      "execution_count": 0,
      "outputs": []
    },
    {
      "metadata": {
        "id": "rSwJRaDq-KIL",
        "colab_type": "code",
        "colab": {
          "autoexec": {
            "startup": false,
            "wait_interval": 0
          }
        }
      },
      "cell_type": "code",
      "source": [
        "# chamada de uma função que aceita vários argumentos\n",
        "print_argumentos(5,3,8,9,4)"
      ],
      "execution_count": 0,
      "outputs": []
    },
    {
      "metadata": {
        "id": "2C3KJg6m_3Cc",
        "colab_type": "code",
        "colab": {
          "autoexec": {
            "startup": false,
            "wait_interval": 0
          }
        }
      },
      "cell_type": "code",
      "source": [
        "# uma função que pode receber um número indeterminado de\n",
        "# argumentos com keyword\n",
        "def args_com_nome(**kwargs):\n",
        "  return kwargs"
      ],
      "execution_count": 0,
      "outputs": []
    },
    {
      "metadata": {
        "id": "gRi1qoDaAXSa",
        "colab_type": "code",
        "colab": {
          "autoexec": {
            "startup": false,
            "wait_interval": 0
          }
        }
      },
      "cell_type": "code",
      "source": [
        "# chamada de funções com um indeterminado de argumentos keyword\n",
        "args_com_nome(primeiro='valor1', segundo=2, terceiro=3.5, ultimo=[False, True])"
      ],
      "execution_count": 0,
      "outputs": []
    },
    {
      "metadata": {
        "id": "aApoW6zOGEyn",
        "colab_type": "code",
        "colab": {
          "autoexec": {
            "startup": false,
            "wait_interval": 0
          }
        }
      },
      "cell_type": "code",
      "source": [
        "# você também pode utilizar ambos métodos em conjunto\n",
        "def ambos_metodos(*args, **kwargs):\n",
        "    print(args)\n",
        "    print(kwargs)\n",
        "    \n",
        "ambos_metodos(1,2,'tres', exemplo_kwarg='var')"
      ],
      "execution_count": 0,
      "outputs": []
    },
    {
      "metadata": {
        "id": "hYEspkJaMonn",
        "colab_type": "code",
        "colab": {
          "autoexec": {
            "startup": false,
            "wait_interval": 0
          }
        }
      },
      "cell_type": "code",
      "source": [
        "# o contrário também pode ser feito para a passagem de parâmetros para funçõe\n",
        "args = (1, 2, 3, 4)\n",
        "kwargs = {\"a\": 3, \"b\": 4}\n",
        "\n",
        "\n",
        "print_argumentos(*args)\n",
        "print('\\n')\n",
        "args_com_nome(**kwargs)"
      ],
      "execution_count": 0,
      "outputs": []
    },
    {
      "metadata": {
        "id": "Zhz8ermxNrmi",
        "colab_type": "code",
        "colab": {
          "autoexec": {
            "startup": false,
            "wait_interval": 0
          }
        }
      },
      "cell_type": "code",
      "source": [
        "# retornar múltiplos valores em uma função\n",
        "def div_mod(x, y):\n",
        "  div = x//y\n",
        "  mod = x % y\n",
        "  return div, mod\n",
        "\n",
        "# acessando a função div_mod e recuperando os resultados\n",
        "div, mod = div_mod(7,5)\n",
        "print(div)\n",
        "print(mod)"
      ],
      "execution_count": 0,
      "outputs": []
    },
    {
      "metadata": {
        "id": "rgIBWtVyO7Ad",
        "colab_type": "code",
        "colab": {
          "autoexec": {
            "startup": false,
            "wait_interval": 0
          }
        }
      },
      "cell_type": "code",
      "source": [
        "# escopo de função\n",
        "x = 5\n",
        "\n",
        "def define_x(num):\n",
        "    # a variável x é local e diverente do x declarado acima\n",
        "    x = num    \n",
        "    print(x)   \n",
        "    print('\\n')   \n",
        "\n",
        "def define_x_global(num):\n",
        "    # define a variavel x para ser a mesma internamente e externamente a função\n",
        "    global x\n",
        "    print(x)\n",
        "    x = num\n",
        "    print(x)\n",
        "\n",
        "define_x(50)\n",
        "define_x_global(30)\n"
      ],
      "execution_count": 0,
      "outputs": []
    },
    {
      "metadata": {
        "id": "sZ-dvHzCPwN8",
        "colab_type": "code",
        "colab": {
          "autoexec": {
            "startup": false,
            "wait_interval": 0
          }
        }
      },
      "cell_type": "code",
      "source": [
        "# funções first class\n",
        "def cria_somador(x):\n",
        "    def somador(y):\n",
        "        return x + y\n",
        "    return somador\n",
        "\n",
        "soma_10 = cria_somador(10)\n",
        "print(soma_10)\n",
        "soma_10(3) "
      ],
      "execution_count": 0,
      "outputs": []
    },
    {
      "metadata": {
        "id": "yAOr7crB9JCl",
        "colab_type": "text"
      },
      "cell_type": "markdown",
      "source": [
        "### Funções anônimas (expressões lambda)\n",
        "\n",
        "São basicamente funções sem nome que podem ser atribuídas a variáveis, comumente utilizadas em calbacks e nas funções map() filter() e reduce()"
      ]
    },
    {
      "metadata": {
        "id": "yM-MCv0-Jzgr",
        "colab_type": "code",
        "colab": {
          "autoexec": {
            "startup": false,
            "wait_interval": 0
          }
        }
      },
      "cell_type": "code",
      "source": [
        "# um exemplo onde x=10 e seu valor é comparado com 2\n",
        "(lambda x: x > 2)(10)"
      ],
      "execution_count": 0,
      "outputs": []
    },
    {
      "metadata": {
        "id": "ZP7lvXHvR_Ep",
        "colab_type": "code",
        "colab": {
          "autoexec": {
            "startup": false,
            "wait_interval": 0
          }
        }
      },
      "cell_type": "code",
      "source": [
        "# atribuindo uma expressão lambda a uma função\n",
        "variavel_que_recebe_expressao = lambda x, y: x * y\n",
        "variavel_que_recebe_expressao(2, 6)"
      ],
      "execution_count": 0,
      "outputs": []
    },
    {
      "metadata": {
        "id": "Nabu3K4CSd6z",
        "colab_type": "code",
        "colab": {
          "autoexec": {
            "startup": false,
            "wait_interval": 0
          }
        }
      },
      "cell_type": "code",
      "source": [
        "# exemplo map\n",
        "lista = [1,2,3]\n",
        "ex_mais_10 = lambda x: x + 10\n",
        "\n",
        "result_soma_10 = list(map(ex_mais_10, lista))\n",
        "result_soma_20 = list(map(lambda x: x + 20, lista))\n",
        "\n",
        "print(result_soma_10)\n",
        "print(result_soma_20)"
      ],
      "execution_count": 0,
      "outputs": []
    },
    {
      "metadata": {
        "id": "1Q19SWWiTD97",
        "colab_type": "code",
        "colab": {
          "autoexec": {
            "startup": false,
            "wait_interval": 0
          }
        }
      },
      "cell_type": "code",
      "source": [
        "# exemplo filter\n",
        "lista = [1,2,3,4,5,6,3]\n",
        "\n",
        "maior_que_tres = list(filter(lambda x: x > 3, lista))\n",
        "\n",
        "print(maior_que_tres)"
      ],
      "execution_count": 0,
      "outputs": []
    }
  ]
}
